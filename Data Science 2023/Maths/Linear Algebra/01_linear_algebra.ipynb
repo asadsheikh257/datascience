{
 "cells": [
  {
   "cell_type": "markdown",
   "metadata": {},
   "source": [
    "## **Linear Algebra**"
   ]
  },
  {
   "cell_type": "code",
   "execution_count": 1,
   "metadata": {},
   "outputs": [],
   "source": [
    "import numpy as np\n",
    " "
   ]
  },
  {
   "cell_type": "code",
   "execution_count": 2,
   "metadata": {},
   "outputs": [
    {
     "name": "stdout",
     "output_type": "stream",
     "text": [
      "Horizontal Vector\n",
      "[1 2 3]\n",
      "Vertical Vector\n",
      "[10 20 30]\n"
     ]
    }
   ],
   "source": [
    "list1 = [1,2,3]\n",
    "list2 = [10,20,30]\n",
    "\n",
    "vector1 = np.array(list1)\n",
    "vector2 = np.array(list2)\n",
    "\n",
    "print('Horizontal Vector')\n",
    "print(vector1)\n",
    "\n",
    "print('Vertical Vector')\n",
    "print(vector2)"
   ]
  },
  {
   "cell_type": "code",
   "execution_count": 3,
   "metadata": {},
   "outputs": [
    {
     "name": "stdout",
     "output_type": "stream",
     "text": [
      "Vector Addition    : [11 22 33]\n",
      "Vector Subtraction   : [ -9 -18 -27]\n",
      "Vector Multiplication    : [10 40 90]\n",
      "Scaler   : 2\n",
      "Scaler Multiplication    : [2 4 6]\n",
      "Vector Division  : [0.1 0.1 0.1]\n"
     ]
    }
   ],
   "source": [
    "addition = vector1 + vector2\n",
    "print('Vector Addition    : ' + str(addition))\n",
    "\n",
    "subtraction = vector1 - vector2\n",
    "print('Vector Subtraction   : ' + str(subtraction))\n",
    "\n",
    "multiplication = vector1 * vector2\n",
    "print('Vector Multiplication    : ' + str(multiplication))\n",
    "\n",
    "scaler = 2\n",
    "print('Scaler   : ' + str(scaler))\n",
    "scaler_mul = vector1 * scaler\n",
    "print('Scaler Multiplication    : ' + str(scaler_mul))\n",
    "\n",
    "division = vector1 / vector2\n",
    "print('Vector Division  : '+ str(division))"
   ]
  },
  {
   "cell_type": "code",
   "execution_count": 4,
   "metadata": {},
   "outputs": [
    {
     "name": "stdout",
     "output_type": "stream",
     "text": [
      "Dot Product  : 140\n",
      "Cross Product    : [0 0 0]\n"
     ]
    }
   ],
   "source": [
    "# Dot Product\n",
    "dot_product = vector1.dot(vector2)\n",
    "print('Dot Product  : '+ str(dot_product))\n",
    "\n",
    "# Cross Product \n",
    "cross_product = np.cross(vector1, vector2)\n",
    "print('Cross Product    : '+ str(cross_product))"
   ]
  },
  {
   "cell_type": "code",
   "execution_count": 5,
   "metadata": {},
   "outputs": [
    {
     "name": "stdout",
     "output_type": "stream",
     "text": [
      "9.0\n"
     ]
    }
   ],
   "source": [
    "# Vector Norm l1\n",
    "from numpy.linalg import norm\n",
    "\n",
    "arr = np.array([1,3,5])\n",
    "l1 = norm(arr,1)\n",
    "print(l1)"
   ]
  },
  {
   "cell_type": "code",
   "execution_count": 6,
   "metadata": {},
   "outputs": [
    {
     "name": "stdout",
     "output_type": "stream",
     "text": [
      "5.916079783099616\n"
     ]
    }
   ],
   "source": [
    "# l2\n",
    "arr = np.array([1,3,5])\n",
    "l2 = norm(arr, 2)\n",
    "print(l2)"
   ]
  },
  {
   "cell_type": "code",
   "execution_count": 7,
   "metadata": {},
   "outputs": [
    {
     "name": "stdout",
     "output_type": "stream",
     "text": [
      "5.0\n"
     ]
    }
   ],
   "source": [
    "from numpy import inf\n",
    "v = np.array([1,3,5])\n",
    "vecmax = norm(v, inf)\n",
    "print(vecmax)\n"
   ]
  },
  {
   "cell_type": "code",
   "execution_count": 8,
   "metadata": {},
   "outputs": [
    {
     "name": "stdout",
     "output_type": "stream",
     "text": [
      "Projection of vector a on b is :  [1.76923077 2.12307692 0.70769231]\n"
     ]
    }
   ],
   "source": [
    "# Vector Projection \n",
    "\n",
    "a = np.array([1,2,3])\n",
    "b = np.array([5,6,2])\n",
    "\n",
    "# finding norm of vector b\n",
    "b_norm = np.sqrt(sum(b**2))\n",
    "\n",
    "# finding dot product using np.dot()\n",
    "proj_of_a_on_b = (np.dot(a,b)/b_norm**2)*b\n",
    "\n",
    "print('Projection of vector a on b is : ' ,(proj_of_a_on_b))"
   ]
  },
  {
   "cell_type": "code",
   "execution_count": 9,
   "metadata": {},
   "outputs": [
    {
     "name": "stdout",
     "output_type": "stream",
     "text": [
      "Projection of vector b on a is :  [1.64285714 3.28571429 4.92857143]\n"
     ]
    }
   ],
   "source": [
    "a = np.array([1,2,3])\n",
    "b = np.array([5,6,2])\n",
    "\n",
    "a_norm = np.sqrt(sum(a**2))\n",
    "\n",
    "proj_of_b_on_a = (np.dot(a,b)/a_norm**2)*a\n",
    "\n",
    "print('Projection of vector b on a is : ' ,(proj_of_b_on_a))"
   ]
  },
  {
   "cell_type": "code",
   "execution_count": 10,
   "metadata": {},
   "outputs": [
    {
     "data": {
      "text/plain": [
       "array([3.42, 1.55, 3.65])"
      ]
     },
     "execution_count": 10,
     "metadata": {},
     "output_type": "execute_result"
    }
   ],
   "source": [
    "# Linear Combination of Vector\n",
    "\n",
    "x = np.array([[0,0,1],\n",
    "              [0,1,0],\n",
    "              [1,0,0]])\n",
    "y = ([3.65, 1.55, 3.42])\n",
    "scaler = np.linalg.solve(x, y)\n",
    "scaler"
   ]
  },
  {
   "cell_type": "code",
   "execution_count": 11,
   "metadata": {},
   "outputs": [
    {
     "name": "stdout",
     "output_type": "stream",
     "text": [
      "(0, 1)\n"
     ]
    }
   ],
   "source": [
    "import sympy\n",
    "\n",
    "matrix = np.array([\n",
    "    [0,5,1],\n",
    "    [0,10,0]\n",
    "])\n",
    "\n",
    "_, indexes = sympy.Matrix(matrix).T.rref()\n",
    "\n",
    "print(indexes)"
   ]
  },
  {
   "cell_type": "code",
   "execution_count": 12,
   "metadata": {},
   "outputs": [
    {
     "name": "stdout",
     "output_type": "stream",
     "text": [
      "[[ 0  5  1]\n",
      " [ 0 10  0]]\n"
     ]
    }
   ],
   "source": [
    "print(matrix[indexes, :])"
   ]
  },
  {
   "cell_type": "code",
   "execution_count": 13,
   "metadata": {},
   "outputs": [
    {
     "name": "stdout",
     "output_type": "stream",
     "text": [
      "Linearly Independent\n"
     ]
    }
   ],
   "source": [
    "if len(indexes) == 2:\n",
    "    print('Linearly Independent')\n",
    "else:\n",
    "    print('Linearly Dependent')"
   ]
  },
  {
   "cell_type": "code",
   "execution_count": 14,
   "metadata": {},
   "outputs": [],
   "source": [
    "x = np.array([\n",
    "    [1,2],\n",
    "    [4,5]\n",
    "])\n",
    "y = np.array([[7,8], [9,10]])"
   ]
  },
  {
   "cell_type": "code",
   "execution_count": 15,
   "metadata": {},
   "outputs": [
    {
     "name": "stdout",
     "output_type": "stream",
     "text": [
      "The element wise addition of matrix is : \n",
      "[[ 8 10]\n",
      " [13 15]]\n",
      "The element wise subtraction of matrix is : \n",
      "[[-6 -6]\n",
      " [-5 -5]]\n",
      "The element wise multiplication of matrix is : \n",
      "[[ 7 16]\n",
      " [36 50]]\n",
      "The element wise division of matrix is : \n",
      "[[0.14285714 0.25      ]\n",
      " [0.44444444 0.5       ]]\n",
      "The element wise square root of matrix is : \n",
      "[[1.         1.41421356]\n",
      " [2.         2.23606798]]\n",
      "The summation of all matrix element is : \n",
      "34\n",
      "The column wise summation of all matrix element is : \n",
      "[16 18]\n",
      "The row wise summation of all matrix element is : \n",
      "[15 19]\n",
      "The transpose of given matrix is : \n",
      "[[1 4]\n",
      " [2 5]]\n"
     ]
    }
   ],
   "source": [
    "print('The element wise addition of matrix is : ')\n",
    "print(np.add(x,y))\n",
    "\n",
    "print('The element wise subtraction of matrix is : ')   \n",
    "print(np.subtract(x,y))\n",
    "\n",
    "print('The element wise multiplication of matrix is : ')\n",
    "print(np.multiply(x,y))\n",
    "\n",
    "print('The element wise division of matrix is : ')\n",
    "print(np.divide(x,y))\n",
    "\n",
    "print('The element wise square root of matrix is : ')\n",
    "print(np.sqrt(x))\n",
    "\n",
    "print('The summation of all matrix element is : ')\n",
    "print(np.sum(y))\n",
    "\n",
    "print('The column wise summation of all matrix element is : ')\n",
    "print(np.sum(y,axis=0))\n",
    "\n",
    "print('The row wise summation of all matrix element is : ')\n",
    "print(np.sum(y,axis=1))\n",
    "\n",
    "print('The transpose of given matrix is : ')\n",
    "print(x.T)"
   ]
  },
  {
   "cell_type": "code",
   "execution_count": 16,
   "metadata": {},
   "outputs": [
    {
     "name": "stdout",
     "output_type": "stream",
     "text": [
      "a =  [1 2 3]\n",
      "b =  [4 5 6]\n",
      "inner :  32\n",
      "dot :  32\n"
     ]
    }
   ],
   "source": [
    "# Vectors as 1D Arrays\n",
    "\n",
    "a  = np.array([1,2,3])\n",
    "b  = np.array([4,5,6])\n",
    "\n",
    "print('a = ', a)\n",
    "print('b = ', b)\n",
    "print('inner : ', np.inner(a,b))\n",
    "print('dot : ', np.dot(a,b))"
   ]
  },
  {
   "cell_type": "code",
   "execution_count": 17,
   "metadata": {},
   "outputs": [
    {
     "name": "stdout",
     "output_type": "stream",
     "text": [
      "dot product of two ndarray objects : \n",
      "[[21 24 27]\n",
      " [47 54 61]]\n",
      "dot product of two matrix objects : \n",
      "[[21 24 27]\n",
      " [47 54 61]]\n"
     ]
    }
   ],
   "source": [
    "a = np.array([[1,2],[3,4]])\n",
    "b = np.array([[5,6,7],[8,9,10]])\n",
    "\n",
    "c = np.matrix([[1,2],[3,4]])\n",
    "d = np.matrix([[5,6,7],[8,9,10]])\n",
    "\n",
    "print('dot product of two ndarray objects : ')\n",
    "print(np.dot(a,b))\n",
    "\n",
    "print('dot product of two matrix objects : ')   \n",
    "print(np.dot(c,d))"
   ]
  },
  {
   "cell_type": "code",
   "execution_count": 18,
   "metadata": {},
   "outputs": [
    {
     "name": "stdout",
     "output_type": "stream",
     "text": [
      "operation on on ndarray objects (element wise) : \n",
      "[[ 5 12]\n",
      " [21 32]]\n",
      "operation on on matrix objects (same as np.dot()) : \n",
      "[[19 22]\n",
      " [43 50]]\n"
     ]
    }
   ],
   "source": [
    "a = np.array([[1,2],[3,4]])\n",
    "b = np.array([[5,6],[7,8]])\n",
    "\n",
    "c = np.matrix([[1,2],[3,4]])\n",
    "d = np.matrix([[5,6],[7,8]])\n",
    "\n",
    "print('operation on on ndarray objects (element wise) : ')\n",
    "print(a*b)\n",
    "\n",
    "print('operation on on matrix objects (same as np.dot()) : ')\n",
    "print(c*d)"
   ]
  }
 ],
 "metadata": {
  "kernelspec": {
   "display_name": "python",
   "language": "python",
   "name": "python3"
  },
  "language_info": {
   "codemirror_mode": {
    "name": "ipython",
    "version": 3
   },
   "file_extension": ".py",
   "mimetype": "text/x-python",
   "name": "python",
   "nbconvert_exporter": "python",
   "pygments_lexer": "ipython3",
   "version": "3.12.0"
  }
 },
 "nbformat": 4,
 "nbformat_minor": 2
}
