{
 "cells": [
  {
   "cell_type": "markdown",
   "metadata": {},
   "source": [
    "# **Nine Distance Measures**"
   ]
  },
  {
   "cell_type": "code",
   "execution_count": 1,
   "metadata": {},
   "outputs": [
    {
     "name": "stdout",
     "output_type": "stream",
     "text": [
      "Distance = 2.236068\n"
     ]
    }
   ],
   "source": [
    "# Euclidean Distance\n",
    "\n",
    "x1 = float(input('Enter x1: '))\n",
    "y1 = float(input('Enter y1: '))\n",
    "x2 = float(input('Enter x2: '))\n",
    "y2 = float(input('Enter y2: '))\n",
    "\n",
    "d = ((x2-x1)**2 + (y2-y1)**2) ** 0.5\n",
    "\n",
    "print('Distance = %f' %(d))"
   ]
  },
  {
   "cell_type": "code",
   "execution_count": 3,
   "metadata": {},
   "outputs": [
    {
     "name": "stdout",
     "output_type": "stream",
     "text": [
      "[[0.91005765]]\n"
     ]
    }
   ],
   "source": [
    "# Cosine Similarity \n",
    "import numpy as np \n",
    "from sklearn.metrics.pairwise import cosine_similarity, cosine_distances\n",
    "\n",
    "A = np.array([10,3])\n",
    "B = np.array([8,7])\n",
    "results = cosine_similarity(A.reshape(1, -1), B.reshape(1, -1))\n",
    "print(results)"
   ]
  },
  {
   "cell_type": "code",
   "execution_count": 5,
   "metadata": {},
   "outputs": [
    {
     "data": {
      "text/plain": [
       "2.0"
      ]
     },
     "execution_count": 5,
     "metadata": {},
     "output_type": "execute_result"
    }
   ],
   "source": [
    "# Hamming Distance \n",
    "from scipy.spatial.distance import hamming\n",
    "\n",
    "x = [0, 1, 1, 1, 0, 1]\n",
    "y = [0, 0, 1, 1, 0, 0]\n",
    "\n",
    "hamming(x, y) * len(x)"
   ]
  },
  {
   "cell_type": "code",
   "execution_count": 6,
   "metadata": {},
   "outputs": [
    {
     "data": {
      "text/plain": [
       "9"
      ]
     },
     "execution_count": 6,
     "metadata": {},
     "output_type": "execute_result"
    }
   ],
   "source": [
    "# Manhattan Distance\n",
    "from math import sqrt\n",
    "def manhattan(a, b):\n",
    "    return sum(abs(val1-val2) for val1, val2 in zip(a,b))\n",
    "\n",
    "A = [2, 4, 4, 6]\n",
    "B = [5, 5, 7, 8]\n",
    "manhattan(A, B)"
   ]
  },
  {
   "cell_type": "code",
   "execution_count": 7,
   "metadata": {},
   "outputs": [
    {
     "name": "stdout",
     "output_type": "stream",
     "text": [
      "3.503\n"
     ]
    }
   ],
   "source": [
    "# Minkowski Distance by user method\n",
    "from math import *\n",
    "from decimal import Decimal\n",
    "\n",
    "def p_root(value, root):\n",
    "    root_value = 1/float(root)\n",
    "    return round(Decimal(value) ** Decimal(root_value), 3)\n",
    "\n",
    "def minkowski_distance(x, y, p_value):\n",
    "    return (p_root(sum(pow(abs(a-b), p_value)\n",
    "                       for a , b in zip(x, y)), p_value))\n",
    "\n",
    "vector1 = [0, 2, 3, 4]\n",
    "vector2 = [2, 4, 3, 7]\n",
    "p = 3\n",
    "print(minkowski_distance(vector1, vector2, p))"
   ]
  },
  {
   "cell_type": "code",
   "execution_count": 11,
   "metadata": {},
   "outputs": [
    {
     "name": "stdout",
     "output_type": "stream",
     "text": [
      "13.0\n",
      "6.082762530298219\n"
     ]
    }
   ],
   "source": [
    "# Minkowski Distance by Buit in method\n",
    "from scipy.spatial import minkowski_distance\n",
    "\n",
    "row1 = [10, 20, 15, 10, 5]\n",
    "row2 = [12, 24, 18, 8, 7]\n",
    "#calculate distance (p=1)\n",
    "dist = minkowski_distance(row1, row2, 1)\n",
    "print(dist)\n",
    "#calculate distance (p=2)\n",
    "dist = minkowski_distance(row1, row2, 2)\n",
    "print(dist)"
   ]
  },
  {
   "cell_type": "code",
   "execution_count": 14,
   "metadata": {},
   "outputs": [
    {
     "name": "stdout",
     "output_type": "stream",
     "text": [
      "0.25\n"
     ]
    }
   ],
   "source": [
    "# Jaccard Distance\n",
    "A = {1, 2, 3, 5, 7}\n",
    "B = {1, 2, 4, 8, 9}\n",
    "\n",
    "def jaccard_similarity(A, B):\n",
    "    #find intersection of two sets\n",
    "    nominator = A.intersection(B)\n",
    "    #find union of two sets\n",
    "    denominator = A.union(B)\n",
    "    # take the ration of sizes\n",
    "    similarity = len(nominator)/len(denominator)\n",
    "    return similarity\n",
    "\n",
    "similarity = jaccard_similarity(A, B)\n",
    "print(similarity)"
   ]
  },
  {
   "cell_type": "code",
   "execution_count": 17,
   "metadata": {},
   "outputs": [],
   "source": [
    "# Haversine Distance\n",
    "# However you can make !pip install haversine\n",
    "# to make model in better way but i  used basic work to make you understand this\n",
    "\n",
    "from math import radians, cos, sin, asin, sqrt \n",
    "\n",
    "def haversine(lon1, lat1, lon2, lat2):\n",
    "    # convert decimal degree to radians\n",
    "    lon1, lat1, lon2, lat2 = map(radians, [lon1, lat1, lon2, lat2])\n",
    "    # haversine formula\n",
    "    dlon = lon2-lon1\n",
    "    dlat = lat2-lat1 \n",
    "    a = sin(dlat/2)**2 + cos(lat1) * cos(lat2) * sin(dlon/2) ** 2\n",
    "    c = 2 * asin(sqrt(a))\n",
    "    r = 6371 # radius of earth in kilometer\n",
    "    return c * r "
   ]
  },
  {
   "cell_type": "code",
   "execution_count": 19,
   "metadata": {},
   "outputs": [
    {
     "data": {
      "text/plain": [
       "347.32834803942626"
      ]
     },
     "execution_count": 19,
     "metadata": {},
     "output_type": "execute_result"
    }
   ],
   "source": [
    "haversine(-99.436554, 41.507483, -98.315949, 38.504048)"
   ]
  },
  {
   "cell_type": "code",
   "execution_count": 21,
   "metadata": {},
   "outputs": [
    {
     "name": "stdout",
     "output_type": "stream",
     "text": [
      "0.4884357140842496\n",
      "0.499001996007984\n"
     ]
    }
   ],
   "source": [
    "# Sorensen-Dice Index Distance\n",
    "\n",
    "import numpy as np \n",
    "np.random.seed(0)\n",
    "true = np.random.rand(10, 5, 5, 4) > 0.5\n",
    "pred = np.random.rand(10, 5, 5, 4) > 0.5\n",
    "\n",
    "def single_dice_coef(y_true, y_pred_bin):\n",
    "    #shape of y_true and y_pred_bin: (heihgt, width)\n",
    "    intersection = np.sum(y_true * y_pred_bin)\n",
    "    if (np.sum(y_true)==0) and (np.sum(y_pred_bin)==0):\n",
    "        return 1\n",
    "    return (2*intersection) / (np.sum(y_true) + np.sum(y_pred_bin))\n",
    "\n",
    "def mean_dice_coef(y_true, y_pred_bin):\n",
    "    # shape of y_true and y_pred_bin: (n_samples, height, width, n_channels)\n",
    "    batch_size = y_true.shape[0]\n",
    "    channel_num = y_true.shape[-1]\n",
    "    mean_dice_channel = 0\n",
    "    for i in range(batch_size):\n",
    "        for j in range(channel_num):\n",
    "            channel_dice = single_dice_coef(y_true[i, :, :, j], y_pred_bin[i, :, :, j])\n",
    "            mean_dice_channel += channel_dice/(channel_num*batch_size)\n",
    "    return mean_dice_channel\n",
    "\n",
    "def dice_coef2(y_true, y_pred):\n",
    "    y_true_f = y_true.flatten()\n",
    "    y_pred_f = y_pred.flatten()\n",
    "    union = np.sum(y_true_f) +  np.sum(y_pred_f)\n",
    "    if union == 0: return 1\n",
    "    intersection = np.sum(y_true_f * y_pred_f)\n",
    "    return 2. * intersection / union \n",
    "\n",
    "print(mean_dice_coef(true, pred))\n",
    "print(dice_coef2(true, pred))\n"
   ]
  },
  {
   "cell_type": "code",
   "execution_count": null,
   "metadata": {},
   "outputs": [],
   "source": []
  }
 ],
 "metadata": {
  "kernelspec": {
   "display_name": "python",
   "language": "python",
   "name": "python3"
  },
  "language_info": {
   "codemirror_mode": {
    "name": "ipython",
    "version": 3
   },
   "file_extension": ".py",
   "mimetype": "text/x-python",
   "name": "python",
   "nbconvert_exporter": "python",
   "pygments_lexer": "ipython3",
   "version": "3.12.0"
  }
 },
 "nbformat": 4,
 "nbformat_minor": 2
}
