{
 "cells": [
  {
   "cell_type": "markdown",
   "metadata": {},
   "source": [
    "# 1.0 About Author\n",
    "- Project: Apple App Store Data\n",
    "- Author: Asad Abbas\n",
    "- Code Submission Date: 04-November-2023\n",
    "- Author's Contact Info:\\\n",
    "[Email](asadsheikh257@gmail.com)\\\n",
    "[Github](https://github.com/asadsheikh257)\\\n",
    "[Kaggle](https://kaggle.com/asadsheikh257)\\\n",
    "[Linkedin](https://linkedin.com/asadsheikh257)"
   ]
  },
  {
   "cell_type": "markdown",
   "metadata": {},
   "source": [
    "# 2.0 About Data\n",
    "- Data: Apple AppStore\n",
    "- Data Age: The data was collected in the month of October 2021\n",
    "- - **Dataset:** 🔗 [*link*](https://www.kaggle.com/datasets/gauthamp10/apple-appstore-apps)\n",
    "## 2.1 Task:\n",
    "We intend to conduct an Exploratory Data Analysis (EDA) on the given dataset. The EDA will serve as the basis for the necessary Data Wrangling activities to be carried out for the purposes of data cleaning and normalization. During the coding process, we will document our observations. Ultimately, we will produce a summary and draw conclusions from our findings\n",
    "\n",
    "## 2.2 Objectives:\n",
    "The primary aim of this project is to conduct a thorough analysis of the dataset to identify significant insights. The ultimate goal is to project and emphasize customer dynamics and demands to developers and other relevant stakeholders. This will assist in driving more business towards their upcoming applications.\n",
    "\n",
    "## 2.3 Kernel Version Used:\n",
    "- Python 3.12.0"
   ]
  },
  {
   "cell_type": "markdown",
   "metadata": {},
   "source": [
    "# 3.0 Import Libraries\n",
    "- WE will use the following libraries:\n",
    "   1. Pandas: Data manipulation and anaylysis library.\n",
    "   2. Numpy: Numerical computing library.\n",
    "   3. Matplotlib: Data visualization library.\n",
    "   4. Seaborn: Statictical data visualization library.\n",
    "   5. Scipy: To provide a comprehensive set of numerical algorithms and tools for scientific computing in Python."
   ]
  },
  {
   "cell_type": "code",
   "execution_count": 122,
   "metadata": {},
   "outputs": [
    {
     "name": "stderr",
     "output_type": "stream",
     "text": [
      "UsageError: Line magic function `%matlplotlib` not found.\n"
     ]
    }
   ],
   "source": [
    "# Data manipulation libraries\n",
    "import pandas as pd\n",
    "import numpy as np\n",
    "# Visualization libraries\n",
    "import seaborn as sns\n",
    "import matplotlib.pyplot as plt\n",
    "%matlplotlib inline\n",
    "# For scientific and statistical computing\n",
    "import scipy as sp"
   ]
  },
  {
   "cell_type": "markdown",
   "metadata": {},
   "source": [
    "# 4.0 Data Loading, Exploration & Wrangling\n",
    "\n",
    "### 4.1 We will proceed as follows:\n",
    "- Load the csv file with the pandas\n",
    "- Creating the dataframe and understanding the data present in the dataset\n",
    "- Dealing with the missing values and correct the records"
   ]
  },
  {
   "cell_type": "code",
   "execution_count": 123,
   "metadata": {},
   "outputs": [],
   "source": [
    "# access csv file?\n",
    "df = pd.read_csv('appleAppData.csv')"
   ]
  },
  {
   "cell_type": "markdown",
   "metadata": {},
   "source": [
    "### 4.2 Analysing & describing the dataset\n",
    "\n",
    "- This code snippet helps you get a complete overview of your data by adjusting a key display setting in Pandas. By setting the option to show all columns,  You can ensure that no valuable information is overlooked when working with dataframes. Whether you're exploring data, conducting analysis or simply trying ot get a better sense of your data, this simple line of code can make a big difference."
   ]
  },
  {
   "cell_type": "code",
   "execution_count": 124,
   "metadata": {},
   "outputs": [],
   "source": [
    "# code for maximum column display\n",
    "pd.set_option('display.max_columns', None)"
   ]
  },
  {
   "cell_type": "code",
   "execution_count": 125,
   "metadata": {},
   "outputs": [],
   "source": [
    "# hide all warnings runtime\n",
    "import warnings\n",
    "warnings.filterwarnings('ignore')"
   ]
  },
  {
   "cell_type": "markdown",
   "metadata": {},
   "source": [
    "### 4.3 Get a sneak peek of your Data\n",
    "- with just a single line of code.\n",
    "- Quickly view the top rows of your dataset to get a sense of what you're working with, wihout having to scrool through the entire data."
   ]
  },
  {
   "cell_type": "code",
   "execution_count": 126,
   "metadata": {},
   "outputs": [
    {
     "data": {
      "text/html": [
       "<div>\n",
       "<style scoped>\n",
       "    .dataframe tbody tr th:only-of-type {\n",
       "        vertical-align: middle;\n",
       "    }\n",
       "\n",
       "    .dataframe tbody tr th {\n",
       "        vertical-align: top;\n",
       "    }\n",
       "\n",
       "    .dataframe thead th {\n",
       "        text-align: right;\n",
       "    }\n",
       "</style>\n",
       "<table border=\"1\" class=\"dataframe\">\n",
       "  <thead>\n",
       "    <tr style=\"text-align: right;\">\n",
       "      <th></th>\n",
       "      <th>App_Id</th>\n",
       "      <th>App_Name</th>\n",
       "      <th>AppStore_Url</th>\n",
       "      <th>Primary_Genre</th>\n",
       "      <th>Content_Rating</th>\n",
       "      <th>Size_Bytes</th>\n",
       "      <th>Required_IOS_Version</th>\n",
       "      <th>Released</th>\n",
       "      <th>Updated</th>\n",
       "      <th>Version</th>\n",
       "      <th>Price</th>\n",
       "      <th>Currency</th>\n",
       "      <th>Free</th>\n",
       "      <th>DeveloperId</th>\n",
       "      <th>Developer</th>\n",
       "      <th>Developer_Url</th>\n",
       "      <th>Developer_Website</th>\n",
       "      <th>Average_User_Rating</th>\n",
       "      <th>Reviews</th>\n",
       "      <th>Current_Version_Score</th>\n",
       "      <th>Current_Version_Reviews</th>\n",
       "    </tr>\n",
       "  </thead>\n",
       "  <tbody>\n",
       "    <tr>\n",
       "      <th>0</th>\n",
       "      <td>com.hkbu.arc.apaper</td>\n",
       "      <td>A+ Paper Guide</td>\n",
       "      <td>https://apps.apple.com/us/app/a-paper-guide/id...</td>\n",
       "      <td>Education</td>\n",
       "      <td>4+</td>\n",
       "      <td>21993472.0</td>\n",
       "      <td>8.0</td>\n",
       "      <td>2017-09-28T03:02:41Z</td>\n",
       "      <td>2018-12-21T21:30:36Z</td>\n",
       "      <td>1.1.2</td>\n",
       "      <td>0.00</td>\n",
       "      <td>USD</td>\n",
       "      <td>True</td>\n",
       "      <td>1375410542</td>\n",
       "      <td>HKBU ARC</td>\n",
       "      <td>https://apps.apple.com/us/developer/hkbu-arc/i...</td>\n",
       "      <td>NaN</td>\n",
       "      <td>0.0</td>\n",
       "      <td>0</td>\n",
       "      <td>0.0</td>\n",
       "      <td>0</td>\n",
       "    </tr>\n",
       "    <tr>\n",
       "      <th>1</th>\n",
       "      <td>com.dmitriev.abooks</td>\n",
       "      <td>A-Books</td>\n",
       "      <td>https://apps.apple.com/us/app/a-books/id103157...</td>\n",
       "      <td>Book</td>\n",
       "      <td>4+</td>\n",
       "      <td>13135872.0</td>\n",
       "      <td>10.0</td>\n",
       "      <td>2015-08-31T19:31:32Z</td>\n",
       "      <td>2019-07-23T20:31:09Z</td>\n",
       "      <td>1.3</td>\n",
       "      <td>0.00</td>\n",
       "      <td>USD</td>\n",
       "      <td>True</td>\n",
       "      <td>1031572001</td>\n",
       "      <td>Roman Dmitriev</td>\n",
       "      <td>https://apps.apple.com/us/developer/roman-dmit...</td>\n",
       "      <td>NaN</td>\n",
       "      <td>5.0</td>\n",
       "      <td>1</td>\n",
       "      <td>5.0</td>\n",
       "      <td>1</td>\n",
       "    </tr>\n",
       "    <tr>\n",
       "      <th>2</th>\n",
       "      <td>no.terp.abooks</td>\n",
       "      <td>A-books</td>\n",
       "      <td>https://apps.apple.com/us/app/a-books/id145702...</td>\n",
       "      <td>Book</td>\n",
       "      <td>4+</td>\n",
       "      <td>21943296.0</td>\n",
       "      <td>9.0</td>\n",
       "      <td>2021-04-14T07:00:00Z</td>\n",
       "      <td>2021-05-30T21:08:54Z</td>\n",
       "      <td>1.3.1</td>\n",
       "      <td>0.00</td>\n",
       "      <td>USD</td>\n",
       "      <td>True</td>\n",
       "      <td>1457024163</td>\n",
       "      <td>Terp AS</td>\n",
       "      <td>https://apps.apple.com/us/developer/terp-as/id...</td>\n",
       "      <td>NaN</td>\n",
       "      <td>0.0</td>\n",
       "      <td>0</td>\n",
       "      <td>0.0</td>\n",
       "      <td>0</td>\n",
       "    </tr>\n",
       "    <tr>\n",
       "      <th>3</th>\n",
       "      <td>fr.antoinettefleur.Book1</td>\n",
       "      <td>A-F Book #1</td>\n",
       "      <td>https://apps.apple.com/us/app/a-f-book-1/id500...</td>\n",
       "      <td>Book</td>\n",
       "      <td>4+</td>\n",
       "      <td>81851392.0</td>\n",
       "      <td>8.0</td>\n",
       "      <td>2012-02-10T03:40:07Z</td>\n",
       "      <td>2019-10-29T12:40:37Z</td>\n",
       "      <td>1.2</td>\n",
       "      <td>2.99</td>\n",
       "      <td>USD</td>\n",
       "      <td>False</td>\n",
       "      <td>439568839</td>\n",
       "      <td>i-editeur.com</td>\n",
       "      <td>https://apps.apple.com/us/developer/i-editeur-...</td>\n",
       "      <td>NaN</td>\n",
       "      <td>0.0</td>\n",
       "      <td>0</td>\n",
       "      <td>0.0</td>\n",
       "      <td>0</td>\n",
       "    </tr>\n",
       "    <tr>\n",
       "      <th>4</th>\n",
       "      <td>com.imonstersoft.azdictionaryios</td>\n",
       "      <td>A-Z Synonyms Dictionary</td>\n",
       "      <td>https://apps.apple.com/us/app/a-z-synonyms-dic...</td>\n",
       "      <td>Reference</td>\n",
       "      <td>4+</td>\n",
       "      <td>64692224.0</td>\n",
       "      <td>9.0</td>\n",
       "      <td>2020-12-16T08:00:00Z</td>\n",
       "      <td>2020-12-18T21:36:11Z</td>\n",
       "      <td>1.0.1</td>\n",
       "      <td>0.00</td>\n",
       "      <td>USD</td>\n",
       "      <td>True</td>\n",
       "      <td>656731821</td>\n",
       "      <td>Ngov chiheang</td>\n",
       "      <td>https://apps.apple.com/us/developer/ngov-chihe...</td>\n",
       "      <td>http://imonstersoft.com</td>\n",
       "      <td>0.0</td>\n",
       "      <td>0</td>\n",
       "      <td>0.0</td>\n",
       "      <td>0</td>\n",
       "    </tr>\n",
       "  </tbody>\n",
       "</table>\n",
       "</div>"
      ],
      "text/plain": [
       "                             App_Id                 App_Name  \\\n",
       "0               com.hkbu.arc.apaper           A+ Paper Guide   \n",
       "1               com.dmitriev.abooks                  A-Books   \n",
       "2                    no.terp.abooks                  A-books   \n",
       "3          fr.antoinettefleur.Book1              A-F Book #1   \n",
       "4  com.imonstersoft.azdictionaryios  A-Z Synonyms Dictionary   \n",
       "\n",
       "                                        AppStore_Url Primary_Genre  \\\n",
       "0  https://apps.apple.com/us/app/a-paper-guide/id...     Education   \n",
       "1  https://apps.apple.com/us/app/a-books/id103157...          Book   \n",
       "2  https://apps.apple.com/us/app/a-books/id145702...          Book   \n",
       "3  https://apps.apple.com/us/app/a-f-book-1/id500...          Book   \n",
       "4  https://apps.apple.com/us/app/a-z-synonyms-dic...     Reference   \n",
       "\n",
       "  Content_Rating  Size_Bytes Required_IOS_Version              Released  \\\n",
       "0             4+  21993472.0                  8.0  2017-09-28T03:02:41Z   \n",
       "1             4+  13135872.0                 10.0  2015-08-31T19:31:32Z   \n",
       "2             4+  21943296.0                  9.0  2021-04-14T07:00:00Z   \n",
       "3             4+  81851392.0                  8.0  2012-02-10T03:40:07Z   \n",
       "4             4+  64692224.0                  9.0  2020-12-16T08:00:00Z   \n",
       "\n",
       "                Updated Version  Price Currency   Free  DeveloperId  \\\n",
       "0  2018-12-21T21:30:36Z   1.1.2   0.00      USD   True   1375410542   \n",
       "1  2019-07-23T20:31:09Z     1.3   0.00      USD   True   1031572001   \n",
       "2  2021-05-30T21:08:54Z   1.3.1   0.00      USD   True   1457024163   \n",
       "3  2019-10-29T12:40:37Z     1.2   2.99      USD  False    439568839   \n",
       "4  2020-12-18T21:36:11Z   1.0.1   0.00      USD   True    656731821   \n",
       "\n",
       "        Developer                                      Developer_Url  \\\n",
       "0        HKBU ARC  https://apps.apple.com/us/developer/hkbu-arc/i...   \n",
       "1  Roman Dmitriev  https://apps.apple.com/us/developer/roman-dmit...   \n",
       "2         Terp AS  https://apps.apple.com/us/developer/terp-as/id...   \n",
       "3   i-editeur.com  https://apps.apple.com/us/developer/i-editeur-...   \n",
       "4   Ngov chiheang  https://apps.apple.com/us/developer/ngov-chihe...   \n",
       "\n",
       "         Developer_Website  Average_User_Rating  Reviews  \\\n",
       "0                      NaN                  0.0        0   \n",
       "1                      NaN                  5.0        1   \n",
       "2                      NaN                  0.0        0   \n",
       "3                      NaN                  0.0        0   \n",
       "4  http://imonstersoft.com                  0.0        0   \n",
       "\n",
       "   Current_Version_Score  Current_Version_Reviews  \n",
       "0                    0.0                        0  \n",
       "1                    5.0                        1  \n",
       "2                    0.0                        0  \n",
       "3                    0.0                        0  \n",
       "4                    0.0                        0  "
      ]
     },
     "execution_count": 126,
     "metadata": {},
     "output_type": "execute_result"
    }
   ],
   "source": [
    "df.head()"
   ]
  },
  {
   "cell_type": "markdown",
   "metadata": {},
   "source": [
    "### 4.4 View the column names"
   ]
  },
  {
   "cell_type": "code",
   "execution_count": 127,
   "metadata": {},
   "outputs": [
    {
     "data": {
      "text/plain": [
       "Index(['App_Id', 'App_Name', 'AppStore_Url', 'Primary_Genre', 'Content_Rating',\n",
       "       'Size_Bytes', 'Required_IOS_Version', 'Released', 'Updated', 'Version',\n",
       "       'Price', 'Currency', 'Free', 'DeveloperId', 'Developer',\n",
       "       'Developer_Url', 'Developer_Website', 'Average_User_Rating', 'Reviews',\n",
       "       'Current_Version_Score', 'Current_Version_Reviews'],\n",
       "      dtype='object')"
      ]
     },
     "execution_count": 127,
     "metadata": {},
     "output_type": "execute_result"
    }
   ],
   "source": [
    "df.columns"
   ]
  },
  {
   "cell_type": "markdown",
   "metadata": {},
   "source": [
    "### 4.5 View the shape of the dataset"
   ]
  },
  {
   "cell_type": "code",
   "execution_count": 128,
   "metadata": {},
   "outputs": [
    {
     "name": "stdout",
     "output_type": "stream",
     "text": [
      "The dataframe has 1230376 rows and 21 columns\n"
     ]
    }
   ],
   "source": [
    "print(f\"The dataframe has {df.shape[0]} rows and {df.shape[1]} columns\")"
   ]
  },
  {
   "cell_type": "markdown",
   "metadata": {},
   "source": [
    "### Observation 1\n",
    "> Attributes Released, Updated are date & time data type in UTC format.\n",
    "\n",
    "- The T doesn’t really stand for anything. It is just the separator that the ISO 8601 combined date-time format requires. \n",
    "- You can read it as an abbreviation for Time. The Z stands for the Zero timezone, as it is offset by 0 from the Coordinated Universal Time (UTC).\n",
    "  \n",
    "> Column Names Are:\n",
    "\n",
    "*'App_Id', 'App_Name', 'AppStore_Url', 'Primary_Genre', 'Content_Rating', 'Size_Bytes', 'Required_IOS_Version', 'Released', 'Updated', 'Version', 'Price', 'Currency', 'Free', 'DeveloperId', 'Developer', 'Developer_Url', 'Developer_Website', 'Average_User_Rating', 'Reviews', 'Current_Version_Score', 'Current_Version_Reviews'*"
   ]
  },
  {
   "cell_type": "code",
   "execution_count": 129,
   "metadata": {},
   "outputs": [
    {
     "name": "stdout",
     "output_type": "stream",
     "text": [
      "<class 'pandas.core.frame.DataFrame'>\n",
      "RangeIndex: 1230376 entries, 0 to 1230375\n",
      "Data columns (total 21 columns):\n",
      " #   Column                   Non-Null Count    Dtype  \n",
      "---  ------                   --------------    -----  \n",
      " 0   App_Id                   1230376 non-null  object \n",
      " 1   App_Name                 1230375 non-null  object \n",
      " 2   AppStore_Url             1230376 non-null  object \n",
      " 3   Primary_Genre            1230376 non-null  object \n",
      " 4   Content_Rating           1230376 non-null  object \n",
      " 5   Size_Bytes               1230152 non-null  float64\n",
      " 6   Required_IOS_Version     1230376 non-null  object \n",
      " 7   Released                 1230373 non-null  object \n",
      " 8   Updated                  1230376 non-null  object \n",
      " 9   Version                  1230376 non-null  object \n",
      " 10  Price                    1229886 non-null  float64\n",
      " 11  Currency                 1230376 non-null  object \n",
      " 12  Free                     1230376 non-null  bool   \n",
      " 13  DeveloperId              1230376 non-null  int64  \n",
      " 14  Developer                1230376 non-null  object \n",
      " 15  Developer_Url            1229267 non-null  object \n",
      " 16  Developer_Website        586388 non-null   object \n",
      " 17  Average_User_Rating      1230376 non-null  float64\n",
      " 18  Reviews                  1230376 non-null  int64  \n",
      " 19  Current_Version_Score    1230376 non-null  float64\n",
      " 20  Current_Version_Reviews  1230376 non-null  int64  \n",
      "dtypes: bool(1), float64(4), int64(3), object(13)\n",
      "memory usage: 188.9+ MB\n"
     ]
    }
   ],
   "source": [
    "df.info()"
   ]
  },
  {
   "cell_type": "markdown",
   "metadata": {},
   "source": [
    "### 4.6 Desciptive Statistics\n",
    "\n",
    "- We use descriptive statistics to summarize and understand the key features of dataset"
   ]
  },
  {
   "cell_type": "code",
   "execution_count": 130,
   "metadata": {},
   "outputs": [
    {
     "data": {
      "text/html": [
       "<div>\n",
       "<style scoped>\n",
       "    .dataframe tbody tr th:only-of-type {\n",
       "        vertical-align: middle;\n",
       "    }\n",
       "\n",
       "    .dataframe tbody tr th {\n",
       "        vertical-align: top;\n",
       "    }\n",
       "\n",
       "    .dataframe thead th {\n",
       "        text-align: right;\n",
       "    }\n",
       "</style>\n",
       "<table border=\"1\" class=\"dataframe\">\n",
       "  <thead>\n",
       "    <tr style=\"text-align: right;\">\n",
       "      <th></th>\n",
       "      <th>Size_Bytes</th>\n",
       "      <th>Price</th>\n",
       "      <th>DeveloperId</th>\n",
       "      <th>Average_User_Rating</th>\n",
       "      <th>Reviews</th>\n",
       "      <th>Current_Version_Score</th>\n",
       "      <th>Current_Version_Reviews</th>\n",
       "    </tr>\n",
       "  </thead>\n",
       "  <tbody>\n",
       "    <tr>\n",
       "      <th>count</th>\n",
       "      <td>1.230152e+06</td>\n",
       "      <td>1.229886e+06</td>\n",
       "      <td>1.230376e+06</td>\n",
       "      <td>1.230376e+06</td>\n",
       "      <td>1.230376e+06</td>\n",
       "      <td>1.230376e+06</td>\n",
       "      <td>1.230376e+06</td>\n",
       "    </tr>\n",
       "    <tr>\n",
       "      <th>mean</th>\n",
       "      <td>7.510857e+07</td>\n",
       "      <td>5.041264e-01</td>\n",
       "      <td>1.092869e+09</td>\n",
       "      <td>1.788387e+00</td>\n",
       "      <td>8.259478e+02</td>\n",
       "      <td>1.788387e+00</td>\n",
       "      <td>8.259478e+02</td>\n",
       "    </tr>\n",
       "    <tr>\n",
       "      <th>std</th>\n",
       "      <td>2.318726e+08</td>\n",
       "      <td>6.869674e+00</td>\n",
       "      <td>4.090897e+08</td>\n",
       "      <td>2.154105e+00</td>\n",
       "      <td>5.016051e+04</td>\n",
       "      <td>2.154105e+00</td>\n",
       "      <td>5.016051e+04</td>\n",
       "    </tr>\n",
       "    <tr>\n",
       "      <th>min</th>\n",
       "      <td>2.762800e+04</td>\n",
       "      <td>0.000000e+00</td>\n",
       "      <td>2.816565e+08</td>\n",
       "      <td>0.000000e+00</td>\n",
       "      <td>0.000000e+00</td>\n",
       "      <td>0.000000e+00</td>\n",
       "      <td>0.000000e+00</td>\n",
       "    </tr>\n",
       "    <tr>\n",
       "      <th>25%</th>\n",
       "      <td>2.041344e+07</td>\n",
       "      <td>0.000000e+00</td>\n",
       "      <td>7.381109e+08</td>\n",
       "      <td>0.000000e+00</td>\n",
       "      <td>0.000000e+00</td>\n",
       "      <td>0.000000e+00</td>\n",
       "      <td>0.000000e+00</td>\n",
       "    </tr>\n",
       "    <tr>\n",
       "      <th>50%</th>\n",
       "      <td>4.333158e+07</td>\n",
       "      <td>0.000000e+00</td>\n",
       "      <td>1.179711e+09</td>\n",
       "      <td>0.000000e+00</td>\n",
       "      <td>0.000000e+00</td>\n",
       "      <td>0.000000e+00</td>\n",
       "      <td>0.000000e+00</td>\n",
       "    </tr>\n",
       "    <tr>\n",
       "      <th>75%</th>\n",
       "      <td>8.365466e+07</td>\n",
       "      <td>0.000000e+00</td>\n",
       "      <td>1.471960e+09</td>\n",
       "      <td>4.333330e+00</td>\n",
       "      <td>3.000000e+00</td>\n",
       "      <td>4.333330e+00</td>\n",
       "      <td>3.000000e+00</td>\n",
       "    </tr>\n",
       "    <tr>\n",
       "      <th>max</th>\n",
       "      <td>7.677945e+10</td>\n",
       "      <td>9.999900e+02</td>\n",
       "      <td>1.590233e+09</td>\n",
       "      <td>5.000000e+00</td>\n",
       "      <td>2.268533e+07</td>\n",
       "      <td>5.000000e+00</td>\n",
       "      <td>2.268533e+07</td>\n",
       "    </tr>\n",
       "  </tbody>\n",
       "</table>\n",
       "</div>"
      ],
      "text/plain": [
       "         Size_Bytes         Price   DeveloperId  Average_User_Rating  \\\n",
       "count  1.230152e+06  1.229886e+06  1.230376e+06         1.230376e+06   \n",
       "mean   7.510857e+07  5.041264e-01  1.092869e+09         1.788387e+00   \n",
       "std    2.318726e+08  6.869674e+00  4.090897e+08         2.154105e+00   \n",
       "min    2.762800e+04  0.000000e+00  2.816565e+08         0.000000e+00   \n",
       "25%    2.041344e+07  0.000000e+00  7.381109e+08         0.000000e+00   \n",
       "50%    4.333158e+07  0.000000e+00  1.179711e+09         0.000000e+00   \n",
       "75%    8.365466e+07  0.000000e+00  1.471960e+09         4.333330e+00   \n",
       "max    7.677945e+10  9.999900e+02  1.590233e+09         5.000000e+00   \n",
       "\n",
       "            Reviews  Current_Version_Score  Current_Version_Reviews  \n",
       "count  1.230376e+06           1.230376e+06             1.230376e+06  \n",
       "mean   8.259478e+02           1.788387e+00             8.259478e+02  \n",
       "std    5.016051e+04           2.154105e+00             5.016051e+04  \n",
       "min    0.000000e+00           0.000000e+00             0.000000e+00  \n",
       "25%    0.000000e+00           0.000000e+00             0.000000e+00  \n",
       "50%    0.000000e+00           0.000000e+00             0.000000e+00  \n",
       "75%    3.000000e+00           4.333330e+00             3.000000e+00  \n",
       "max    2.268533e+07           5.000000e+00             2.268533e+07  "
      ]
     },
     "execution_count": 130,
     "metadata": {},
     "output_type": "execute_result"
    }
   ],
   "source": [
    "df.describe()"
   ]
  },
  {
   "cell_type": "markdown",
   "metadata": {},
   "source": [
    "### Observation 2\n",
    "\n",
    "- We have 7 numeric column in original dataset but as per our Observation `DeveloperID` will not be counted in numeric as it is nominal\n",
    "- Column Size_bytes contains data in Bytes. we will one column to hold the Size_bytes data to Size_Mb"
   ]
  },
  {
   "cell_type": "markdown",
   "metadata": {},
   "source": [
    "### 4.7 Missing values in the data"
   ]
  },
  {
   "cell_type": "code",
   "execution_count": 131,
   "metadata": {},
   "outputs": [
    {
     "data": {
      "text/plain": [
       "Developer_Website          643988\n",
       "Developer_Url                1109\n",
       "Price                         490\n",
       "Size_Bytes                    224\n",
       "Released                        3\n",
       "App_Name                        1\n",
       "Free                            0\n",
       "Current_Version_Score           0\n",
       "Reviews                         0\n",
       "Average_User_Rating             0\n",
       "Developer                       0\n",
       "DeveloperId                     0\n",
       "App_Id                          0\n",
       "Currency                        0\n",
       "Version                         0\n",
       "Updated                         0\n",
       "Required_IOS_Version            0\n",
       "Content_Rating                  0\n",
       "Primary_Genre                   0\n",
       "AppStore_Url                    0\n",
       "Current_Version_Reviews         0\n",
       "dtype: int64"
      ]
     },
     "execution_count": 131,
     "metadata": {},
     "output_type": "execute_result"
    }
   ],
   "source": [
    "df.isnull().sum().sort_values(ascending=False)"
   ]
  },
  {
   "cell_type": "markdown",
   "metadata": {},
   "source": [
    "# 5.0 Exploratory Data Analysis and Visualization"
   ]
  },
  {
   "cell_type": "code",
   "execution_count": 132,
   "metadata": {},
   "outputs": [
    {
     "data": {
      "text/plain": [
       "Text(0.5, 1.0, 'Missing null values')"
      ]
     },
     "execution_count": 132,
     "metadata": {},
     "output_type": "execute_result"
    },
    {
     "data": {
      "image/png": "[encoded data removed]",
      "text/plain": [
       "<Figure size 1500x600 with 1 Axes>"
      ]
     },
     "metadata": {},
     "output_type": "display_data"
    }
   ],
   "source": [
    "plt.rcParams['figure.figsize'] = (15,6)\n",
    "sns.heatmap(df.isnull(), yticklabels=False, cbar=False, cmap='viridis')\n",
    "plt.title('Missing null values')"
   ]
  },
  {
   "cell_type": "markdown",
   "metadata": {},
   "source": [
    "> **Figure-1** Provide us the visual of the missing values in dataframe 'df'"
   ]
  },
  {
   "cell_type": "markdown",
   "metadata": {},
   "source": [
    "#### Get a clearer picture of missing data with this nifty code snippet! See the percentage of null values in your dataset sorted in ascending order, making it easy to identify which features have the most missing data."
   ]
  },
  {
   "cell_type": "code",
   "execution_count": 133,
   "metadata": {},
   "outputs": [
    {
     "data": {
      "text/plain": [
       "Developer_Website          52.340748\n",
       "Developer_Url               0.090135\n",
       "Price                       0.039825\n",
       "Size_Bytes                  0.018206\n",
       "Released                    0.000244\n",
       "App_Name                    0.000081\n",
       "Free                        0.000000\n",
       "Current_Version_Score       0.000000\n",
       "Reviews                     0.000000\n",
       "Average_User_Rating         0.000000\n",
       "Developer                   0.000000\n",
       "DeveloperId                 0.000000\n",
       "App_Id                      0.000000\n",
       "Currency                    0.000000\n",
       "Version                     0.000000\n",
       "Updated                     0.000000\n",
       "Required_IOS_Version        0.000000\n",
       "Content_Rating              0.000000\n",
       "Primary_Genre               0.000000\n",
       "AppStore_Url                0.000000\n",
       "Current_Version_Reviews     0.000000\n",
       "dtype: float64"
      ]
     },
     "execution_count": 133,
     "metadata": {},
     "output_type": "execute_result"
    }
   ],
   "source": [
    "# missing values parcentage\n",
    "missing_percentage = (df.isnull().sum().sort_values(ascending=False)/len(df))*100\n",
    "missing_percentage "
   ]
  },
  {
   "cell_type": "markdown",
   "metadata": {},
   "source": [
    "### 5.1 Graphical Representation of null Percentage"
   ]
  },
  {
   "cell_type": "code",
   "execution_count": 134,
   "metadata": {},
   "outputs": [
    {
     "data": {
      "text/plain": [
       "Text(0.5, 1.0, 'Percentage of null values')"
      ]
     },
     "execution_count": 134,
     "metadata": {},
     "output_type": "execute_result"
    },
    {
     "data": {
      "image/png": "[encoded data removed]",
      "text/plain": [
       "<Figure size 2000x600 with 1 Axes>"
      ]
     },
     "metadata": {},
     "output_type": "display_data"
    }
   ],
   "source": [
    "missing_percentage = missing_percentage[missing_percentage !=0]\n",
    "plt.rcParams['figure.figsize'] = (20,6)\n",
    "missing_percentage.plot(kind='barh')\n",
    "plt.title('Percentage of null values')"
   ]
  },
  {
   "cell_type": "markdown",
   "metadata": {},
   "source": [
    "> **Figure-2** It is obvious that due to high persence of null vlaues inside Developer Website column, all other null values are not visible"
   ]
  },
  {
   "cell_type": "markdown",
   "metadata": {},
   "source": [
    "### Obersvation 3:\n",
    "> Dealing with null values\n",
    " 1. the column having highest percentage of null values is: `Developer Website`\n",
    "\n",
    "- Based on its lack of relevence and the high Number of null values associated with it, we have made that decision to drop thsi attribute from the dataset."
   ]
  },
  {
   "cell_type": "markdown",
   "metadata": {},
   "source": [
    "### Keypoint: `Developer Website`\n",
    "- We have noticed that to grow app developer must have a website also. he should be make domain website. There in dataset alot of developers did'nt mentioned their website. But this is not good way"
   ]
  },
  {
   "cell_type": "code",
   "execution_count": 135,
   "metadata": {},
   "outputs": [
    {
     "name": "stdout",
     "output_type": "stream",
     "text": [
      "<class 'pandas.core.frame.DataFrame'>\n",
      "RangeIndex: 1230376 entries, 0 to 1230375\n",
      "Data columns (total 20 columns):\n",
      " #   Column                   Non-Null Count    Dtype  \n",
      "---  ------                   --------------    -----  \n",
      " 0   App_Id                   1230376 non-null  object \n",
      " 1   App_Name                 1230375 non-null  object \n",
      " 2   AppStore_Url             1230376 non-null  object \n",
      " 3   Primary_Genre            1230376 non-null  object \n",
      " 4   Content_Rating           1230376 non-null  object \n",
      " 5   Size_Bytes               1230152 non-null  float64\n",
      " 6   Required_IOS_Version     1230376 non-null  object \n",
      " 7   Released                 1230373 non-null  object \n",
      " 8   Updated                  1230376 non-null  object \n",
      " 9   Version                  1230376 non-null  object \n",
      " 10  Price                    1229886 non-null  float64\n",
      " 11  Currency                 1230376 non-null  object \n",
      " 12  Free                     1230376 non-null  bool   \n",
      " 13  DeveloperId              1230376 non-null  int64  \n",
      " 14  Developer                1230376 non-null  object \n",
      " 15  Developer_Url            1229267 non-null  object \n",
      " 16  Average_User_Rating      1230376 non-null  float64\n",
      " 17  Reviews                  1230376 non-null  int64  \n",
      " 18  Current_Version_Score    1230376 non-null  float64\n",
      " 19  Current_Version_Reviews  1230376 non-null  int64  \n",
      "dtypes: bool(1), float64(4), int64(3), object(12)\n",
      "memory usage: 179.5+ MB\n"
     ]
    }
   ],
   "source": [
    "df.drop('Developer_Website', axis=1, inplace=True) # to drop column\n",
    "\n",
    "df.info()"
   ]
  },
  {
   "cell_type": "markdown",
   "metadata": {},
   "source": [
    "### Observation 4:\n",
    "-Price, Size_bytes are important columns so it is good to fill the null values of these"
   ]
  },
  {
   "cell_type": "code",
   "execution_count": 136,
   "metadata": {},
   "outputs": [
    {
     "data": {
      "text/plain": [
       "Developer_Url              1109\n",
       "Released                      3\n",
       "App_Name                      1\n",
       "App_Id                        0\n",
       "Currency                      0\n",
       "Current_Version_Score         0\n",
       "Reviews                       0\n",
       "Average_User_Rating           0\n",
       "Developer                     0\n",
       "DeveloperId                   0\n",
       "Free                          0\n",
       "Price                         0\n",
       "Version                       0\n",
       "Updated                       0\n",
       "Required_IOS_Version          0\n",
       "Size_Bytes                    0\n",
       "Content_Rating                0\n",
       "Primary_Genre                 0\n",
       "AppStore_Url                  0\n",
       "Current_Version_Reviews       0\n",
       "dtype: int64"
      ]
     },
     "execution_count": 136,
     "metadata": {},
     "output_type": "execute_result"
    }
   ],
   "source": [
    "# missing values dealing\n",
    "df['Price'] = df['Price'].fillna(value=df['Price'].mean())\n",
    "df['Size_Bytes'] = df['Size_Bytes'].fillna(value=df['Size_Bytes'].mean())\n",
    "\n",
    "df.isnull().sum().sort_values(ascending=False)"
   ]
  },
  {
   "cell_type": "markdown",
   "metadata": {},
   "source": [
    "### 5.2 View only htose rows where a column has null values"
   ]
  },
  {
   "cell_type": "code",
   "execution_count": 137,
   "metadata": {},
   "outputs": [
    {
     "data": {
      "text/html": [
       "<div>\n",
       "<style scoped>\n",
       "    .dataframe tbody tr th:only-of-type {\n",
       "        vertical-align: middle;\n",
       "    }\n",
       "\n",
       "    .dataframe tbody tr th {\n",
       "        vertical-align: top;\n",
       "    }\n",
       "\n",
       "    .dataframe thead th {\n",
       "        text-align: right;\n",
       "    }\n",
       "</style>\n",
       "<table border=\"1\" class=\"dataframe\">\n",
       "  <thead>\n",
       "    <tr style=\"text-align: right;\">\n",
       "      <th></th>\n",
       "      <th>App_Id</th>\n",
       "      <th>App_Name</th>\n",
       "      <th>AppStore_Url</th>\n",
       "      <th>Primary_Genre</th>\n",
       "      <th>Content_Rating</th>\n",
       "      <th>Size_Bytes</th>\n",
       "      <th>Required_IOS_Version</th>\n",
       "      <th>Released</th>\n",
       "      <th>Updated</th>\n",
       "      <th>Version</th>\n",
       "      <th>Price</th>\n",
       "      <th>Currency</th>\n",
       "      <th>Free</th>\n",
       "      <th>DeveloperId</th>\n",
       "      <th>Developer</th>\n",
       "      <th>Developer_Url</th>\n",
       "      <th>Average_User_Rating</th>\n",
       "      <th>Reviews</th>\n",
       "      <th>Current_Version_Score</th>\n",
       "      <th>Current_Version_Reviews</th>\n",
       "    </tr>\n",
       "  </thead>\n",
       "  <tbody>\n",
       "    <tr>\n",
       "      <th>264853</th>\n",
       "      <td>com.ironhidegames.frontiers.universal.premium</td>\n",
       "      <td>Kingdom Rush Frontiers TD+</td>\n",
       "      <td>https://apps.apple.com/us/app/kingdom-rush-fro...</td>\n",
       "      <td>Games</td>\n",
       "      <td>12+</td>\n",
       "      <td>7.510857e+07</td>\n",
       "      <td>13.0</td>\n",
       "      <td>NaN</td>\n",
       "      <td>2021-11-12T08:00:00Z</td>\n",
       "      <td>5.4.15</td>\n",
       "      <td>0.504126</td>\n",
       "      <td>USD</td>\n",
       "      <td>False</td>\n",
       "      <td>1542047256</td>\n",
       "      <td>Ironhide Irl</td>\n",
       "      <td>https://apps.apple.com/us/developer/ironhide-i...</td>\n",
       "      <td>0.0</td>\n",
       "      <td>0</td>\n",
       "      <td>0.0</td>\n",
       "      <td>0</td>\n",
       "    </tr>\n",
       "    <tr>\n",
       "      <th>836858</th>\n",
       "      <td>com.redgamesco.transformers</td>\n",
       "      <td>Transformers: Tactical Arena</td>\n",
       "      <td>https://apps.apple.com/us/app/transformers-tac...</td>\n",
       "      <td>Games</td>\n",
       "      <td>9+</td>\n",
       "      <td>7.510857e+07</td>\n",
       "      <td>13.5.0</td>\n",
       "      <td>NaN</td>\n",
       "      <td>2021-11-05T07:00:00Z</td>\n",
       "      <td>0.1</td>\n",
       "      <td>0.504126</td>\n",
       "      <td>USD</td>\n",
       "      <td>False</td>\n",
       "      <td>1456007507</td>\n",
       "      <td>RED GAMES CO, LLC</td>\n",
       "      <td>https://apps.apple.com/us/developer/red-games-...</td>\n",
       "      <td>0.0</td>\n",
       "      <td>0</td>\n",
       "      <td>0.0</td>\n",
       "      <td>0</td>\n",
       "    </tr>\n",
       "    <tr>\n",
       "      <th>919513</th>\n",
       "      <td>com.crayolallc.crayola-create-and-play-plus</td>\n",
       "      <td>Crayola Create and Play+</td>\n",
       "      <td>https://apps.apple.com/us/app/crayola-create-a...</td>\n",
       "      <td>Games</td>\n",
       "      <td>4+</td>\n",
       "      <td>7.510857e+07</td>\n",
       "      <td>13</td>\n",
       "      <td>NaN</td>\n",
       "      <td>2021-10-29T07:00:00Z</td>\n",
       "      <td>1.52</td>\n",
       "      <td>0.504126</td>\n",
       "      <td>USD</td>\n",
       "      <td>False</td>\n",
       "      <td>1456007507</td>\n",
       "      <td>RED GAMES CO, LLC</td>\n",
       "      <td>https://apps.apple.com/us/developer/red-games-...</td>\n",
       "      <td>0.0</td>\n",
       "      <td>0</td>\n",
       "      <td>0.0</td>\n",
       "      <td>0</td>\n",
       "    </tr>\n",
       "  </tbody>\n",
       "</table>\n",
       "</div>"
      ],
      "text/plain": [
       "                                               App_Id  \\\n",
       "264853  com.ironhidegames.frontiers.universal.premium   \n",
       "836858                    com.redgamesco.transformers   \n",
       "919513    com.crayolallc.crayola-create-and-play-plus   \n",
       "\n",
       "                            App_Name  \\\n",
       "264853    Kingdom Rush Frontiers TD+   \n",
       "836858  Transformers: Tactical Arena   \n",
       "919513      Crayola Create and Play+   \n",
       "\n",
       "                                             AppStore_Url Primary_Genre  \\\n",
       "264853  https://apps.apple.com/us/app/kingdom-rush-fro...         Games   \n",
       "836858  https://apps.apple.com/us/app/transformers-tac...         Games   \n",
       "919513  https://apps.apple.com/us/app/crayola-create-a...         Games   \n",
       "\n",
       "       Content_Rating    Size_Bytes Required_IOS_Version Released  \\\n",
       "264853            12+  7.510857e+07                 13.0      NaN   \n",
       "836858             9+  7.510857e+07               13.5.0      NaN   \n",
       "919513             4+  7.510857e+07                   13      NaN   \n",
       "\n",
       "                     Updated Version     Price Currency   Free  DeveloperId  \\\n",
       "264853  2021-11-12T08:00:00Z  5.4.15  0.504126      USD  False   1542047256   \n",
       "836858  2021-11-05T07:00:00Z     0.1  0.504126      USD  False   1456007507   \n",
       "919513  2021-10-29T07:00:00Z    1.52  0.504126      USD  False   1456007507   \n",
       "\n",
       "                Developer                                      Developer_Url  \\\n",
       "264853       Ironhide Irl  https://apps.apple.com/us/developer/ironhide-i...   \n",
       "836858  RED GAMES CO, LLC  https://apps.apple.com/us/developer/red-games-...   \n",
       "919513  RED GAMES CO, LLC  https://apps.apple.com/us/developer/red-games-...   \n",
       "\n",
       "        Average_User_Rating  Reviews  Current_Version_Score  \\\n",
       "264853                  0.0        0                    0.0   \n",
       "836858                  0.0        0                    0.0   \n",
       "919513                  0.0        0                    0.0   \n",
       "\n",
       "        Current_Version_Reviews  \n",
       "264853                        0  \n",
       "836858                        0  \n",
       "919513                        0  "
      ]
     },
     "execution_count": 137,
     "metadata": {},
     "output_type": "execute_result"
    }
   ],
   "source": [
    "df[df['Released'].isnull()].head(5)"
   ]
  },
  {
   "cell_type": "code",
   "execution_count": 138,
   "metadata": {},
   "outputs": [
    {
     "data": {
      "text/html": [
       "<div>\n",
       "<style scoped>\n",
       "    .dataframe tbody tr th:only-of-type {\n",
       "        vertical-align: middle;\n",
       "    }\n",
       "\n",
       "    .dataframe tbody tr th {\n",
       "        vertical-align: top;\n",
       "    }\n",
       "\n",
       "    .dataframe thead th {\n",
       "        text-align: right;\n",
       "    }\n",
       "</style>\n",
       "<table border=\"1\" class=\"dataframe\">\n",
       "  <thead>\n",
       "    <tr style=\"text-align: right;\">\n",
       "      <th></th>\n",
       "      <th>App_Id</th>\n",
       "      <th>App_Name</th>\n",
       "      <th>AppStore_Url</th>\n",
       "      <th>Primary_Genre</th>\n",
       "      <th>Content_Rating</th>\n",
       "      <th>Size_Bytes</th>\n",
       "      <th>Required_IOS_Version</th>\n",
       "      <th>Released</th>\n",
       "      <th>Updated</th>\n",
       "      <th>Version</th>\n",
       "      <th>Price</th>\n",
       "      <th>Currency</th>\n",
       "      <th>Free</th>\n",
       "      <th>DeveloperId</th>\n",
       "      <th>Developer</th>\n",
       "      <th>Developer_Url</th>\n",
       "      <th>Average_User_Rating</th>\n",
       "      <th>Reviews</th>\n",
       "      <th>Current_Version_Score</th>\n",
       "      <th>Current_Version_Reviews</th>\n",
       "    </tr>\n",
       "  </thead>\n",
       "  <tbody>\n",
       "    <tr>\n",
       "      <th>2382</th>\n",
       "      <td>com.TroopAdmin2</td>\n",
       "      <td>C&amp;S Troop Admin</td>\n",
       "      <td>https://apps.apple.com/us/app/c-s-troop-admin/...</td>\n",
       "      <td>Business</td>\n",
       "      <td>4+</td>\n",
       "      <td>87355392.0</td>\n",
       "      <td>10.0</td>\n",
       "      <td>2021-06-04T07:00:00Z</td>\n",
       "      <td>2021-06-05T03:40:31Z</td>\n",
       "      <td>1.0</td>\n",
       "      <td>0.0</td>\n",
       "      <td>USD</td>\n",
       "      <td>True</td>\n",
       "      <td>1569780624</td>\n",
       "      <td>Hunter Biscuit &amp; Wolf Limited</td>\n",
       "      <td>NaN</td>\n",
       "      <td>0.00000</td>\n",
       "      <td>0</td>\n",
       "      <td>0.00000</td>\n",
       "      <td>0</td>\n",
       "    </tr>\n",
       "    <tr>\n",
       "      <th>2827</th>\n",
       "      <td>com.dhrubajyoti.bangla</td>\n",
       "      <td>Bangla Rhymes</td>\n",
       "      <td>https://apps.apple.com/us/app/bangla-rhymes/id...</td>\n",
       "      <td>Education</td>\n",
       "      <td>4+</td>\n",
       "      <td>56445952.0</td>\n",
       "      <td>9.1</td>\n",
       "      <td>2019-03-23T18:27:49Z</td>\n",
       "      <td>2019-03-23T18:27:49Z</td>\n",
       "      <td>1.0.1</td>\n",
       "      <td>0.0</td>\n",
       "      <td>USD</td>\n",
       "      <td>True</td>\n",
       "      <td>1452131894</td>\n",
       "      <td>Dhrubajyoti Dey</td>\n",
       "      <td>NaN</td>\n",
       "      <td>5.00000</td>\n",
       "      <td>5</td>\n",
       "      <td>5.00000</td>\n",
       "      <td>5</td>\n",
       "    </tr>\n",
       "    <tr>\n",
       "      <th>3498</th>\n",
       "      <td>com.f1rstmotors.f1rstmotors</td>\n",
       "      <td>F1RST MOTORS</td>\n",
       "      <td>https://apps.apple.com/us/app/f1rst-motors/id1...</td>\n",
       "      <td>Business</td>\n",
       "      <td>4+</td>\n",
       "      <td>77185024.0</td>\n",
       "      <td>13.0</td>\n",
       "      <td>2021-10-06T07:00:00Z</td>\n",
       "      <td>2021-10-06T12:15:27Z</td>\n",
       "      <td>1.0</td>\n",
       "      <td>0.0</td>\n",
       "      <td>USD</td>\n",
       "      <td>True</td>\n",
       "      <td>1588267041</td>\n",
       "      <td>F1RST MOTORS LLC</td>\n",
       "      <td>NaN</td>\n",
       "      <td>0.00000</td>\n",
       "      <td>0</td>\n",
       "      <td>0.00000</td>\n",
       "      <td>0</td>\n",
       "    </tr>\n",
       "    <tr>\n",
       "      <th>5820</th>\n",
       "      <td>tr.com.okuvaryum.mobil</td>\n",
       "      <td>Okuvaryum</td>\n",
       "      <td>https://apps.apple.com/us/app/okuvaryum/id1493...</td>\n",
       "      <td>Education</td>\n",
       "      <td>4+</td>\n",
       "      <td>79869952.0</td>\n",
       "      <td>11.0</td>\n",
       "      <td>2020-01-17T08:00:00Z</td>\n",
       "      <td>2021-05-29T15:20:58Z</td>\n",
       "      <td>1.0.21</td>\n",
       "      <td>0.0</td>\n",
       "      <td>USD</td>\n",
       "      <td>True</td>\n",
       "      <td>1589915483</td>\n",
       "      <td>OKUVARYUM EGITIM VE TEKNOLOJI ANONIM SIRKETI</td>\n",
       "      <td>NaN</td>\n",
       "      <td>4.44444</td>\n",
       "      <td>9</td>\n",
       "      <td>4.44444</td>\n",
       "      <td>9</td>\n",
       "    </tr>\n",
       "    <tr>\n",
       "      <th>5821</th>\n",
       "      <td>tr.com.okuvaryum.okul</td>\n",
       "      <td>Okuvaryum Okul</td>\n",
       "      <td>https://apps.apple.com/us/app/okuvaryum-okul/i...</td>\n",
       "      <td>Education</td>\n",
       "      <td>4+</td>\n",
       "      <td>39526400.0</td>\n",
       "      <td>11.0</td>\n",
       "      <td>2021-08-25T07:00:00Z</td>\n",
       "      <td>2021-10-08T17:07:59Z</td>\n",
       "      <td>1.0.2</td>\n",
       "      <td>0.0</td>\n",
       "      <td>USD</td>\n",
       "      <td>True</td>\n",
       "      <td>1589915483</td>\n",
       "      <td>OKUVARYUM EGITIM VE TEKNOLOJI ANONIM SIRKETI</td>\n",
       "      <td>NaN</td>\n",
       "      <td>0.00000</td>\n",
       "      <td>0</td>\n",
       "      <td>0.00000</td>\n",
       "      <td>0</td>\n",
       "    </tr>\n",
       "  </tbody>\n",
       "</table>\n",
       "</div>"
      ],
      "text/plain": [
       "                           App_Id         App_Name  \\\n",
       "2382              com.TroopAdmin2  C&S Troop Admin   \n",
       "2827       com.dhrubajyoti.bangla    Bangla Rhymes   \n",
       "3498  com.f1rstmotors.f1rstmotors     F1RST MOTORS   \n",
       "5820       tr.com.okuvaryum.mobil        Okuvaryum   \n",
       "5821        tr.com.okuvaryum.okul   Okuvaryum Okul   \n",
       "\n",
       "                                           AppStore_Url Primary_Genre  \\\n",
       "2382  https://apps.apple.com/us/app/c-s-troop-admin/...      Business   \n",
       "2827  https://apps.apple.com/us/app/bangla-rhymes/id...     Education   \n",
       "3498  https://apps.apple.com/us/app/f1rst-motors/id1...      Business   \n",
       "5820  https://apps.apple.com/us/app/okuvaryum/id1493...     Education   \n",
       "5821  https://apps.apple.com/us/app/okuvaryum-okul/i...     Education   \n",
       "\n",
       "     Content_Rating  Size_Bytes Required_IOS_Version              Released  \\\n",
       "2382             4+  87355392.0                 10.0  2021-06-04T07:00:00Z   \n",
       "2827             4+  56445952.0                  9.1  2019-03-23T18:27:49Z   \n",
       "3498             4+  77185024.0                 13.0  2021-10-06T07:00:00Z   \n",
       "5820             4+  79869952.0                 11.0  2020-01-17T08:00:00Z   \n",
       "5821             4+  39526400.0                 11.0  2021-08-25T07:00:00Z   \n",
       "\n",
       "                   Updated Version  Price Currency  Free  DeveloperId  \\\n",
       "2382  2021-06-05T03:40:31Z     1.0    0.0      USD  True   1569780624   \n",
       "2827  2019-03-23T18:27:49Z   1.0.1    0.0      USD  True   1452131894   \n",
       "3498  2021-10-06T12:15:27Z     1.0    0.0      USD  True   1588267041   \n",
       "5820  2021-05-29T15:20:58Z  1.0.21    0.0      USD  True   1589915483   \n",
       "5821  2021-10-08T17:07:59Z   1.0.2    0.0      USD  True   1589915483   \n",
       "\n",
       "                                         Developer Developer_Url  \\\n",
       "2382                 Hunter Biscuit & Wolf Limited           NaN   \n",
       "2827                               Dhrubajyoti Dey           NaN   \n",
       "3498                              F1RST MOTORS LLC           NaN   \n",
       "5820  OKUVARYUM EGITIM VE TEKNOLOJI ANONIM SIRKETI           NaN   \n",
       "5821  OKUVARYUM EGITIM VE TEKNOLOJI ANONIM SIRKETI           NaN   \n",
       "\n",
       "      Average_User_Rating  Reviews  Current_Version_Score  \\\n",
       "2382              0.00000        0                0.00000   \n",
       "2827              5.00000        5                5.00000   \n",
       "3498              0.00000        0                0.00000   \n",
       "5820              4.44444        9                4.44444   \n",
       "5821              0.00000        0                0.00000   \n",
       "\n",
       "      Current_Version_Reviews  \n",
       "2382                        0  \n",
       "2827                        5  \n",
       "3498                        0  \n",
       "5820                        9  \n",
       "5821                        0  "
      ]
     },
     "execution_count": 138,
     "metadata": {},
     "output_type": "execute_result"
    }
   ],
   "source": [
    "df[df['Developer_Url'].isnull()].head()"
   ]
  },
  {
   "cell_type": "code",
   "execution_count": 139,
   "metadata": {},
   "outputs": [
    {
     "data": {
      "text/html": [
       "<div>\n",
       "<style scoped>\n",
       "    .dataframe tbody tr th:only-of-type {\n",
       "        vertical-align: middle;\n",
       "    }\n",
       "\n",
       "    .dataframe tbody tr th {\n",
       "        vertical-align: top;\n",
       "    }\n",
       "\n",
       "    .dataframe thead th {\n",
       "        text-align: right;\n",
       "    }\n",
       "</style>\n",
       "<table border=\"1\" class=\"dataframe\">\n",
       "  <thead>\n",
       "    <tr style=\"text-align: right;\">\n",
       "      <th></th>\n",
       "      <th>App_Id</th>\n",
       "      <th>App_Name</th>\n",
       "      <th>AppStore_Url</th>\n",
       "      <th>Primary_Genre</th>\n",
       "      <th>Content_Rating</th>\n",
       "      <th>Size_Bytes</th>\n",
       "      <th>Required_IOS_Version</th>\n",
       "      <th>Released</th>\n",
       "      <th>Updated</th>\n",
       "      <th>Version</th>\n",
       "      <th>Price</th>\n",
       "      <th>Currency</th>\n",
       "      <th>Free</th>\n",
       "      <th>DeveloperId</th>\n",
       "      <th>Developer</th>\n",
       "      <th>Developer_Url</th>\n",
       "      <th>Average_User_Rating</th>\n",
       "      <th>Reviews</th>\n",
       "      <th>Current_Version_Score</th>\n",
       "      <th>Current_Version_Reviews</th>\n",
       "    </tr>\n",
       "  </thead>\n",
       "  <tbody>\n",
       "    <tr>\n",
       "      <th>964888</th>\n",
       "      <td>se.promedia.NA</td>\n",
       "      <td>NaN</td>\n",
       "      <td>https://apps.apple.com/us/app/na/id449134868?uo=4</td>\n",
       "      <td>News</td>\n",
       "      <td>4+</td>\n",
       "      <td>19528704.0</td>\n",
       "      <td>9.0</td>\n",
       "      <td>2011-08-08T11:45:30Z</td>\n",
       "      <td>2020-12-21T14:08:02Z</td>\n",
       "      <td>8.1.2</td>\n",
       "      <td>0.0</td>\n",
       "      <td>USD</td>\n",
       "      <td>True</td>\n",
       "      <td>449134871</td>\n",
       "      <td>Promedia</td>\n",
       "      <td>https://apps.apple.com/us/developer/promedia/i...</td>\n",
       "      <td>5.0</td>\n",
       "      <td>1</td>\n",
       "      <td>5.0</td>\n",
       "      <td>1</td>\n",
       "    </tr>\n",
       "  </tbody>\n",
       "</table>\n",
       "</div>"
      ],
      "text/plain": [
       "                App_Id App_Name  \\\n",
       "964888  se.promedia.NA      NaN   \n",
       "\n",
       "                                             AppStore_Url Primary_Genre  \\\n",
       "964888  https://apps.apple.com/us/app/na/id449134868?uo=4          News   \n",
       "\n",
       "       Content_Rating  Size_Bytes Required_IOS_Version              Released  \\\n",
       "964888             4+  19528704.0                  9.0  2011-08-08T11:45:30Z   \n",
       "\n",
       "                     Updated Version  Price Currency  Free  DeveloperId  \\\n",
       "964888  2020-12-21T14:08:02Z   8.1.2    0.0      USD  True    449134871   \n",
       "\n",
       "       Developer                                      Developer_Url  \\\n",
       "964888  Promedia  https://apps.apple.com/us/developer/promedia/i...   \n",
       "\n",
       "        Average_User_Rating  Reviews  Current_Version_Score  \\\n",
       "964888                  5.0        1                    5.0   \n",
       "\n",
       "        Current_Version_Reviews  \n",
       "964888                        1  "
      ]
     },
     "execution_count": 139,
     "metadata": {},
     "output_type": "execute_result"
    }
   ],
   "source": [
    "df[df['App_Name'].isnull()].head()"
   ]
  },
  {
   "cell_type": "markdown",
   "metadata": {},
   "source": [
    "### Solution to null values\n",
    "\n",
    "1. We can try to write a code to replace the null value in the column *app_name* by looking for same app_ID of the null row in other row with valid app_name value and sme app_ID\n",
    "2. We can try to write a code to replace the null value in the column *Developer_Url* by looking for same app_ID of the null row in other row with valid app_name value and sme app_ID\n",
    "3. We can try to write a code to replace the null value in the column *Released* by looking for same app_name of the null row in other row with valid app_name value and sme app_ID"
   ]
  },
  {
   "cell_type": "markdown",
   "metadata": {},
   "source": [
    "### 5.3 Null Handling: Filling Null Values Approach\n",
    "\n",
    "Fill null values with caution! Unique values associated with specific features, such as AppID and AppName, in rows where Released is null, can make filling null values tricky. Instead, consider dropping only those rows where Developer_URL, Released, and appName are null to ensure data integrity."
   ]
  },
  {
   "cell_type": "code",
   "execution_count": 140,
   "metadata": {},
   "outputs": [],
   "source": [
    "df.dropna(subset=['Released'], inplace=True)\n",
    "\n",
    "df.dropna(subset=['App_Name'], inplace=True)"
   ]
  },
  {
   "cell_type": "markdown",
   "metadata": {},
   "source": [
    "### Important\n",
    "\n",
    "- We droped `Released` and `App_Name` missing values rows but we did not droped `Developer_Url` column due to its not impacting our dataset but if we deleted its all rows then it may affect our observations"
   ]
  },
  {
   "cell_type": "code",
   "execution_count": 141,
   "metadata": {},
   "outputs": [
    {
     "data": {
      "text/plain": [
       "Developer_Url              1109\n",
       "App_Id                        0\n",
       "App_Name                      0\n",
       "Current_Version_Score         0\n",
       "Reviews                       0\n",
       "Average_User_Rating           0\n",
       "Developer                     0\n",
       "DeveloperId                   0\n",
       "Free                          0\n",
       "Currency                      0\n",
       "Price                         0\n",
       "Version                       0\n",
       "Updated                       0\n",
       "Released                      0\n",
       "Required_IOS_Version          0\n",
       "Size_Bytes                    0\n",
       "Content_Rating                0\n",
       "Primary_Genre                 0\n",
       "AppStore_Url                  0\n",
       "Current_Version_Reviews       0\n",
       "dtype: int64"
      ]
     },
     "execution_count": 141,
     "metadata": {},
     "output_type": "execute_result"
    }
   ],
   "source": [
    "df.isnull().sum().sort_values(ascending=False)"
   ]
  },
  {
   "cell_type": "markdown",
   "metadata": {},
   "source": [
    "### **Milestonne 1: 🙂**\n",
    "\n",
    "- We have cleaned the dataset from null values\n",
    "- Expect from Developer_Url\n",
    "\n",
    "> Next, Find duplications and analysis them if its a valid duplication"
   ]
  },
  {
   "cell_type": "code",
   "execution_count": 142,
   "metadata": {},
   "outputs": [
    {
     "data": {
      "text/plain": [
       "False"
      ]
     },
     "execution_count": 142,
     "metadata": {},
     "output_type": "execute_result"
    }
   ],
   "source": [
    "df.duplicated().any()"
   ]
  },
  {
   "cell_type": "code",
   "execution_count": 143,
   "metadata": {},
   "outputs": [
    {
     "data": {
      "text/plain": [
       "Index(['App_Id', 'App_Name', 'AppStore_Url', 'Primary_Genre', 'Content_Rating',\n",
       "       'Size_Bytes', 'Required_IOS_Version', 'Released', 'Updated', 'Version',\n",
       "       'Price', 'Currency', 'Free', 'DeveloperId', 'Developer',\n",
       "       'Developer_Url', 'Average_User_Rating', 'Reviews',\n",
       "       'Current_Version_Score', 'Current_Version_Reviews'],\n",
       "      dtype='object')"
      ]
     },
     "execution_count": 143,
     "metadata": {},
     "output_type": "execute_result"
    }
   ],
   "source": [
    "df.columns"
   ]
  },
  {
   "cell_type": "code",
   "execution_count": 144,
   "metadata": {},
   "outputs": [],
   "source": [
    "any_duplicates = df.duplicated(subset=['App_Id', 'App_Name', 'AppStore_Url', 'Primary_Genre', 'Content_Rating',\n",
    "       'Size_Bytes', 'Required_IOS_Version', 'Released', 'Updated', 'Version',\n",
    "       'Price', 'Currency', 'Free', 'DeveloperId', 'Developer',\n",
    "       'Developer_Url', 'Average_User_Rating', 'Reviews',\n",
    "       'Current_Version_Score', 'Current_Version_Reviews']).any()"
   ]
  },
  {
   "cell_type": "code",
   "execution_count": 145,
   "metadata": {},
   "outputs": [
    {
     "data": {
      "text/plain": [
       "True"
      ]
     },
     "execution_count": 145,
     "metadata": {},
     "output_type": "execute_result"
    }
   ],
   "source": [
    "boolean = df['App_Name'].duplicated().any()\n",
    "boolean"
   ]
  },
  {
   "cell_type": "code",
   "execution_count": 146,
   "metadata": {},
   "outputs": [
    {
     "data": {
      "text/plain": [
       "App_Name\n",
       "Vanguard              6\n",
       "Linker                5\n",
       "Bloom                 5\n",
       "Lume                  4\n",
       "Vibe                  4\n",
       "                     ..\n",
       "Twin Creeks           1\n",
       "Twine Garage          1\n",
       "Twippy                1\n",
       "TwitMore              1\n",
       "Sổ Điểm Thông Minh    1\n",
       "Name: count, Length: 1223507, dtype: int64"
      ]
     },
     "execution_count": 146,
     "metadata": {},
     "output_type": "execute_result"
    }
   ],
   "source": [
    "df['App_Name'].value_counts().sort_values(ascending=False)"
   ]
  },
  {
   "cell_type": "markdown",
   "metadata": {},
   "source": [
    "> From the above cell output we can see that `App_Name` column has multiple rows. Let's check out that data in those rows is identical or not"
   ]
  },
  {
   "cell_type": "code",
   "execution_count": 147,
   "metadata": {},
   "outputs": [
    {
     "data": {
      "text/html": [
       "<div>\n",
       "<style scoped>\n",
       "    .dataframe tbody tr th:only-of-type {\n",
       "        vertical-align: middle;\n",
       "    }\n",
       "\n",
       "    .dataframe tbody tr th {\n",
       "        vertical-align: top;\n",
       "    }\n",
       "\n",
       "    .dataframe thead th {\n",
       "        text-align: right;\n",
       "    }\n",
       "</style>\n",
       "<table border=\"1\" class=\"dataframe\">\n",
       "  <thead>\n",
       "    <tr style=\"text-align: right;\">\n",
       "      <th></th>\n",
       "      <th>App_Id</th>\n",
       "      <th>App_Name</th>\n",
       "      <th>AppStore_Url</th>\n",
       "      <th>Primary_Genre</th>\n",
       "      <th>Content_Rating</th>\n",
       "      <th>Size_Bytes</th>\n",
       "      <th>Required_IOS_Version</th>\n",
       "      <th>Released</th>\n",
       "      <th>Updated</th>\n",
       "      <th>Version</th>\n",
       "      <th>Price</th>\n",
       "      <th>Currency</th>\n",
       "      <th>Free</th>\n",
       "      <th>DeveloperId</th>\n",
       "      <th>Developer</th>\n",
       "      <th>Developer_Url</th>\n",
       "      <th>Average_User_Rating</th>\n",
       "      <th>Reviews</th>\n",
       "      <th>Current_Version_Score</th>\n",
       "      <th>Current_Version_Reviews</th>\n",
       "    </tr>\n",
       "  </thead>\n",
       "  <tbody>\n",
       "    <tr>\n",
       "      <th>139096</th>\n",
       "      <td>com.cheerg.LinkerTest</td>\n",
       "      <td>Linker</td>\n",
       "      <td>https://apps.apple.com/us/app/linker/id1208886...</td>\n",
       "      <td>Lifestyle</td>\n",
       "      <td>4+</td>\n",
       "      <td>21876736.0</td>\n",
       "      <td>10.0</td>\n",
       "      <td>2017-03-30T20:08:27Z</td>\n",
       "      <td>2018-06-14T20:39:23Z</td>\n",
       "      <td>1.0.14</td>\n",
       "      <td>0.0</td>\n",
       "      <td>USD</td>\n",
       "      <td>True</td>\n",
       "      <td>1208886054</td>\n",
       "      <td>Chun Hsiang Hsieh</td>\n",
       "      <td>https://apps.apple.com/us/developer/chun-hsian...</td>\n",
       "      <td>0.0</td>\n",
       "      <td>0</td>\n",
       "      <td>0.0</td>\n",
       "      <td>0</td>\n",
       "    </tr>\n",
       "    <tr>\n",
       "      <th>462132</th>\n",
       "      <td>br.com.linker</td>\n",
       "      <td>Linker</td>\n",
       "      <td>https://apps.apple.com/us/app/linker/id1472621...</td>\n",
       "      <td>Finance</td>\n",
       "      <td>4+</td>\n",
       "      <td>169309184.0</td>\n",
       "      <td>12.0</td>\n",
       "      <td>2019-08-22T07:00:00Z</td>\n",
       "      <td>2021-10-01T16:08:21Z</td>\n",
       "      <td>2.0.3</td>\n",
       "      <td>0.0</td>\n",
       "      <td>USD</td>\n",
       "      <td>True</td>\n",
       "      <td>1472621726</td>\n",
       "      <td>BEMP SOLUCOES DE PAGAMENTO LTDA</td>\n",
       "      <td>https://apps.apple.com/us/developer/bemp-soluc...</td>\n",
       "      <td>4.4</td>\n",
       "      <td>5</td>\n",
       "      <td>4.4</td>\n",
       "      <td>5</td>\n",
       "    </tr>\n",
       "    <tr>\n",
       "      <th>745039</th>\n",
       "      <td>team.linker.linker</td>\n",
       "      <td>Linker</td>\n",
       "      <td>https://apps.apple.com/us/app/linker/id1558364...</td>\n",
       "      <td>Health &amp; Fitness</td>\n",
       "      <td>4+</td>\n",
       "      <td>97497088.0</td>\n",
       "      <td>10.0</td>\n",
       "      <td>2021-03-30T07:00:00Z</td>\n",
       "      <td>2021-08-23T11:16:44Z</td>\n",
       "      <td>1.0.7</td>\n",
       "      <td>0.0</td>\n",
       "      <td>USD</td>\n",
       "      <td>True</td>\n",
       "      <td>1558364892</td>\n",
       "      <td>Linker ApS</td>\n",
       "      <td>https://apps.apple.com/us/developer/linker-aps...</td>\n",
       "      <td>0.0</td>\n",
       "      <td>0</td>\n",
       "      <td>0.0</td>\n",
       "      <td>0</td>\n",
       "    </tr>\n",
       "    <tr>\n",
       "      <th>954862</th>\n",
       "      <td>com.kubo.Linker</td>\n",
       "      <td>Linker</td>\n",
       "      <td>https://apps.apple.com/us/app/linker/id1169163...</td>\n",
       "      <td>Travel</td>\n",
       "      <td>4+</td>\n",
       "      <td>34196480.0</td>\n",
       "      <td>7.0</td>\n",
       "      <td>2017-05-16T11:32:18Z</td>\n",
       "      <td>2017-10-10T01:56:27Z</td>\n",
       "      <td>39.2</td>\n",
       "      <td>0.0</td>\n",
       "      <td>USD</td>\n",
       "      <td>True</td>\n",
       "      <td>370982422</td>\n",
       "      <td>Kubo Mobile Applications SA</td>\n",
       "      <td>https://apps.apple.com/us/developer/kubo-mobil...</td>\n",
       "      <td>0.0</td>\n",
       "      <td>0</td>\n",
       "      <td>0.0</td>\n",
       "      <td>0</td>\n",
       "    </tr>\n",
       "    <tr>\n",
       "      <th>1206501</th>\n",
       "      <td>com.tilon.elcloud.rdc</td>\n",
       "      <td>Linker</td>\n",
       "      <td>https://apps.apple.com/us/app/linker/id1215552...</td>\n",
       "      <td>Utilities</td>\n",
       "      <td>4+</td>\n",
       "      <td>58948209.0</td>\n",
       "      <td>10.6.6</td>\n",
       "      <td>2017-05-30T19:54:25Z</td>\n",
       "      <td>2017-05-30T19:54:25Z</td>\n",
       "      <td>3.3.1</td>\n",
       "      <td>0.0</td>\n",
       "      <td>USD</td>\n",
       "      <td>True</td>\n",
       "      <td>355652681</td>\n",
       "      <td>TILON CO., LTD.</td>\n",
       "      <td>https://apps.apple.com/us/developer/tilon-co-l...</td>\n",
       "      <td>0.0</td>\n",
       "      <td>0</td>\n",
       "      <td>0.0</td>\n",
       "      <td>0</td>\n",
       "    </tr>\n",
       "  </tbody>\n",
       "</table>\n",
       "</div>"
      ],
      "text/plain": [
       "                        App_Id App_Name  \\\n",
       "139096   com.cheerg.LinkerTest   Linker   \n",
       "462132           br.com.linker   Linker   \n",
       "745039      team.linker.linker   Linker   \n",
       "954862         com.kubo.Linker   Linker   \n",
       "1206501  com.tilon.elcloud.rdc   Linker   \n",
       "\n",
       "                                              AppStore_Url     Primary_Genre  \\\n",
       "139096   https://apps.apple.com/us/app/linker/id1208886...         Lifestyle   \n",
       "462132   https://apps.apple.com/us/app/linker/id1472621...           Finance   \n",
       "745039   https://apps.apple.com/us/app/linker/id1558364...  Health & Fitness   \n",
       "954862   https://apps.apple.com/us/app/linker/id1169163...            Travel   \n",
       "1206501  https://apps.apple.com/us/app/linker/id1215552...         Utilities   \n",
       "\n",
       "        Content_Rating   Size_Bytes Required_IOS_Version  \\\n",
       "139096              4+   21876736.0                 10.0   \n",
       "462132              4+  169309184.0                 12.0   \n",
       "745039              4+   97497088.0                 10.0   \n",
       "954862              4+   34196480.0                  7.0   \n",
       "1206501             4+   58948209.0               10.6.6   \n",
       "\n",
       "                     Released               Updated Version  Price Currency  \\\n",
       "139096   2017-03-30T20:08:27Z  2018-06-14T20:39:23Z  1.0.14    0.0      USD   \n",
       "462132   2019-08-22T07:00:00Z  2021-10-01T16:08:21Z   2.0.3    0.0      USD   \n",
       "745039   2021-03-30T07:00:00Z  2021-08-23T11:16:44Z   1.0.7    0.0      USD   \n",
       "954862   2017-05-16T11:32:18Z  2017-10-10T01:56:27Z    39.2    0.0      USD   \n",
       "1206501  2017-05-30T19:54:25Z  2017-05-30T19:54:25Z   3.3.1    0.0      USD   \n",
       "\n",
       "         Free  DeveloperId                        Developer  \\\n",
       "139096   True   1208886054                Chun Hsiang Hsieh   \n",
       "462132   True   1472621726  BEMP SOLUCOES DE PAGAMENTO LTDA   \n",
       "745039   True   1558364892                       Linker ApS   \n",
       "954862   True    370982422      Kubo Mobile Applications SA   \n",
       "1206501  True    355652681                  TILON CO., LTD.   \n",
       "\n",
       "                                             Developer_Url  \\\n",
       "139096   https://apps.apple.com/us/developer/chun-hsian...   \n",
       "462132   https://apps.apple.com/us/developer/bemp-soluc...   \n",
       "745039   https://apps.apple.com/us/developer/linker-aps...   \n",
       "954862   https://apps.apple.com/us/developer/kubo-mobil...   \n",
       "1206501  https://apps.apple.com/us/developer/tilon-co-l...   \n",
       "\n",
       "         Average_User_Rating  Reviews  Current_Version_Score  \\\n",
       "139096                   0.0        0                    0.0   \n",
       "462132                   4.4        5                    4.4   \n",
       "745039                   0.0        0                    0.0   \n",
       "954862                   0.0        0                    0.0   \n",
       "1206501                  0.0        0                    0.0   \n",
       "\n",
       "         Current_Version_Reviews  \n",
       "139096                         0  \n",
       "462132                         5  \n",
       "745039                         0  \n",
       "954862                         0  \n",
       "1206501                        0  "
      ]
     },
     "execution_count": 147,
     "metadata": {},
     "output_type": "execute_result"
    }
   ],
   "source": [
    "df[df['App_Name'] == 'Linker']"
   ]
  },
  {
   "cell_type": "markdown",
   "metadata": {},
   "source": [
    "---\n",
    "### **Milestone 2: 🙂**\n",
    "- Although `App_Name` may have duplicataions, the records are unique as whole, with varying versions, AppIds, and release dates.\n",
    "---"
   ]
  },
  {
   "cell_type": "markdown",
   "metadata": {},
   "source": [
    "### 5.4 Now exploring Numeric columns of dataset namely:\n",
    "- `Size_Bytes`, `Price`, `DeveloperId`, `Average_User_Rating`, `Reviews`, `Current_Version_Score`, `Current_Version_Reviews`"
   ]
  },
  {
   "cell_type": "code",
   "execution_count": 148,
   "metadata": {},
   "outputs": [
    {
     "data": {
      "text/plain": [
       "array([2.19934720e+07, 1.31358720e+07, 2.19432960e+07, ...,\n",
       "       1.19404544e+08, 5.96570000e+05, 5.06896000e+05])"
      ]
     },
     "execution_count": 148,
     "metadata": {},
     "output_type": "execute_result"
    }
   ],
   "source": [
    "df['Size_Bytes'].unique()"
   ]
  },
  {
   "cell_type": "code",
   "execution_count": 149,
   "metadata": {},
   "outputs": [
    {
     "data": {
      "text/plain": [
       "array([0.00000000e+00, 2.99000000e+00, 1.99000000e+00, 9.90000000e-01,\n",
       "       4.99000000e+00, 9.99000000e+00, 5.99000000e+00, 6.99000000e+00,\n",
       "       1.69900000e+01, 1.99900000e+01, 3.99900000e+01, 5.99900000e+01,\n",
       "       8.99000000e+00, 7.99000000e+00, 1.89900000e+01, 3.99000000e+00,\n",
       "       2.49900000e+01, 1.49900000e+01, 2.89900000e+01, 2.19900000e+01,\n",
       "       1.39900000e+01, 1.09900000e+01, 1.19900000e+01, 1.29990000e+02,\n",
       "       2.29900000e+01, 1.39990000e+02, 2.59900000e+01, 1.29900000e+01,\n",
       "       4.99900000e+01, 2.39900000e+01, 1.19990000e+02, 7.99900000e+01,\n",
       "       1.79900000e+01, 4.99990000e+02, 2.49990000e+02, 1.99990000e+02,\n",
       "       2.29990000e+02, 3.49900000e+01, 2.09900000e+01, 9.99900000e+01,\n",
       "       3.39900000e+01, 5.49900000e+01, 4.59900000e+01, 4.49900000e+01,\n",
       "       2.99900000e+01, 6.99900000e+01, 2.79900000e+01, 8.49900000e+01,\n",
       "       6.49900000e+01, 1.59900000e+01, 2.69900000e+01, 3.59900000e+01,\n",
       "       4.09900000e+01, 1.74990000e+02, 1.49990000e+02, 9.49900000e+01,\n",
       "       7.49900000e+01, 3.49990000e+02, 4.89900000e+01, 1.09990000e+02,\n",
       "       3.89900000e+01, 3.19900000e+01, 3.69900000e+01, 8.99900000e+01,\n",
       "       1.69990000e+02, 1.24990000e+02, 5.04126382e-01, 3.99990000e+02,\n",
       "       2.19990000e+02, 4.39900000e+01, 6.99990000e+02, 4.29900000e+01,\n",
       "       3.79900000e+01, 2.99990000e+02, 4.49990000e+02, 1.59990000e+02,\n",
       "       4.19900000e+01, 3.29900000e+01, 3.09900000e+01, 7.99990000e+02,\n",
       "       9.99990000e+02, 4.79900000e+01, 1.79990000e+02, 2.09990000e+02,\n",
       "       2.39990000e+02, 5.99990000e+02, 4.69900000e+01, 8.99990000e+02,\n",
       "       1.89990000e+02])"
      ]
     },
     "execution_count": 149,
     "metadata": {},
     "output_type": "execute_result"
    }
   ],
   "source": [
    "df['Price'].unique()"
   ]
  },
  {
   "cell_type": "code",
   "execution_count": 150,
   "metadata": {},
   "outputs": [
    {
     "data": {
      "text/plain": [
       "array([0.     , 5.     , 4.78132, ..., 4.00352, 3.91608, 4.82733])"
      ]
     },
     "execution_count": 150,
     "metadata": {},
     "output_type": "execute_result"
    }
   ],
   "source": [
    "df['Average_User_Rating'].unique()"
   ]
  },
  {
   "cell_type": "code",
   "execution_count": 151,
   "metadata": {},
   "outputs": [
    {
     "data": {
      "text/plain": [
       "array([    0,     1,  1285, ..., 12691, 35476, 10481], dtype=int64)"
      ]
     },
     "execution_count": 151,
     "metadata": {},
     "output_type": "execute_result"
    }
   ],
   "source": [
    "df['Reviews'].unique()"
   ]
  },
  {
   "cell_type": "code",
   "execution_count": 152,
   "metadata": {},
   "outputs": [
    {
     "data": {
      "text/plain": [
       "array([0.     , 5.     , 4.78132, ..., 4.00352, 3.91608, 4.82733])"
      ]
     },
     "execution_count": 152,
     "metadata": {},
     "output_type": "execute_result"
    }
   ],
   "source": [
    "df['Current_Version_Score'].unique()"
   ]
  },
  {
   "cell_type": "code",
   "execution_count": 153,
   "metadata": {},
   "outputs": [
    {
     "data": {
      "text/plain": [
       "array(['USD'], dtype=object)"
      ]
     },
     "execution_count": 153,
     "metadata": {},
     "output_type": "execute_result"
    }
   ],
   "source": [
    "df['Currency'].unique()"
   ]
  },
  {
   "cell_type": "markdown",
   "metadata": {},
   "source": [
    "> The currency used in standard US Dollar accross the dataset"
   ]
  },
  {
   "cell_type": "code",
   "execution_count": 154,
   "metadata": {},
   "outputs": [
    {
     "data": {
      "text/plain": [
       "array(['4+', '17+', '9+', '12+', 'Not yet rated'], dtype=object)"
      ]
     },
     "execution_count": 154,
     "metadata": {},
     "output_type": "execute_result"
    }
   ],
   "source": [
    "df['Content_Rating'].unique()"
   ]
  },
  {
   "cell_type": "code",
   "execution_count": 155,
   "metadata": {},
   "outputs": [
    {
     "data": {
      "text/html": [
       "<div>\n",
       "<style scoped>\n",
       "    .dataframe tbody tr th:only-of-type {\n",
       "        vertical-align: middle;\n",
       "    }\n",
       "\n",
       "    .dataframe tbody tr th {\n",
       "        vertical-align: top;\n",
       "    }\n",
       "\n",
       "    .dataframe thead th {\n",
       "        text-align: right;\n",
       "    }\n",
       "</style>\n",
       "<table border=\"1\" class=\"dataframe\">\n",
       "  <thead>\n",
       "    <tr style=\"text-align: right;\">\n",
       "      <th></th>\n",
       "      <th>App_Id</th>\n",
       "      <th>App_Name</th>\n",
       "      <th>AppStore_Url</th>\n",
       "      <th>Primary_Genre</th>\n",
       "      <th>Content_Rating</th>\n",
       "      <th>Size_Bytes</th>\n",
       "      <th>Required_IOS_Version</th>\n",
       "      <th>Released</th>\n",
       "      <th>Updated</th>\n",
       "      <th>Version</th>\n",
       "      <th>Price</th>\n",
       "      <th>Currency</th>\n",
       "      <th>Free</th>\n",
       "      <th>DeveloperId</th>\n",
       "      <th>Developer</th>\n",
       "      <th>Developer_Url</th>\n",
       "      <th>Average_User_Rating</th>\n",
       "      <th>Reviews</th>\n",
       "      <th>Current_Version_Score</th>\n",
       "      <th>Current_Version_Reviews</th>\n",
       "    </tr>\n",
       "  </thead>\n",
       "  <tbody>\n",
       "    <tr>\n",
       "      <th>0</th>\n",
       "      <td>com.hkbu.arc.apaper</td>\n",
       "      <td>A+ Paper Guide</td>\n",
       "      <td>https://apps.apple.com/us/app/a-paper-guide/id...</td>\n",
       "      <td>Education</td>\n",
       "      <td>4+</td>\n",
       "      <td>21993472.0</td>\n",
       "      <td>8.0</td>\n",
       "      <td>2017-09-28T03:02:41Z</td>\n",
       "      <td>2018-12-21T21:30:36Z</td>\n",
       "      <td>1.1.2</td>\n",
       "      <td>0.00</td>\n",
       "      <td>USD</td>\n",
       "      <td>True</td>\n",
       "      <td>1375410542</td>\n",
       "      <td>HKBU ARC</td>\n",
       "      <td>https://apps.apple.com/us/developer/hkbu-arc/i...</td>\n",
       "      <td>0.0</td>\n",
       "      <td>0</td>\n",
       "      <td>0.0</td>\n",
       "      <td>0</td>\n",
       "    </tr>\n",
       "    <tr>\n",
       "      <th>1</th>\n",
       "      <td>com.dmitriev.abooks</td>\n",
       "      <td>A-Books</td>\n",
       "      <td>https://apps.apple.com/us/app/a-books/id103157...</td>\n",
       "      <td>Book</td>\n",
       "      <td>4+</td>\n",
       "      <td>13135872.0</td>\n",
       "      <td>10.0</td>\n",
       "      <td>2015-08-31T19:31:32Z</td>\n",
       "      <td>2019-07-23T20:31:09Z</td>\n",
       "      <td>1.3</td>\n",
       "      <td>0.00</td>\n",
       "      <td>USD</td>\n",
       "      <td>True</td>\n",
       "      <td>1031572001</td>\n",
       "      <td>Roman Dmitriev</td>\n",
       "      <td>https://apps.apple.com/us/developer/roman-dmit...</td>\n",
       "      <td>5.0</td>\n",
       "      <td>1</td>\n",
       "      <td>5.0</td>\n",
       "      <td>1</td>\n",
       "    </tr>\n",
       "    <tr>\n",
       "      <th>2</th>\n",
       "      <td>no.terp.abooks</td>\n",
       "      <td>A-books</td>\n",
       "      <td>https://apps.apple.com/us/app/a-books/id145702...</td>\n",
       "      <td>Book</td>\n",
       "      <td>4+</td>\n",
       "      <td>21943296.0</td>\n",
       "      <td>9.0</td>\n",
       "      <td>2021-04-14T07:00:00Z</td>\n",
       "      <td>2021-05-30T21:08:54Z</td>\n",
       "      <td>1.3.1</td>\n",
       "      <td>0.00</td>\n",
       "      <td>USD</td>\n",
       "      <td>True</td>\n",
       "      <td>1457024163</td>\n",
       "      <td>Terp AS</td>\n",
       "      <td>https://apps.apple.com/us/developer/terp-as/id...</td>\n",
       "      <td>0.0</td>\n",
       "      <td>0</td>\n",
       "      <td>0.0</td>\n",
       "      <td>0</td>\n",
       "    </tr>\n",
       "    <tr>\n",
       "      <th>3</th>\n",
       "      <td>fr.antoinettefleur.Book1</td>\n",
       "      <td>A-F Book #1</td>\n",
       "      <td>https://apps.apple.com/us/app/a-f-book-1/id500...</td>\n",
       "      <td>Book</td>\n",
       "      <td>4+</td>\n",
       "      <td>81851392.0</td>\n",
       "      <td>8.0</td>\n",
       "      <td>2012-02-10T03:40:07Z</td>\n",
       "      <td>2019-10-29T12:40:37Z</td>\n",
       "      <td>1.2</td>\n",
       "      <td>2.99</td>\n",
       "      <td>USD</td>\n",
       "      <td>False</td>\n",
       "      <td>439568839</td>\n",
       "      <td>i-editeur.com</td>\n",
       "      <td>https://apps.apple.com/us/developer/i-editeur-...</td>\n",
       "      <td>0.0</td>\n",
       "      <td>0</td>\n",
       "      <td>0.0</td>\n",
       "      <td>0</td>\n",
       "    </tr>\n",
       "    <tr>\n",
       "      <th>4</th>\n",
       "      <td>com.imonstersoft.azdictionaryios</td>\n",
       "      <td>A-Z Synonyms Dictionary</td>\n",
       "      <td>https://apps.apple.com/us/app/a-z-synonyms-dic...</td>\n",
       "      <td>Reference</td>\n",
       "      <td>4+</td>\n",
       "      <td>64692224.0</td>\n",
       "      <td>9.0</td>\n",
       "      <td>2020-12-16T08:00:00Z</td>\n",
       "      <td>2020-12-18T21:36:11Z</td>\n",
       "      <td>1.0.1</td>\n",
       "      <td>0.00</td>\n",
       "      <td>USD</td>\n",
       "      <td>True</td>\n",
       "      <td>656731821</td>\n",
       "      <td>Ngov chiheang</td>\n",
       "      <td>https://apps.apple.com/us/developer/ngov-chihe...</td>\n",
       "      <td>0.0</td>\n",
       "      <td>0</td>\n",
       "      <td>0.0</td>\n",
       "      <td>0</td>\n",
       "    </tr>\n",
       "  </tbody>\n",
       "</table>\n",
       "</div>"
      ],
      "text/plain": [
       "                             App_Id                 App_Name  \\\n",
       "0               com.hkbu.arc.apaper           A+ Paper Guide   \n",
       "1               com.dmitriev.abooks                  A-Books   \n",
       "2                    no.terp.abooks                  A-books   \n",
       "3          fr.antoinettefleur.Book1              A-F Book #1   \n",
       "4  com.imonstersoft.azdictionaryios  A-Z Synonyms Dictionary   \n",
       "\n",
       "                                        AppStore_Url Primary_Genre  \\\n",
       "0  https://apps.apple.com/us/app/a-paper-guide/id...     Education   \n",
       "1  https://apps.apple.com/us/app/a-books/id103157...          Book   \n",
       "2  https://apps.apple.com/us/app/a-books/id145702...          Book   \n",
       "3  https://apps.apple.com/us/app/a-f-book-1/id500...          Book   \n",
       "4  https://apps.apple.com/us/app/a-z-synonyms-dic...     Reference   \n",
       "\n",
       "  Content_Rating  Size_Bytes Required_IOS_Version              Released  \\\n",
       "0             4+  21993472.0                  8.0  2017-09-28T03:02:41Z   \n",
       "1             4+  13135872.0                 10.0  2015-08-31T19:31:32Z   \n",
       "2             4+  21943296.0                  9.0  2021-04-14T07:00:00Z   \n",
       "3             4+  81851392.0                  8.0  2012-02-10T03:40:07Z   \n",
       "4             4+  64692224.0                  9.0  2020-12-16T08:00:00Z   \n",
       "\n",
       "                Updated Version  Price Currency   Free  DeveloperId  \\\n",
       "0  2018-12-21T21:30:36Z   1.1.2   0.00      USD   True   1375410542   \n",
       "1  2019-07-23T20:31:09Z     1.3   0.00      USD   True   1031572001   \n",
       "2  2021-05-30T21:08:54Z   1.3.1   0.00      USD   True   1457024163   \n",
       "3  2019-10-29T12:40:37Z     1.2   2.99      USD  False    439568839   \n",
       "4  2020-12-18T21:36:11Z   1.0.1   0.00      USD   True    656731821   \n",
       "\n",
       "        Developer                                      Developer_Url  \\\n",
       "0        HKBU ARC  https://apps.apple.com/us/developer/hkbu-arc/i...   \n",
       "1  Roman Dmitriev  https://apps.apple.com/us/developer/roman-dmit...   \n",
       "2         Terp AS  https://apps.apple.com/us/developer/terp-as/id...   \n",
       "3   i-editeur.com  https://apps.apple.com/us/developer/i-editeur-...   \n",
       "4   Ngov chiheang  https://apps.apple.com/us/developer/ngov-chihe...   \n",
       "\n",
       "   Average_User_Rating  Reviews  Current_Version_Score  \\\n",
       "0                  0.0        0                    0.0   \n",
       "1                  5.0        1                    5.0   \n",
       "2                  0.0        0                    0.0   \n",
       "3                  0.0        0                    0.0   \n",
       "4                  0.0        0                    0.0   \n",
       "\n",
       "   Current_Version_Reviews  \n",
       "0                        0  \n",
       "1                        1  \n",
       "2                        0  \n",
       "3                        0  \n",
       "4                        0  "
      ]
     },
     "execution_count": 155,
     "metadata": {},
     "output_type": "execute_result"
    }
   ],
   "source": [
    "df.head()"
   ]
  },
  {
   "cell_type": "markdown",
   "metadata": {},
   "source": [
    "### 5.5 Adding column to hold Size_Bytes in MBs"
   ]
  },
  {
   "cell_type": "code",
   "execution_count": 156,
   "metadata": {},
   "outputs": [],
   "source": [
    "df['Size_MB'] = 0"
   ]
  },
  {
   "cell_type": "code",
   "execution_count": 157,
   "metadata": {},
   "outputs": [
    {
     "data": {
      "text/plain": [
       "Index(['App_Id', 'App_Name', 'AppStore_Url', 'Primary_Genre', 'Content_Rating',\n",
       "       'Size_Bytes', 'Required_IOS_Version', 'Released', 'Updated', 'Version',\n",
       "       'Price', 'Currency', 'Free', 'DeveloperId', 'Developer',\n",
       "       'Developer_Url', 'Average_User_Rating', 'Reviews',\n",
       "       'Current_Version_Score', 'Current_Version_Reviews', 'Size_MB'],\n",
       "      dtype='object')"
      ]
     },
     "execution_count": 157,
     "metadata": {},
     "output_type": "execute_result"
    }
   ],
   "source": [
    "df.columns"
   ]
  },
  {
   "cell_type": "markdown",
   "metadata": {},
   "source": [
    "### 5.5.1 Conversion of Size_Bytes into MBs\n",
    "- First we will convert Size_Bytes data to kb and then to MB"
   ]
  },
  {
   "cell_type": "code",
   "execution_count": 158,
   "metadata": {},
   "outputs": [],
   "source": [
    "df['Size_MB'] = df['Size_Bytes'].apply(lambda x: (float(x)/1024)/1024)"
   ]
  },
  {
   "cell_type": "code",
   "execution_count": 159,
   "metadata": {},
   "outputs": [
    {
     "data": {
      "text/plain": [
       "count    1.230372e+06\n",
       "mean     1.788388e+00\n",
       "std      2.154105e+00\n",
       "min      0.000000e+00\n",
       "25%      0.000000e+00\n",
       "50%      0.000000e+00\n",
       "75%      4.333330e+00\n",
       "max      5.000000e+00\n",
       "Name: Average_User_Rating, dtype: float64"
      ]
     },
     "execution_count": 159,
     "metadata": {},
     "output_type": "execute_result"
    }
   ],
   "source": [
    "df['Average_User_Rating'].describe()"
   ]
  },
  {
   "cell_type": "markdown",
   "metadata": {},
   "source": [
    "### 5.6 Creataing the column type for free and paid Apps\n",
    "Using the Free column, it's helpfull while dealing with the paid and Free Apps from data readability perspective 🤓"
   ]
  },
  {
   "cell_type": "code",
   "execution_count": 160,
   "metadata": {},
   "outputs": [],
   "source": [
    "df['Type'] = np.where(df['Free'] == True, 'Free', 'Paid')\n",
    "df.drop(['Free'], axis=1, inplace=True)"
   ]
  },
  {
   "cell_type": "code",
   "execution_count": 161,
   "metadata": {},
   "outputs": [
    {
     "data": {
      "text/html": [
       "<div>\n",
       "<style scoped>\n",
       "    .dataframe tbody tr th:only-of-type {\n",
       "        vertical-align: middle;\n",
       "    }\n",
       "\n",
       "    .dataframe tbody tr th {\n",
       "        vertical-align: top;\n",
       "    }\n",
       "\n",
       "    .dataframe thead th {\n",
       "        text-align: right;\n",
       "    }\n",
       "</style>\n",
       "<table border=\"1\" class=\"dataframe\">\n",
       "  <thead>\n",
       "    <tr style=\"text-align: right;\">\n",
       "      <th></th>\n",
       "      <th>App_Id</th>\n",
       "      <th>App_Name</th>\n",
       "      <th>AppStore_Url</th>\n",
       "      <th>Primary_Genre</th>\n",
       "      <th>Content_Rating</th>\n",
       "      <th>Size_Bytes</th>\n",
       "      <th>Required_IOS_Version</th>\n",
       "      <th>Released</th>\n",
       "      <th>Updated</th>\n",
       "      <th>Version</th>\n",
       "      <th>Price</th>\n",
       "      <th>Currency</th>\n",
       "      <th>DeveloperId</th>\n",
       "      <th>Developer</th>\n",
       "      <th>Developer_Url</th>\n",
       "      <th>Average_User_Rating</th>\n",
       "      <th>Reviews</th>\n",
       "      <th>Current_Version_Score</th>\n",
       "      <th>Current_Version_Reviews</th>\n",
       "      <th>Size_MB</th>\n",
       "      <th>Type</th>\n",
       "    </tr>\n",
       "  </thead>\n",
       "  <tbody>\n",
       "    <tr>\n",
       "      <th>0</th>\n",
       "      <td>com.hkbu.arc.apaper</td>\n",
       "      <td>A+ Paper Guide</td>\n",
       "      <td>https://apps.apple.com/us/app/a-paper-guide/id...</td>\n",
       "      <td>Education</td>\n",
       "      <td>4+</td>\n",
       "      <td>21993472.0</td>\n",
       "      <td>8.0</td>\n",
       "      <td>2017-09-28T03:02:41Z</td>\n",
       "      <td>2018-12-21T21:30:36Z</td>\n",
       "      <td>1.1.2</td>\n",
       "      <td>0.00</td>\n",
       "      <td>USD</td>\n",
       "      <td>1375410542</td>\n",
       "      <td>HKBU ARC</td>\n",
       "      <td>https://apps.apple.com/us/developer/hkbu-arc/i...</td>\n",
       "      <td>0.0</td>\n",
       "      <td>0</td>\n",
       "      <td>0.0</td>\n",
       "      <td>0</td>\n",
       "      <td>20.974609</td>\n",
       "      <td>Free</td>\n",
       "    </tr>\n",
       "    <tr>\n",
       "      <th>1</th>\n",
       "      <td>com.dmitriev.abooks</td>\n",
       "      <td>A-Books</td>\n",
       "      <td>https://apps.apple.com/us/app/a-books/id103157...</td>\n",
       "      <td>Book</td>\n",
       "      <td>4+</td>\n",
       "      <td>13135872.0</td>\n",
       "      <td>10.0</td>\n",
       "      <td>2015-08-31T19:31:32Z</td>\n",
       "      <td>2019-07-23T20:31:09Z</td>\n",
       "      <td>1.3</td>\n",
       "      <td>0.00</td>\n",
       "      <td>USD</td>\n",
       "      <td>1031572001</td>\n",
       "      <td>Roman Dmitriev</td>\n",
       "      <td>https://apps.apple.com/us/developer/roman-dmit...</td>\n",
       "      <td>5.0</td>\n",
       "      <td>1</td>\n",
       "      <td>5.0</td>\n",
       "      <td>1</td>\n",
       "      <td>12.527344</td>\n",
       "      <td>Free</td>\n",
       "    </tr>\n",
       "    <tr>\n",
       "      <th>2</th>\n",
       "      <td>no.terp.abooks</td>\n",
       "      <td>A-books</td>\n",
       "      <td>https://apps.apple.com/us/app/a-books/id145702...</td>\n",
       "      <td>Book</td>\n",
       "      <td>4+</td>\n",
       "      <td>21943296.0</td>\n",
       "      <td>9.0</td>\n",
       "      <td>2021-04-14T07:00:00Z</td>\n",
       "      <td>2021-05-30T21:08:54Z</td>\n",
       "      <td>1.3.1</td>\n",
       "      <td>0.00</td>\n",
       "      <td>USD</td>\n",
       "      <td>1457024163</td>\n",
       "      <td>Terp AS</td>\n",
       "      <td>https://apps.apple.com/us/developer/terp-as/id...</td>\n",
       "      <td>0.0</td>\n",
       "      <td>0</td>\n",
       "      <td>0.0</td>\n",
       "      <td>0</td>\n",
       "      <td>20.926758</td>\n",
       "      <td>Free</td>\n",
       "    </tr>\n",
       "    <tr>\n",
       "      <th>3</th>\n",
       "      <td>fr.antoinettefleur.Book1</td>\n",
       "      <td>A-F Book #1</td>\n",
       "      <td>https://apps.apple.com/us/app/a-f-book-1/id500...</td>\n",
       "      <td>Book</td>\n",
       "      <td>4+</td>\n",
       "      <td>81851392.0</td>\n",
       "      <td>8.0</td>\n",
       "      <td>2012-02-10T03:40:07Z</td>\n",
       "      <td>2019-10-29T12:40:37Z</td>\n",
       "      <td>1.2</td>\n",
       "      <td>2.99</td>\n",
       "      <td>USD</td>\n",
       "      <td>439568839</td>\n",
       "      <td>i-editeur.com</td>\n",
       "      <td>https://apps.apple.com/us/developer/i-editeur-...</td>\n",
       "      <td>0.0</td>\n",
       "      <td>0</td>\n",
       "      <td>0.0</td>\n",
       "      <td>0</td>\n",
       "      <td>78.059570</td>\n",
       "      <td>Paid</td>\n",
       "    </tr>\n",
       "    <tr>\n",
       "      <th>4</th>\n",
       "      <td>com.imonstersoft.azdictionaryios</td>\n",
       "      <td>A-Z Synonyms Dictionary</td>\n",
       "      <td>https://apps.apple.com/us/app/a-z-synonyms-dic...</td>\n",
       "      <td>Reference</td>\n",
       "      <td>4+</td>\n",
       "      <td>64692224.0</td>\n",
       "      <td>9.0</td>\n",
       "      <td>2020-12-16T08:00:00Z</td>\n",
       "      <td>2020-12-18T21:36:11Z</td>\n",
       "      <td>1.0.1</td>\n",
       "      <td>0.00</td>\n",
       "      <td>USD</td>\n",
       "      <td>656731821</td>\n",
       "      <td>Ngov chiheang</td>\n",
       "      <td>https://apps.apple.com/us/developer/ngov-chihe...</td>\n",
       "      <td>0.0</td>\n",
       "      <td>0</td>\n",
       "      <td>0.0</td>\n",
       "      <td>0</td>\n",
       "      <td>61.695312</td>\n",
       "      <td>Free</td>\n",
       "    </tr>\n",
       "  </tbody>\n",
       "</table>\n",
       "</div>"
      ],
      "text/plain": [
       "                             App_Id                 App_Name  \\\n",
       "0               com.hkbu.arc.apaper           A+ Paper Guide   \n",
       "1               com.dmitriev.abooks                  A-Books   \n",
       "2                    no.terp.abooks                  A-books   \n",
       "3          fr.antoinettefleur.Book1              A-F Book #1   \n",
       "4  com.imonstersoft.azdictionaryios  A-Z Synonyms Dictionary   \n",
       "\n",
       "                                        AppStore_Url Primary_Genre  \\\n",
       "0  https://apps.apple.com/us/app/a-paper-guide/id...     Education   \n",
       "1  https://apps.apple.com/us/app/a-books/id103157...          Book   \n",
       "2  https://apps.apple.com/us/app/a-books/id145702...          Book   \n",
       "3  https://apps.apple.com/us/app/a-f-book-1/id500...          Book   \n",
       "4  https://apps.apple.com/us/app/a-z-synonyms-dic...     Reference   \n",
       "\n",
       "  Content_Rating  Size_Bytes Required_IOS_Version              Released  \\\n",
       "0             4+  21993472.0                  8.0  2017-09-28T03:02:41Z   \n",
       "1             4+  13135872.0                 10.0  2015-08-31T19:31:32Z   \n",
       "2             4+  21943296.0                  9.0  2021-04-14T07:00:00Z   \n",
       "3             4+  81851392.0                  8.0  2012-02-10T03:40:07Z   \n",
       "4             4+  64692224.0                  9.0  2020-12-16T08:00:00Z   \n",
       "\n",
       "                Updated Version  Price Currency  DeveloperId       Developer  \\\n",
       "0  2018-12-21T21:30:36Z   1.1.2   0.00      USD   1375410542        HKBU ARC   \n",
       "1  2019-07-23T20:31:09Z     1.3   0.00      USD   1031572001  Roman Dmitriev   \n",
       "2  2021-05-30T21:08:54Z   1.3.1   0.00      USD   1457024163         Terp AS   \n",
       "3  2019-10-29T12:40:37Z     1.2   2.99      USD    439568839   i-editeur.com   \n",
       "4  2020-12-18T21:36:11Z   1.0.1   0.00      USD    656731821   Ngov chiheang   \n",
       "\n",
       "                                       Developer_Url  Average_User_Rating  \\\n",
       "0  https://apps.apple.com/us/developer/hkbu-arc/i...                  0.0   \n",
       "1  https://apps.apple.com/us/developer/roman-dmit...                  5.0   \n",
       "2  https://apps.apple.com/us/developer/terp-as/id...                  0.0   \n",
       "3  https://apps.apple.com/us/developer/i-editeur-...                  0.0   \n",
       "4  https://apps.apple.com/us/developer/ngov-chihe...                  0.0   \n",
       "\n",
       "   Reviews  Current_Version_Score  Current_Version_Reviews    Size_MB  Type  \n",
       "0        0                    0.0                        0  20.974609  Free  \n",
       "1        1                    5.0                        1  12.527344  Free  \n",
       "2        0                    0.0                        0  20.926758  Free  \n",
       "3        0                    0.0                        0  78.059570  Paid  \n",
       "4        0                    0.0                        0  61.695312  Free  "
      ]
     },
     "execution_count": 161,
     "metadata": {},
     "output_type": "execute_result"
    }
   ],
   "source": [
    "df.head(5)"
   ]
  },
  {
   "cell_type": "code",
   "execution_count": 162,
   "metadata": {},
   "outputs": [
    {
     "data": {
      "text/plain": [
       "count    1.230372e+06\n",
       "mean     8.259505e+02\n",
       "std      5.016059e+04\n",
       "min      0.000000e+00\n",
       "25%      0.000000e+00\n",
       "50%      0.000000e+00\n",
       "75%      3.000000e+00\n",
       "max      2.268533e+07\n",
       "Name: Reviews, dtype: float64"
      ]
     },
     "execution_count": 162,
     "metadata": {},
     "output_type": "execute_result"
    }
   ],
   "source": [
    "df['Reviews'].describe()"
   ]
  },
  {
   "cell_type": "markdown",
   "metadata": {},
   "source": [
    "### 5.7 Viewing the content of column `Content_Rating`\n",
    "- First we will view the unique values present in this column"
   ]
  },
  {
   "cell_type": "code",
   "execution_count": 163,
   "metadata": {},
   "outputs": [
    {
     "name": "stdout",
     "output_type": "stream",
     "text": [
      "4+\n",
      "17+\n",
      "9+\n",
      "12+\n",
      "Not yet rated\n"
     ]
    }
   ],
   "source": [
    "for i in df['Content_Rating'].unique():\n",
    "    print(i)"
   ]
  },
  {
   "cell_type": "markdown",
   "metadata": {},
   "source": [
    "### Observation 6:\n",
    "1. We have various categories in the content rating column:\n",
    "   - 4+\n",
    "   - 17+\n",
    "   - 9+\n",
    "   - 12+\n",
    "   - Not yet rated\n",
    "\n",
    "\n",
    "2. Now, we make these categories to a simple 4 readable categories for better understanding: Children, Teens, Adulsts & Everyone:\n",
    "   - 4+ : Children\n",
    "   - 9+ : Children\n",
    "   - 12+ : Teens\n",
    "   - 17+ : Adults\n",
    "   - Not yet rated : Everyone"
   ]
  },
  {
   "cell_type": "code",
   "execution_count": 164,
   "metadata": {},
   "outputs": [],
   "source": [
    "df['Content_Rating'] =  df['Content_Rating'].replace('4+','Children')\n",
    "df['Content_Rating'] =  df['Content_Rating'].replace('9+','Children')\n",
    "df['Content_Rating'] =  df['Content_Rating'].replace('12+','Teens')\n",
    "df['Content_Rating'] =  df['Content_Rating'].replace('17+','Adults')\n",
    "df['Content_Rating'] =  df['Content_Rating'].replace('Not yet rated','Everyone')"
   ]
  },
  {
   "cell_type": "markdown",
   "metadata": {},
   "source": [
    "- Presenting the content of the column in Ascending order 'Children', 'Teens', 'Everyone','Adults'"
   ]
  },
  {
   "cell_type": "code",
   "execution_count": 165,
   "metadata": {},
   "outputs": [
    {
     "name": "stdout",
     "output_type": "stream",
     "text": [
      "['Children', 'Teens', 'Everyone', 'Adults']\n"
     ]
    }
   ],
   "source": [
    "agegroup = df['Content_Rating'].unique()\n",
    "\n",
    "# define the order in which you want to print the values\n",
    "custom_order = ['Children','Teens', 'Everyone', 'Adults']\n",
    "\n",
    "# sort the array in the custom order\n",
    "sorted_array = sorted(['Children', 'Adults', 'Teens', 'Everyone'], key=lambda x: custom_order.index(x))\n",
    "\n",
    "# print the sorted array\n",
    "print(sorted_array)\n"
   ]
  },
  {
   "cell_type": "code",
   "execution_count": 166,
   "metadata": {},
   "outputs": [
    {
     "data": {
      "text/html": [
       "<div>\n",
       "<style scoped>\n",
       "    .dataframe tbody tr th:only-of-type {\n",
       "        vertical-align: middle;\n",
       "    }\n",
       "\n",
       "    .dataframe tbody tr th {\n",
       "        vertical-align: top;\n",
       "    }\n",
       "\n",
       "    .dataframe thead th {\n",
       "        text-align: right;\n",
       "    }\n",
       "</style>\n",
       "<table border=\"1\" class=\"dataframe\">\n",
       "  <thead>\n",
       "    <tr style=\"text-align: right;\">\n",
       "      <th></th>\n",
       "      <th>App_Id</th>\n",
       "      <th>App_Name</th>\n",
       "      <th>AppStore_Url</th>\n",
       "      <th>Primary_Genre</th>\n",
       "      <th>Content_Rating</th>\n",
       "      <th>Size_Bytes</th>\n",
       "      <th>Required_IOS_Version</th>\n",
       "      <th>Released</th>\n",
       "      <th>Updated</th>\n",
       "      <th>Version</th>\n",
       "      <th>Price</th>\n",
       "      <th>Currency</th>\n",
       "      <th>DeveloperId</th>\n",
       "      <th>Developer</th>\n",
       "      <th>Developer_Url</th>\n",
       "      <th>Average_User_Rating</th>\n",
       "      <th>Reviews</th>\n",
       "      <th>Current_Version_Score</th>\n",
       "      <th>Current_Version_Reviews</th>\n",
       "      <th>Size_MB</th>\n",
       "      <th>Type</th>\n",
       "    </tr>\n",
       "  </thead>\n",
       "  <tbody>\n",
       "    <tr>\n",
       "      <th>0</th>\n",
       "      <td>com.hkbu.arc.apaper</td>\n",
       "      <td>A+ Paper Guide</td>\n",
       "      <td>https://apps.apple.com/us/app/a-paper-guide/id...</td>\n",
       "      <td>Education</td>\n",
       "      <td>Children</td>\n",
       "      <td>21993472.0</td>\n",
       "      <td>8.0</td>\n",
       "      <td>2017-09-28T03:02:41Z</td>\n",
       "      <td>2018-12-21T21:30:36Z</td>\n",
       "      <td>1.1.2</td>\n",
       "      <td>0.00</td>\n",
       "      <td>USD</td>\n",
       "      <td>1375410542</td>\n",
       "      <td>HKBU ARC</td>\n",
       "      <td>https://apps.apple.com/us/developer/hkbu-arc/i...</td>\n",
       "      <td>0.0</td>\n",
       "      <td>0</td>\n",
       "      <td>0.0</td>\n",
       "      <td>0</td>\n",
       "      <td>20.974609</td>\n",
       "      <td>Free</td>\n",
       "    </tr>\n",
       "    <tr>\n",
       "      <th>1</th>\n",
       "      <td>com.dmitriev.abooks</td>\n",
       "      <td>A-Books</td>\n",
       "      <td>https://apps.apple.com/us/app/a-books/id103157...</td>\n",
       "      <td>Book</td>\n",
       "      <td>Children</td>\n",
       "      <td>13135872.0</td>\n",
       "      <td>10.0</td>\n",
       "      <td>2015-08-31T19:31:32Z</td>\n",
       "      <td>2019-07-23T20:31:09Z</td>\n",
       "      <td>1.3</td>\n",
       "      <td>0.00</td>\n",
       "      <td>USD</td>\n",
       "      <td>1031572001</td>\n",
       "      <td>Roman Dmitriev</td>\n",
       "      <td>https://apps.apple.com/us/developer/roman-dmit...</td>\n",
       "      <td>5.0</td>\n",
       "      <td>1</td>\n",
       "      <td>5.0</td>\n",
       "      <td>1</td>\n",
       "      <td>12.527344</td>\n",
       "      <td>Free</td>\n",
       "    </tr>\n",
       "    <tr>\n",
       "      <th>2</th>\n",
       "      <td>no.terp.abooks</td>\n",
       "      <td>A-books</td>\n",
       "      <td>https://apps.apple.com/us/app/a-books/id145702...</td>\n",
       "      <td>Book</td>\n",
       "      <td>Children</td>\n",
       "      <td>21943296.0</td>\n",
       "      <td>9.0</td>\n",
       "      <td>2021-04-14T07:00:00Z</td>\n",
       "      <td>2021-05-30T21:08:54Z</td>\n",
       "      <td>1.3.1</td>\n",
       "      <td>0.00</td>\n",
       "      <td>USD</td>\n",
       "      <td>1457024163</td>\n",
       "      <td>Terp AS</td>\n",
       "      <td>https://apps.apple.com/us/developer/terp-as/id...</td>\n",
       "      <td>0.0</td>\n",
       "      <td>0</td>\n",
       "      <td>0.0</td>\n",
       "      <td>0</td>\n",
       "      <td>20.926758</td>\n",
       "      <td>Free</td>\n",
       "    </tr>\n",
       "    <tr>\n",
       "      <th>3</th>\n",
       "      <td>fr.antoinettefleur.Book1</td>\n",
       "      <td>A-F Book #1</td>\n",
       "      <td>https://apps.apple.com/us/app/a-f-book-1/id500...</td>\n",
       "      <td>Book</td>\n",
       "      <td>Children</td>\n",
       "      <td>81851392.0</td>\n",
       "      <td>8.0</td>\n",
       "      <td>2012-02-10T03:40:07Z</td>\n",
       "      <td>2019-10-29T12:40:37Z</td>\n",
       "      <td>1.2</td>\n",
       "      <td>2.99</td>\n",
       "      <td>USD</td>\n",
       "      <td>439568839</td>\n",
       "      <td>i-editeur.com</td>\n",
       "      <td>https://apps.apple.com/us/developer/i-editeur-...</td>\n",
       "      <td>0.0</td>\n",
       "      <td>0</td>\n",
       "      <td>0.0</td>\n",
       "      <td>0</td>\n",
       "      <td>78.059570</td>\n",
       "      <td>Paid</td>\n",
       "    </tr>\n",
       "    <tr>\n",
       "      <th>4</th>\n",
       "      <td>com.imonstersoft.azdictionaryios</td>\n",
       "      <td>A-Z Synonyms Dictionary</td>\n",
       "      <td>https://apps.apple.com/us/app/a-z-synonyms-dic...</td>\n",
       "      <td>Reference</td>\n",
       "      <td>Children</td>\n",
       "      <td>64692224.0</td>\n",
       "      <td>9.0</td>\n",
       "      <td>2020-12-16T08:00:00Z</td>\n",
       "      <td>2020-12-18T21:36:11Z</td>\n",
       "      <td>1.0.1</td>\n",
       "      <td>0.00</td>\n",
       "      <td>USD</td>\n",
       "      <td>656731821</td>\n",
       "      <td>Ngov chiheang</td>\n",
       "      <td>https://apps.apple.com/us/developer/ngov-chihe...</td>\n",
       "      <td>0.0</td>\n",
       "      <td>0</td>\n",
       "      <td>0.0</td>\n",
       "      <td>0</td>\n",
       "      <td>61.695312</td>\n",
       "      <td>Free</td>\n",
       "    </tr>\n",
       "  </tbody>\n",
       "</table>\n",
       "</div>"
      ],
      "text/plain": [
       "                             App_Id                 App_Name  \\\n",
       "0               com.hkbu.arc.apaper           A+ Paper Guide   \n",
       "1               com.dmitriev.abooks                  A-Books   \n",
       "2                    no.terp.abooks                  A-books   \n",
       "3          fr.antoinettefleur.Book1              A-F Book #1   \n",
       "4  com.imonstersoft.azdictionaryios  A-Z Synonyms Dictionary   \n",
       "\n",
       "                                        AppStore_Url Primary_Genre  \\\n",
       "0  https://apps.apple.com/us/app/a-paper-guide/id...     Education   \n",
       "1  https://apps.apple.com/us/app/a-books/id103157...          Book   \n",
       "2  https://apps.apple.com/us/app/a-books/id145702...          Book   \n",
       "3  https://apps.apple.com/us/app/a-f-book-1/id500...          Book   \n",
       "4  https://apps.apple.com/us/app/a-z-synonyms-dic...     Reference   \n",
       "\n",
       "  Content_Rating  Size_Bytes Required_IOS_Version              Released  \\\n",
       "0       Children  21993472.0                  8.0  2017-09-28T03:02:41Z   \n",
       "1       Children  13135872.0                 10.0  2015-08-31T19:31:32Z   \n",
       "2       Children  21943296.0                  9.0  2021-04-14T07:00:00Z   \n",
       "3       Children  81851392.0                  8.0  2012-02-10T03:40:07Z   \n",
       "4       Children  64692224.0                  9.0  2020-12-16T08:00:00Z   \n",
       "\n",
       "                Updated Version  Price Currency  DeveloperId       Developer  \\\n",
       "0  2018-12-21T21:30:36Z   1.1.2   0.00      USD   1375410542        HKBU ARC   \n",
       "1  2019-07-23T20:31:09Z     1.3   0.00      USD   1031572001  Roman Dmitriev   \n",
       "2  2021-05-30T21:08:54Z   1.3.1   0.00      USD   1457024163         Terp AS   \n",
       "3  2019-10-29T12:40:37Z     1.2   2.99      USD    439568839   i-editeur.com   \n",
       "4  2020-12-18T21:36:11Z   1.0.1   0.00      USD    656731821   Ngov chiheang   \n",
       "\n",
       "                                       Developer_Url  Average_User_Rating  \\\n",
       "0  https://apps.apple.com/us/developer/hkbu-arc/i...                  0.0   \n",
       "1  https://apps.apple.com/us/developer/roman-dmit...                  5.0   \n",
       "2  https://apps.apple.com/us/developer/terp-as/id...                  0.0   \n",
       "3  https://apps.apple.com/us/developer/i-editeur-...                  0.0   \n",
       "4  https://apps.apple.com/us/developer/ngov-chihe...                  0.0   \n",
       "\n",
       "   Reviews  Current_Version_Score  Current_Version_Reviews    Size_MB  Type  \n",
       "0        0                    0.0                        0  20.974609  Free  \n",
       "1        1                    5.0                        1  12.527344  Free  \n",
       "2        0                    0.0                        0  20.926758  Free  \n",
       "3        0                    0.0                        0  78.059570  Paid  \n",
       "4        0                    0.0                        0  61.695312  Free  "
      ]
     },
     "execution_count": 166,
     "metadata": {},
     "output_type": "execute_result"
    }
   ],
   "source": [
    "df.head(5)"
   ]
  },
  {
   "cell_type": "markdown",
   "metadata": {},
   "source": [
    "### 5.8 Let's change the `Reviews` to certain ranges for the better understanding of the data"
   ]
  },
  {
   "cell_type": "code",
   "execution_count": 167,
   "metadata": {},
   "outputs": [
    {
     "data": {
      "text/plain": [
       "0"
      ]
     },
     "execution_count": 167,
     "metadata": {},
     "output_type": "execute_result"
    }
   ],
   "source": [
    "df['Reviews'].min()"
   ]
  },
  {
   "cell_type": "code",
   "execution_count": 168,
   "metadata": {},
   "outputs": [
    {
     "data": {
      "text/plain": [
       "22685334"
      ]
     },
     "execution_count": 168,
     "metadata": {},
     "output_type": "execute_result"
    }
   ],
   "source": [
    "df['Reviews'].max()"
   ]
  },
  {
   "cell_type": "code",
   "execution_count": 169,
   "metadata": {},
   "outputs": [
    {
     "data": {
      "text/plain": [
       "count    1.230372e+06\n",
       "mean     8.259505e+02\n",
       "std      5.016059e+04\n",
       "min      0.000000e+00\n",
       "25%      0.000000e+00\n",
       "50%      0.000000e+00\n",
       "75%      3.000000e+00\n",
       "max      2.268533e+07\n",
       "Name: Reviews, dtype: float64"
      ]
     },
     "execution_count": 169,
     "metadata": {},
     "output_type": "execute_result"
    }
   ],
   "source": [
    "df.Reviews.describe()"
   ]
  },
  {
   "cell_type": "markdown",
   "metadata": {},
   "source": [
    "#### Observation 7:   \n",
    "Review column is  numeric column that holds information about the number fo reviews users left while dowloading /using the app  \n",
    "> We have a long sequence of data when it comes to  Reviews column :    \n",
    "\n",
    "min      0\n",
    "max      22685334       \n",
    "\n",
    "We can club this long sequence into a compressed form and presentation. In another column called ReviewCategory\n",
    "    \n",
    "- if an app has reviews between 0 and 10000 --> Less than 10K\n",
    "- if an app has reviews between 10000 and 500000 --> Between 10K and 500K\n",
    "- if an app has reviews between 500000 and 1000000 --> Between 500K and 1Mil\n",
    "- if an app has reviews between 1000000 and 22685334 --> Million Plus"
   ]
  },
  {
   "cell_type": "code",
   "execution_count": 170,
   "metadata": {},
   "outputs": [
    {
     "data": {
      "text/plain": [
       "ReviewCategory\n",
       "NoReviewsProvided             684317\n",
       "Less than 10k                 539031\n",
       "Between 10K and 500K            6726\n",
       "Million+                         152\n",
       "Between 500K and 1 Million       146\n",
       "Name: count, dtype: int64"
      ]
     },
     "execution_count": 170,
     "metadata": {},
     "output_type": "execute_result"
    }
   ],
   "source": [
    "df['ReviewCategory'] = 'NoReviewsProvided'\n",
    "df.loc[(df['Reviews'] > 0) & (df['Reviews'] <= 10000.0), 'ReviewCategory'] = 'Less than 10k'\n",
    "df.loc[(df['Reviews'] > 10000) & (df['Reviews'] <= 500000.0), 'ReviewCategory'] = 'Between 10K and 500K'\n",
    "df.loc[(df['Reviews'] > 500000) & (df['Reviews'] <= 1000000.0), 'ReviewCategory'] = 'Between 500K and 1 Million'\n",
    "df.loc[(df['Reviews'] > 1000000) & (df['Reviews'] <= 22685334.0), 'ReviewCategory'] = 'Million+'\n",
    "df['ReviewCategory'].value_counts()"
   ]
  },
  {
   "cell_type": "code",
   "execution_count": 171,
   "metadata": {},
   "outputs": [
    {
     "name": "stdout",
     "output_type": "stream",
     "text": [
      "<class 'pandas.core.frame.DataFrame'>\n",
      "Index: 1230372 entries, 0 to 1230375\n",
      "Data columns (total 22 columns):\n",
      " #   Column                   Non-Null Count    Dtype  \n",
      "---  ------                   --------------    -----  \n",
      " 0   App_Id                   1230372 non-null  object \n",
      " 1   App_Name                 1230372 non-null  object \n",
      " 2   AppStore_Url             1230372 non-null  object \n",
      " 3   Primary_Genre            1230372 non-null  object \n",
      " 4   Content_Rating           1230372 non-null  object \n",
      " 5   Size_Bytes               1230372 non-null  float64\n",
      " 6   Required_IOS_Version     1230372 non-null  object \n",
      " 7   Released                 1230372 non-null  object \n",
      " 8   Updated                  1230372 non-null  object \n",
      " 9   Version                  1230372 non-null  object \n",
      " 10  Price                    1230372 non-null  float64\n",
      " 11  Currency                 1230372 non-null  object \n",
      " 12  DeveloperId              1230372 non-null  int64  \n",
      " 13  Developer                1230372 non-null  object \n",
      " 14  Developer_Url            1229263 non-null  object \n",
      " 15  Average_User_Rating      1230372 non-null  float64\n",
      " 16  Reviews                  1230372 non-null  int64  \n",
      " 17  Current_Version_Score    1230372 non-null  float64\n",
      " 18  Current_Version_Reviews  1230372 non-null  int64  \n",
      " 19  Size_MB                  1230372 non-null  float64\n",
      " 20  Type                     1230372 non-null  object \n",
      " 21  ReviewCategory           1230372 non-null  object \n",
      "dtypes: float64(5), int64(3), object(14)\n",
      "memory usage: 215.9+ MB\n"
     ]
    }
   ],
   "source": [
    "df.info()"
   ]
  },
  {
   "cell_type": "markdown",
   "metadata": {},
   "source": [
    "### 5.9 Cleaning `Average_User_Rating`\n",
    "- Let's round off and store the float decimal values in the df['Average_User_Rating'], which are currently in the range of 0 to 5."
   ]
  },
  {
   "cell_type": "code",
   "execution_count": 172,
   "metadata": {},
   "outputs": [],
   "source": [
    "df['Average_User_Rating'] = df['Average_User_Rating'].round().astype(int)"
   ]
  },
  {
   "cell_type": "code",
   "execution_count": 173,
   "metadata": {},
   "outputs": [
    {
     "data": {
      "text/html": [
       "<div>\n",
       "<style scoped>\n",
       "    .dataframe tbody tr th:only-of-type {\n",
       "        vertical-align: middle;\n",
       "    }\n",
       "\n",
       "    .dataframe tbody tr th {\n",
       "        vertical-align: top;\n",
       "    }\n",
       "\n",
       "    .dataframe thead th {\n",
       "        text-align: right;\n",
       "    }\n",
       "</style>\n",
       "<table border=\"1\" class=\"dataframe\">\n",
       "  <thead>\n",
       "    <tr style=\"text-align: right;\">\n",
       "      <th></th>\n",
       "      <th>App_Id</th>\n",
       "      <th>App_Name</th>\n",
       "      <th>AppStore_Url</th>\n",
       "      <th>Primary_Genre</th>\n",
       "      <th>Content_Rating</th>\n",
       "      <th>Size_Bytes</th>\n",
       "      <th>Required_IOS_Version</th>\n",
       "      <th>Released</th>\n",
       "      <th>Updated</th>\n",
       "      <th>Version</th>\n",
       "      <th>Price</th>\n",
       "      <th>Currency</th>\n",
       "      <th>DeveloperId</th>\n",
       "      <th>Developer</th>\n",
       "      <th>Developer_Url</th>\n",
       "      <th>Average_User_Rating</th>\n",
       "      <th>Reviews</th>\n",
       "      <th>Current_Version_Score</th>\n",
       "      <th>Current_Version_Reviews</th>\n",
       "      <th>Size_MB</th>\n",
       "      <th>Type</th>\n",
       "      <th>ReviewCategory</th>\n",
       "    </tr>\n",
       "  </thead>\n",
       "  <tbody>\n",
       "    <tr>\n",
       "      <th>0</th>\n",
       "      <td>com.hkbu.arc.apaper</td>\n",
       "      <td>A+ Paper Guide</td>\n",
       "      <td>https://apps.apple.com/us/app/a-paper-guide/id...</td>\n",
       "      <td>Education</td>\n",
       "      <td>Children</td>\n",
       "      <td>21993472.0</td>\n",
       "      <td>8.0</td>\n",
       "      <td>2017-09-28T03:02:41Z</td>\n",
       "      <td>2018-12-21T21:30:36Z</td>\n",
       "      <td>1.1.2</td>\n",
       "      <td>0.00</td>\n",
       "      <td>USD</td>\n",
       "      <td>1375410542</td>\n",
       "      <td>HKBU ARC</td>\n",
       "      <td>https://apps.apple.com/us/developer/hkbu-arc/i...</td>\n",
       "      <td>0</td>\n",
       "      <td>0</td>\n",
       "      <td>0.0</td>\n",
       "      <td>0</td>\n",
       "      <td>20.974609</td>\n",
       "      <td>Free</td>\n",
       "      <td>NoReviewsProvided</td>\n",
       "    </tr>\n",
       "    <tr>\n",
       "      <th>1</th>\n",
       "      <td>com.dmitriev.abooks</td>\n",
       "      <td>A-Books</td>\n",
       "      <td>https://apps.apple.com/us/app/a-books/id103157...</td>\n",
       "      <td>Book</td>\n",
       "      <td>Children</td>\n",
       "      <td>13135872.0</td>\n",
       "      <td>10.0</td>\n",
       "      <td>2015-08-31T19:31:32Z</td>\n",
       "      <td>2019-07-23T20:31:09Z</td>\n",
       "      <td>1.3</td>\n",
       "      <td>0.00</td>\n",
       "      <td>USD</td>\n",
       "      <td>1031572001</td>\n",
       "      <td>Roman Dmitriev</td>\n",
       "      <td>https://apps.apple.com/us/developer/roman-dmit...</td>\n",
       "      <td>5</td>\n",
       "      <td>1</td>\n",
       "      <td>5.0</td>\n",
       "      <td>1</td>\n",
       "      <td>12.527344</td>\n",
       "      <td>Free</td>\n",
       "      <td>Less than 10k</td>\n",
       "    </tr>\n",
       "    <tr>\n",
       "      <th>2</th>\n",
       "      <td>no.terp.abooks</td>\n",
       "      <td>A-books</td>\n",
       "      <td>https://apps.apple.com/us/app/a-books/id145702...</td>\n",
       "      <td>Book</td>\n",
       "      <td>Children</td>\n",
       "      <td>21943296.0</td>\n",
       "      <td>9.0</td>\n",
       "      <td>2021-04-14T07:00:00Z</td>\n",
       "      <td>2021-05-30T21:08:54Z</td>\n",
       "      <td>1.3.1</td>\n",
       "      <td>0.00</td>\n",
       "      <td>USD</td>\n",
       "      <td>1457024163</td>\n",
       "      <td>Terp AS</td>\n",
       "      <td>https://apps.apple.com/us/developer/terp-as/id...</td>\n",
       "      <td>0</td>\n",
       "      <td>0</td>\n",
       "      <td>0.0</td>\n",
       "      <td>0</td>\n",
       "      <td>20.926758</td>\n",
       "      <td>Free</td>\n",
       "      <td>NoReviewsProvided</td>\n",
       "    </tr>\n",
       "    <tr>\n",
       "      <th>3</th>\n",
       "      <td>fr.antoinettefleur.Book1</td>\n",
       "      <td>A-F Book #1</td>\n",
       "      <td>https://apps.apple.com/us/app/a-f-book-1/id500...</td>\n",
       "      <td>Book</td>\n",
       "      <td>Children</td>\n",
       "      <td>81851392.0</td>\n",
       "      <td>8.0</td>\n",
       "      <td>2012-02-10T03:40:07Z</td>\n",
       "      <td>2019-10-29T12:40:37Z</td>\n",
       "      <td>1.2</td>\n",
       "      <td>2.99</td>\n",
       "      <td>USD</td>\n",
       "      <td>439568839</td>\n",
       "      <td>i-editeur.com</td>\n",
       "      <td>https://apps.apple.com/us/developer/i-editeur-...</td>\n",
       "      <td>0</td>\n",
       "      <td>0</td>\n",
       "      <td>0.0</td>\n",
       "      <td>0</td>\n",
       "      <td>78.059570</td>\n",
       "      <td>Paid</td>\n",
       "      <td>NoReviewsProvided</td>\n",
       "    </tr>\n",
       "    <tr>\n",
       "      <th>4</th>\n",
       "      <td>com.imonstersoft.azdictionaryios</td>\n",
       "      <td>A-Z Synonyms Dictionary</td>\n",
       "      <td>https://apps.apple.com/us/app/a-z-synonyms-dic...</td>\n",
       "      <td>Reference</td>\n",
       "      <td>Children</td>\n",
       "      <td>64692224.0</td>\n",
       "      <td>9.0</td>\n",
       "      <td>2020-12-16T08:00:00Z</td>\n",
       "      <td>2020-12-18T21:36:11Z</td>\n",
       "      <td>1.0.1</td>\n",
       "      <td>0.00</td>\n",
       "      <td>USD</td>\n",
       "      <td>656731821</td>\n",
       "      <td>Ngov chiheang</td>\n",
       "      <td>https://apps.apple.com/us/developer/ngov-chihe...</td>\n",
       "      <td>0</td>\n",
       "      <td>0</td>\n",
       "      <td>0.0</td>\n",
       "      <td>0</td>\n",
       "      <td>61.695312</td>\n",
       "      <td>Free</td>\n",
       "      <td>NoReviewsProvided</td>\n",
       "    </tr>\n",
       "  </tbody>\n",
       "</table>\n",
       "</div>"
      ],
      "text/plain": [
       "                             App_Id                 App_Name  \\\n",
       "0               com.hkbu.arc.apaper           A+ Paper Guide   \n",
       "1               com.dmitriev.abooks                  A-Books   \n",
       "2                    no.terp.abooks                  A-books   \n",
       "3          fr.antoinettefleur.Book1              A-F Book #1   \n",
       "4  com.imonstersoft.azdictionaryios  A-Z Synonyms Dictionary   \n",
       "\n",
       "                                        AppStore_Url Primary_Genre  \\\n",
       "0  https://apps.apple.com/us/app/a-paper-guide/id...     Education   \n",
       "1  https://apps.apple.com/us/app/a-books/id103157...          Book   \n",
       "2  https://apps.apple.com/us/app/a-books/id145702...          Book   \n",
       "3  https://apps.apple.com/us/app/a-f-book-1/id500...          Book   \n",
       "4  https://apps.apple.com/us/app/a-z-synonyms-dic...     Reference   \n",
       "\n",
       "  Content_Rating  Size_Bytes Required_IOS_Version              Released  \\\n",
       "0       Children  21993472.0                  8.0  2017-09-28T03:02:41Z   \n",
       "1       Children  13135872.0                 10.0  2015-08-31T19:31:32Z   \n",
       "2       Children  21943296.0                  9.0  2021-04-14T07:00:00Z   \n",
       "3       Children  81851392.0                  8.0  2012-02-10T03:40:07Z   \n",
       "4       Children  64692224.0                  9.0  2020-12-16T08:00:00Z   \n",
       "\n",
       "                Updated Version  Price Currency  DeveloperId       Developer  \\\n",
       "0  2018-12-21T21:30:36Z   1.1.2   0.00      USD   1375410542        HKBU ARC   \n",
       "1  2019-07-23T20:31:09Z     1.3   0.00      USD   1031572001  Roman Dmitriev   \n",
       "2  2021-05-30T21:08:54Z   1.3.1   0.00      USD   1457024163         Terp AS   \n",
       "3  2019-10-29T12:40:37Z     1.2   2.99      USD    439568839   i-editeur.com   \n",
       "4  2020-12-18T21:36:11Z   1.0.1   0.00      USD    656731821   Ngov chiheang   \n",
       "\n",
       "                                       Developer_Url  Average_User_Rating  \\\n",
       "0  https://apps.apple.com/us/developer/hkbu-arc/i...                    0   \n",
       "1  https://apps.apple.com/us/developer/roman-dmit...                    5   \n",
       "2  https://apps.apple.com/us/developer/terp-as/id...                    0   \n",
       "3  https://apps.apple.com/us/developer/i-editeur-...                    0   \n",
       "4  https://apps.apple.com/us/developer/ngov-chihe...                    0   \n",
       "\n",
       "   Reviews  Current_Version_Score  Current_Version_Reviews    Size_MB  Type  \\\n",
       "0        0                    0.0                        0  20.974609  Free   \n",
       "1        1                    5.0                        1  12.527344  Free   \n",
       "2        0                    0.0                        0  20.926758  Free   \n",
       "3        0                    0.0                        0  78.059570  Paid   \n",
       "4        0                    0.0                        0  61.695312  Free   \n",
       "\n",
       "      ReviewCategory  \n",
       "0  NoReviewsProvided  \n",
       "1      Less than 10k  \n",
       "2  NoReviewsProvided  \n",
       "3  NoReviewsProvided  \n",
       "4  NoReviewsProvided  "
      ]
     },
     "execution_count": 173,
     "metadata": {},
     "output_type": "execute_result"
    }
   ],
   "source": [
    "df.head(5)"
   ]
  },
  {
   "cell_type": "code",
   "execution_count": 174,
   "metadata": {},
   "outputs": [
    {
     "data": {
      "text/plain": [
       "array([0, 5, 3, 4, 2, 1])"
      ]
     },
     "execution_count": 174,
     "metadata": {},
     "output_type": "execute_result"
    }
   ],
   "source": [
    "df['Average_User_Rating'].unique()"
   ]
  },
  {
   "cell_type": "markdown",
   "metadata": {},
   "source": [
    "# 6.0 Question and Aswers :              \n",
    "> We are going to pose following questions against the dataset:\n",
    "\n",
    "1. What are the top 10 Categories that are installed from the Apple Store?\n",
    "2. What are the  highest top 10 rated primary_genre based on  Average_User_Rating\n",
    "3. Which Primary_Genre has the highest count of Paid and Free apps?\n",
    "4. What are the Top 5 Paid Apps based with highest ratings?\n",
    "5. What are the Top 5 Free Apps based With highest ratings?\n",
    "6. Apps with highest content rating\n",
    "7. Years in which max apps were released\n",
    "8. Size in MBs Vs Price of App\n",
    "9. Top 10 app producing developer\n",
    "10. What type of Genre attracted what kind of clintele in terms of revenues?\n",
    "11. YoY (Year on Year) comparison of apps per Content_Rating\n",
    "12. User Rating vs Price\n",
    "13. User Rating vs MBytes\n",
    "14. Year on Year break down of top-5 Genre based on App Price\n",
    "15. IOS Versions Vs Count of app\n",
    "16. Interdependency of numeric attributes on each other"
   ]
  },
  {
   "cell_type": "markdown",
   "metadata": {},
   "source": [
    "### Question 1. What are the top 10 Categories that are installed from the Apple Store?"
   ]
  },
  {
   "cell_type": "code",
   "execution_count": 175,
   "metadata": {},
   "outputs": [],
   "source": [
    "top_Genre = df.Primary_Genre.value_counts().reset_index().rename(columns={'Primary_Genre':'Primary_Genre','count':'Count'})\n",
    "# top_Genre = df.Primary_Genre.value_counts().reset_index()"
   ]
  },
  {
   "cell_type": "code",
   "execution_count": 176,
   "metadata": {},
   "outputs": [],
   "source": [
    "top10_top_Genre = top_Genre.head(10)"
   ]
  },
  {
   "cell_type": "code",
   "execution_count": 177,
   "metadata": {},
   "outputs": [
    {
     "data": {
      "text/html": [
       "<div>\n",
       "<style scoped>\n",
       "    .dataframe tbody tr th:only-of-type {\n",
       "        vertical-align: middle;\n",
       "    }\n",
       "\n",
       "    .dataframe tbody tr th {\n",
       "        vertical-align: top;\n",
       "    }\n",
       "\n",
       "    .dataframe thead th {\n",
       "        text-align: right;\n",
       "    }\n",
       "</style>\n",
       "<table border=\"1\" class=\"dataframe\">\n",
       "  <thead>\n",
       "    <tr style=\"text-align: right;\">\n",
       "      <th></th>\n",
       "      <th>Primary_Genre</th>\n",
       "      <th>Count</th>\n",
       "    </tr>\n",
       "  </thead>\n",
       "  <tbody>\n",
       "    <tr>\n",
       "      <th>0</th>\n",
       "      <td>Games</td>\n",
       "      <td>193746</td>\n",
       "    </tr>\n",
       "    <tr>\n",
       "      <th>1</th>\n",
       "      <td>Business</td>\n",
       "      <td>128297</td>\n",
       "    </tr>\n",
       "    <tr>\n",
       "      <th>2</th>\n",
       "      <td>Education</td>\n",
       "      <td>119174</td>\n",
       "    </tr>\n",
       "    <tr>\n",
       "      <th>3</th>\n",
       "      <td>Utilities</td>\n",
       "      <td>94007</td>\n",
       "    </tr>\n",
       "    <tr>\n",
       "      <th>4</th>\n",
       "      <td>Lifestyle</td>\n",
       "      <td>84565</td>\n",
       "    </tr>\n",
       "    <tr>\n",
       "      <th>5</th>\n",
       "      <td>Food &amp; Drink</td>\n",
       "      <td>73157</td>\n",
       "    </tr>\n",
       "    <tr>\n",
       "      <th>6</th>\n",
       "      <td>Health &amp; Fitness</td>\n",
       "      <td>60724</td>\n",
       "    </tr>\n",
       "    <tr>\n",
       "      <th>7</th>\n",
       "      <td>Productivity</td>\n",
       "      <td>59430</td>\n",
       "    </tr>\n",
       "    <tr>\n",
       "      <th>8</th>\n",
       "      <td>Entertainment</td>\n",
       "      <td>53147</td>\n",
       "    </tr>\n",
       "    <tr>\n",
       "      <th>9</th>\n",
       "      <td>Shopping</td>\n",
       "      <td>49537</td>\n",
       "    </tr>\n",
       "  </tbody>\n",
       "</table>\n",
       "</div>"
      ],
      "text/plain": [
       "      Primary_Genre   Count\n",
       "0             Games  193746\n",
       "1          Business  128297\n",
       "2         Education  119174\n",
       "3         Utilities   94007\n",
       "4         Lifestyle   84565\n",
       "5      Food & Drink   73157\n",
       "6  Health & Fitness   60724\n",
       "7      Productivity   59430\n",
       "8     Entertainment   53147\n",
       "9          Shopping   49537"
      ]
     },
     "execution_count": 177,
     "metadata": {},
     "output_type": "execute_result"
    }
   ],
   "source": [
    "top10_top_Genre.head(10)"
   ]
  },
  {
   "cell_type": "code",
   "execution_count": 178,
   "metadata": {},
   "outputs": [
    {
     "data": {
      "text/plain": [
       "<Axes: xlabel='Primary_Genre', ylabel='Count'>"
      ]
     },
     "execution_count": 178,
     "metadata": {},
     "output_type": "execute_result"
    },
    {
     "data": {
      "image/png": "[encoded data removed]",
      "text/plain": [
       "<Figure size 2000x600 with 1 Axes>"
      ]
     },
     "metadata": {},
     "output_type": "display_data"
    }
   ],
   "source": [
    "sns.barplot(data=top10_top_Genre, x='Primary_Genre', y='Count', color='grey')\n"
   ]
  },
  {
   "cell_type": "markdown",
   "metadata": {},
   "source": [
    "> **Figure-3** Shows the top 10 Categories that are installed from the Apple Store"
   ]
  },
  {
   "cell_type": "markdown",
   "metadata": {},
   "source": [
    "- Answer 1: Gaming Apps are the most downloaded apps from the store"
   ]
  },
  {
   "cell_type": "markdown",
   "metadata": {},
   "source": [
    "---"
   ]
  },
  {
   "cell_type": "markdown",
   "metadata": {},
   "source": [
    "### Question 2. What are the most highest top 10 rated `Primary_Genre` based on `Average_User_Rating`"
   ]
  },
  {
   "cell_type": "code",
   "execution_count": 179,
   "metadata": {},
   "outputs": [
    {
     "name": "stdout",
     "output_type": "stream",
     "text": [
      "Primary_Genre\n",
      "Weather              2.622509\n",
      "Games                2.566412\n",
      "Photo & Video        2.316446\n",
      "Music                2.264232\n",
      "Book                 2.193515\n",
      "Reference            2.191082\n",
      "Finance              2.133470\n",
      "Entertainment        2.025759\n",
      "Social Networking    1.998860\n",
      "Health & Fitness     1.858968\n",
      "Name: Average_User_Rating, dtype: float64\n"
     ]
    }
   ],
   "source": [
    "mean_rating = df.groupby('Primary_Genre')['Average_User_Rating'].mean()\n",
    "\n",
    "sorted_rating = mean_rating.sort_values(ascending=False)\n",
    "\n",
    "top_10 = sorted_rating.head(10)\n",
    "\n",
    "print(top_10)"
   ]
  },
  {
   "cell_type": "markdown",
   "metadata": {},
   "source": [
    "- Answer 2: Based on Average user rating the highest top 10 rated primary_genre weather, Games, Photo & Videos, Music, Book, Reference and etc\n",
    "  \n",
    "---"
   ]
  },
  {
   "cell_type": "markdown",
   "metadata": {},
   "source": [
    "### Question 3: Which `Primary_Genre` has the highest count of `Paid` and `Free` apps?"
   ]
  },
  {
   "cell_type": "code",
   "execution_count": 180,
   "metadata": {},
   "outputs": [],
   "source": [
    "genre_counts = df.groupby(['Primary_Genre', 'Type']).size().reset_index(name='Count')\n",
    "\n",
    "top10_free_apps = genre_counts[genre_counts['Type'] == 'Free'].sort_values(by='Count', ascending=False).head(10)\n",
    "\n",
    "top10_paid_apps = genre_counts[genre_counts['Type'] == 'Paid'].sort_values(by='Count', ascending=False).head(10)\n"
   ]
  },
  {
   "cell_type": "code",
   "execution_count": 181,
   "metadata": {},
   "outputs": [
    {
     "data": {
      "text/html": [
       "<div>\n",
       "<style scoped>\n",
       "    .dataframe tbody tr th:only-of-type {\n",
       "        vertical-align: middle;\n",
       "    }\n",
       "\n",
       "    .dataframe tbody tr th {\n",
       "        vertical-align: top;\n",
       "    }\n",
       "\n",
       "    .dataframe thead th {\n",
       "        text-align: right;\n",
       "    }\n",
       "</style>\n",
       "<table border=\"1\" class=\"dataframe\">\n",
       "  <thead>\n",
       "    <tr style=\"text-align: right;\">\n",
       "      <th></th>\n",
       "      <th>Primary_Genre</th>\n",
       "      <th>Type</th>\n",
       "      <th>Count</th>\n",
       "    </tr>\n",
       "  </thead>\n",
       "  <tbody>\n",
       "    <tr>\n",
       "      <th>14</th>\n",
       "      <td>Games</td>\n",
       "      <td>Free</td>\n",
       "      <td>177409</td>\n",
       "    </tr>\n",
       "    <tr>\n",
       "      <th>2</th>\n",
       "      <td>Business</td>\n",
       "      <td>Free</td>\n",
       "      <td>125535</td>\n",
       "    </tr>\n",
       "    <tr>\n",
       "      <th>6</th>\n",
       "      <td>Education</td>\n",
       "      <td>Free</td>\n",
       "      <td>101799</td>\n",
       "    </tr>\n",
       "    <tr>\n",
       "      <th>48</th>\n",
       "      <td>Utilities</td>\n",
       "      <td>Free</td>\n",
       "      <td>84284</td>\n",
       "    </tr>\n",
       "    <tr>\n",
       "      <th>20</th>\n",
       "      <td>Lifestyle</td>\n",
       "      <td>Free</td>\n",
       "      <td>81295</td>\n",
       "    </tr>\n",
       "  </tbody>\n",
       "</table>\n",
       "</div>"
      ],
      "text/plain": [
       "   Primary_Genre  Type   Count\n",
       "14         Games  Free  177409\n",
       "2       Business  Free  125535\n",
       "6      Education  Free  101799\n",
       "48     Utilities  Free   84284\n",
       "20     Lifestyle  Free   81295"
      ]
     },
     "execution_count": 181,
     "metadata": {},
     "output_type": "execute_result"
    }
   ],
   "source": [
    "top10_free_apps.head(5)"
   ]
  },
  {
   "cell_type": "code",
   "execution_count": 182,
   "metadata": {},
   "outputs": [
    {
     "data": {
      "text/html": [
       "<div>\n",
       "<style scoped>\n",
       "    .dataframe tbody tr th:only-of-type {\n",
       "        vertical-align: middle;\n",
       "    }\n",
       "\n",
       "    .dataframe tbody tr th {\n",
       "        vertical-align: top;\n",
       "    }\n",
       "\n",
       "    .dataframe thead th {\n",
       "        text-align: right;\n",
       "    }\n",
       "</style>\n",
       "<table border=\"1\" class=\"dataframe\">\n",
       "  <thead>\n",
       "    <tr style=\"text-align: right;\">\n",
       "      <th></th>\n",
       "      <th>Primary_Genre</th>\n",
       "      <th>Type</th>\n",
       "      <th>Count</th>\n",
       "    </tr>\n",
       "  </thead>\n",
       "  <tbody>\n",
       "    <tr>\n",
       "      <th>7</th>\n",
       "      <td>Education</td>\n",
       "      <td>Paid</td>\n",
       "      <td>17375</td>\n",
       "    </tr>\n",
       "    <tr>\n",
       "      <th>15</th>\n",
       "      <td>Games</td>\n",
       "      <td>Paid</td>\n",
       "      <td>16337</td>\n",
       "    </tr>\n",
       "    <tr>\n",
       "      <th>49</th>\n",
       "      <td>Utilities</td>\n",
       "      <td>Paid</td>\n",
       "      <td>9723</td>\n",
       "    </tr>\n",
       "    <tr>\n",
       "      <th>45</th>\n",
       "      <td>Stickers</td>\n",
       "      <td>Paid</td>\n",
       "      <td>8865</td>\n",
       "    </tr>\n",
       "    <tr>\n",
       "      <th>35</th>\n",
       "      <td>Productivity</td>\n",
       "      <td>Paid</td>\n",
       "      <td>6006</td>\n",
       "    </tr>\n",
       "  </tbody>\n",
       "</table>\n",
       "</div>"
      ],
      "text/plain": [
       "   Primary_Genre  Type  Count\n",
       "7      Education  Paid  17375\n",
       "15         Games  Paid  16337\n",
       "49     Utilities  Paid   9723\n",
       "45      Stickers  Paid   8865\n",
       "35  Productivity  Paid   6006"
      ]
     },
     "execution_count": 182,
     "metadata": {},
     "output_type": "execute_result"
    }
   ],
   "source": [
    "top10_paid_apps.head(5)"
   ]
  },
  {
   "cell_type": "markdown",
   "metadata": {},
   "source": [
    "- Answer 3:\n",
    "> Free apps list: Games, Business, Education, Utilities, Lifestyle\\\n",
    "> Paid apps: Education, Games, Utilities, Stickers, Productivity\n",
    "---"
   ]
  },
  {
   "cell_type": "markdown",
   "metadata": {},
   "source": [
    "### Question 4: What are the top 5 `Paid Apps` based on highest ratings?"
   ]
  },
  {
   "cell_type": "code",
   "execution_count": 183,
   "metadata": {},
   "outputs": [
    {
     "data": {
      "text/html": [
       "<div>\n",
       "<style scoped>\n",
       "    .dataframe tbody tr th:only-of-type {\n",
       "        vertical-align: middle;\n",
       "    }\n",
       "\n",
       "    .dataframe tbody tr th {\n",
       "        vertical-align: top;\n",
       "    }\n",
       "\n",
       "    .dataframe thead th {\n",
       "        text-align: right;\n",
       "    }\n",
       "</style>\n",
       "<table border=\"1\" class=\"dataframe\">\n",
       "  <thead>\n",
       "    <tr style=\"text-align: right;\">\n",
       "      <th></th>\n",
       "      <th>App_Name</th>\n",
       "      <th>Average_User_Rating</th>\n",
       "    </tr>\n",
       "  </thead>\n",
       "  <tbody>\n",
       "    <tr>\n",
       "      <th>356845</th>\n",
       "      <td>Mimir Mental Math</td>\n",
       "      <td>5</td>\n",
       "    </tr>\n",
       "    <tr>\n",
       "      <th>219130</th>\n",
       "      <td>Hit Chess</td>\n",
       "      <td>5</td>\n",
       "    </tr>\n",
       "    <tr>\n",
       "      <th>219469</th>\n",
       "      <td>Documents Pro</td>\n",
       "      <td>5</td>\n",
       "    </tr>\n",
       "    <tr>\n",
       "      <th>219465</th>\n",
       "      <td>Documents</td>\n",
       "      <td>5</td>\n",
       "    </tr>\n",
       "    <tr>\n",
       "      <th>579230</th>\n",
       "      <td>Mela - Recipe Manager</td>\n",
       "      <td>5</td>\n",
       "    </tr>\n",
       "  </tbody>\n",
       "</table>\n",
       "</div>"
      ],
      "text/plain": [
       "                     App_Name  Average_User_Rating\n",
       "356845      Mimir Mental Math                    5\n",
       "219130              Hit Chess                    5\n",
       "219469          Documents Pro                    5\n",
       "219465              Documents                    5\n",
       "579230  Mela - Recipe Manager                    5"
      ]
     },
     "execution_count": 183,
     "metadata": {},
     "output_type": "execute_result"
    }
   ],
   "source": [
    "top5_paid_apps = df[df['Type'] == 'Paid'].sort_values('Average_User_Rating', ascending=False).head(5)[['App_Name', 'Average_User_Rating']]             \n",
    "top5_paid_apps"
   ]
  },
  {
   "cell_type": "markdown",
   "metadata": {},
   "source": [
    "- Answer 4: Mimir Mental Math, Hit Chess, Documents Pro ,Documents ,Mela - Recipe Manager\t\n",
    "---"
   ]
  },
  {
   "cell_type": "markdown",
   "metadata": {},
   "source": [
    "### Question 5: What are the Top 5 free apps based on Highest Ratings?"
   ]
  },
  {
   "cell_type": "code",
   "execution_count": 184,
   "metadata": {},
   "outputs": [
    {
     "data": {
      "text/html": [
       "<div>\n",
       "<style scoped>\n",
       "    .dataframe tbody tr th:only-of-type {\n",
       "        vertical-align: middle;\n",
       "    }\n",
       "\n",
       "    .dataframe tbody tr th {\n",
       "        vertical-align: top;\n",
       "    }\n",
       "\n",
       "    .dataframe thead th {\n",
       "        text-align: right;\n",
       "    }\n",
       "</style>\n",
       "<table border=\"1\" class=\"dataframe\">\n",
       "  <thead>\n",
       "    <tr style=\"text-align: right;\">\n",
       "      <th></th>\n",
       "      <th>App_Name</th>\n",
       "      <th>Average_User_Rating</th>\n",
       "    </tr>\n",
       "  </thead>\n",
       "  <tbody>\n",
       "    <tr>\n",
       "      <th>615799</th>\n",
       "      <td>Shanghai Gate</td>\n",
       "      <td>5</td>\n",
       "    </tr>\n",
       "    <tr>\n",
       "      <th>426542</th>\n",
       "      <td>CaixaBankNow</td>\n",
       "      <td>5</td>\n",
       "    </tr>\n",
       "    <tr>\n",
       "      <th>994750</th>\n",
       "      <td>TTaxi App</td>\n",
       "      <td>5</td>\n",
       "    </tr>\n",
       "    <tr>\n",
       "      <th>426564</th>\n",
       "      <td>Artium Focus</td>\n",
       "      <td>5</td>\n",
       "    </tr>\n",
       "    <tr>\n",
       "      <th>994752</th>\n",
       "      <td>TTC Watch for Toronto</td>\n",
       "      <td>5</td>\n",
       "    </tr>\n",
       "  </tbody>\n",
       "</table>\n",
       "</div>"
      ],
      "text/plain": [
       "                     App_Name  Average_User_Rating\n",
       "615799          Shanghai Gate                    5\n",
       "426542           CaixaBankNow                    5\n",
       "994750              TTaxi App                    5\n",
       "426564           Artium Focus                    5\n",
       "994752  TTC Watch for Toronto                    5"
      ]
     },
     "execution_count": 184,
     "metadata": {},
     "output_type": "execute_result"
    }
   ],
   "source": [
    "top5_free_apps = df[df['Type'] == 'Free'].sort_values('Average_User_Rating', ascending=False).head(5)[['App_Name', 'Average_User_Rating']]\n",
    "top5_free_apps"
   ]
  },
  {
   "cell_type": "markdown",
   "metadata": {},
   "source": [
    "- Answer 5: Shanghai Gate, CaixaBankNow, TTaxi App, Artium Focus, TTC Watch for Toronto\n",
    "---"
   ]
  },
  {
   "cell_type": "markdown",
   "metadata": {},
   "source": [
    "### Question 6: Apps with highest content rating"
   ]
  },
  {
   "cell_type": "code",
   "execution_count": 185,
   "metadata": {},
   "outputs": [
    {
     "data": {
      "text/html": [
       "<div>\n",
       "<style scoped>\n",
       "    .dataframe tbody tr th:only-of-type {\n",
       "        vertical-align: middle;\n",
       "    }\n",
       "\n",
       "    .dataframe tbody tr th {\n",
       "        vertical-align: top;\n",
       "    }\n",
       "\n",
       "    .dataframe thead th {\n",
       "        text-align: right;\n",
       "    }\n",
       "</style>\n",
       "<table border=\"1\" class=\"dataframe\">\n",
       "  <thead>\n",
       "    <tr style=\"text-align: right;\">\n",
       "      <th></th>\n",
       "      <th>Content_Rating</th>\n",
       "      <th>Count</th>\n",
       "    </tr>\n",
       "  </thead>\n",
       "  <tbody>\n",
       "    <tr>\n",
       "      <th>0</th>\n",
       "      <td>Children</td>\n",
       "      <td>1016666</td>\n",
       "    </tr>\n",
       "    <tr>\n",
       "      <th>1</th>\n",
       "      <td>Adults</td>\n",
       "      <td>124127</td>\n",
       "    </tr>\n",
       "    <tr>\n",
       "      <th>2</th>\n",
       "      <td>Teens</td>\n",
       "      <td>89569</td>\n",
       "    </tr>\n",
       "    <tr>\n",
       "      <th>3</th>\n",
       "      <td>Everyone</td>\n",
       "      <td>10</td>\n",
       "    </tr>\n",
       "  </tbody>\n",
       "</table>\n",
       "</div>"
      ],
      "text/plain": [
       "  Content_Rating    Count\n",
       "0       Children  1016666\n",
       "1         Adults   124127\n",
       "2          Teens    89569\n",
       "3       Everyone       10"
      ]
     },
     "execution_count": 185,
     "metadata": {},
     "output_type": "execute_result"
    }
   ],
   "source": [
    "lst_content_rating = df['Content_Rating'].value_counts().reset_index().rename(columns={'Content_Rating':'Content_Rating', 'count': 'Count'})\n",
    "lst_content_rating.sort_values(by='Count', ascending=False)"
   ]
  },
  {
   "cell_type": "markdown",
   "metadata": {},
   "source": [
    "- Answer 6: Children apps, Adults, Teens & Everyone. this is a breakdown based on apps content_rating and its count from highest to lowest\n",
    "\n",
    "---"
   ]
  },
  {
   "cell_type": "markdown",
   "metadata": {},
   "source": [
    "### Question 7: Years in which max apps were released"
   ]
  },
  {
   "cell_type": "code",
   "execution_count": 186,
   "metadata": {},
   "outputs": [
    {
     "data": {
      "text/html": [
       "<div>\n",
       "<style scoped>\n",
       "    .dataframe tbody tr th:only-of-type {\n",
       "        vertical-align: middle;\n",
       "    }\n",
       "\n",
       "    .dataframe tbody tr th {\n",
       "        vertical-align: top;\n",
       "    }\n",
       "\n",
       "    .dataframe thead th {\n",
       "        text-align: right;\n",
       "    }\n",
       "</style>\n",
       "<table border=\"1\" class=\"dataframe\">\n",
       "  <thead>\n",
       "    <tr style=\"text-align: right;\">\n",
       "      <th></th>\n",
       "      <th>Year_Release</th>\n",
       "      <th>Count</th>\n",
       "    </tr>\n",
       "  </thead>\n",
       "  <tbody>\n",
       "    <tr>\n",
       "      <th>12</th>\n",
       "      <td>2020</td>\n",
       "      <td>227737</td>\n",
       "    </tr>\n",
       "    <tr>\n",
       "      <th>13</th>\n",
       "      <td>2021</td>\n",
       "      <td>218200</td>\n",
       "    </tr>\n",
       "    <tr>\n",
       "      <th>11</th>\n",
       "      <td>2019</td>\n",
       "      <td>165798</td>\n",
       "    </tr>\n",
       "    <tr>\n",
       "      <th>10</th>\n",
       "      <td>2018</td>\n",
       "      <td>135059</td>\n",
       "    </tr>\n",
       "    <tr>\n",
       "      <th>9</th>\n",
       "      <td>2017</td>\n",
       "      <td>126356</td>\n",
       "    </tr>\n",
       "    <tr>\n",
       "      <th>8</th>\n",
       "      <td>2016</td>\n",
       "      <td>120352</td>\n",
       "    </tr>\n",
       "    <tr>\n",
       "      <th>7</th>\n",
       "      <td>2015</td>\n",
       "      <td>78661</td>\n",
       "    </tr>\n",
       "    <tr>\n",
       "      <th>6</th>\n",
       "      <td>2014</td>\n",
       "      <td>55321</td>\n",
       "    </tr>\n",
       "    <tr>\n",
       "      <th>5</th>\n",
       "      <td>2013</td>\n",
       "      <td>39427</td>\n",
       "    </tr>\n",
       "    <tr>\n",
       "      <th>4</th>\n",
       "      <td>2012</td>\n",
       "      <td>27945</td>\n",
       "    </tr>\n",
       "    <tr>\n",
       "      <th>3</th>\n",
       "      <td>2011</td>\n",
       "      <td>19476</td>\n",
       "    </tr>\n",
       "    <tr>\n",
       "      <th>2</th>\n",
       "      <td>2010</td>\n",
       "      <td>10949</td>\n",
       "    </tr>\n",
       "    <tr>\n",
       "      <th>1</th>\n",
       "      <td>2009</td>\n",
       "      <td>4381</td>\n",
       "    </tr>\n",
       "    <tr>\n",
       "      <th>0</th>\n",
       "      <td>2008</td>\n",
       "      <td>652</td>\n",
       "    </tr>\n",
       "    <tr>\n",
       "      <th>14</th>\n",
       "      <td>2022</td>\n",
       "      <td>58</td>\n",
       "    </tr>\n",
       "  </tbody>\n",
       "</table>\n",
       "</div>"
      ],
      "text/plain": [
       "   Year_Release   Count\n",
       "12         2020  227737\n",
       "13         2021  218200\n",
       "11         2019  165798\n",
       "10         2018  135059\n",
       "9          2017  126356\n",
       "8          2016  120352\n",
       "7          2015   78661\n",
       "6          2014   55321\n",
       "5          2013   39427\n",
       "4          2012   27945\n",
       "3          2011   19476\n",
       "2          2010   10949\n",
       "1          2009    4381\n",
       "0          2008     652\n",
       "14         2022      58"
      ]
     },
     "execution_count": 186,
     "metadata": {},
     "output_type": "execute_result"
    }
   ],
   "source": [
    "df['Released'] = pd.to_datetime(df['Released'])\n",
    "df['Year_Release'] = df['Released'].dt.strftime('%Y')\n",
    "cnt_year_app_release = df.groupby(['Year_Release']).size().reset_index(name='Count')\n",
    "cnt_year_app_release.head(20).sort_values(by='Count', ascending=False)"
   ]
  },
  {
   "cell_type": "code",
   "execution_count": 187,
   "metadata": {},
   "outputs": [
    {
     "data": {
      "text/plain": [
       "<Axes: xlabel='Year_Release', ylabel='Count'>"
      ]
     },
     "execution_count": 187,
     "metadata": {},
     "output_type": "execute_result"
    },
    {
     "data": {
      "image/png": "[encoded data removed]",
      "text/plain": [
       "<Figure size 2000x600 with 1 Axes>"
      ]
     },
     "metadata": {},
     "output_type": "display_data"
    }
   ],
   "source": [
    "sns.barplot(cnt_year_app_release, x='Year_Release', y='Count', color='grey')"
   ]
  },
  {
   "cell_type": "markdown",
   "metadata": {},
   "source": [
    "> **Figure 4:** The maximum number of apps were relased on the app store in the year 2020"
   ]
  },
  {
   "cell_type": "markdown",
   "metadata": {},
   "source": [
    "- Answer 7: In 2020, the app store saw the highest number of app releases, likely due to the COVID-19 pandemic forcing more people to stay at home during lockdowns.\n",
    "\n",
    "---"
   ]
  },
  {
   "cell_type": "markdown",
   "metadata": {},
   "source": [
    "### Question 8: Size in MBs vs Price of App"
   ]
  },
  {
   "cell_type": "code",
   "execution_count": 188,
   "metadata": {},
   "outputs": [
    {
     "data": {
      "text/html": [
       "<div>\n",
       "<style scoped>\n",
       "    .dataframe tbody tr th:only-of-type {\n",
       "        vertical-align: middle;\n",
       "    }\n",
       "\n",
       "    .dataframe tbody tr th {\n",
       "        vertical-align: top;\n",
       "    }\n",
       "\n",
       "    .dataframe thead th {\n",
       "        text-align: right;\n",
       "    }\n",
       "</style>\n",
       "<table border=\"1\" class=\"dataframe\">\n",
       "  <thead>\n",
       "    <tr style=\"text-align: right;\">\n",
       "      <th></th>\n",
       "      <th>Size_MB</th>\n",
       "      <th>Price</th>\n",
       "      <th>Count</th>\n",
       "    </tr>\n",
       "  </thead>\n",
       "  <tbody>\n",
       "    <tr>\n",
       "      <th>323728</th>\n",
       "      <td>73222.591724</td>\n",
       "      <td>39.99</td>\n",
       "      <td>1</td>\n",
       "    </tr>\n",
       "    <tr>\n",
       "      <th>323727</th>\n",
       "      <td>55966.684362</td>\n",
       "      <td>29.99</td>\n",
       "      <td>1</td>\n",
       "    </tr>\n",
       "    <tr>\n",
       "      <th>323726</th>\n",
       "      <td>46456.905587</td>\n",
       "      <td>39.99</td>\n",
       "      <td>1</td>\n",
       "    </tr>\n",
       "    <tr>\n",
       "      <th>323725</th>\n",
       "      <td>45104.025642</td>\n",
       "      <td>44.99</td>\n",
       "      <td>1</td>\n",
       "    </tr>\n",
       "    <tr>\n",
       "      <th>323724</th>\n",
       "      <td>43870.335733</td>\n",
       "      <td>49.99</td>\n",
       "      <td>1</td>\n",
       "    </tr>\n",
       "    <tr>\n",
       "      <th>323723</th>\n",
       "      <td>42760.803113</td>\n",
       "      <td>19.99</td>\n",
       "      <td>1</td>\n",
       "    </tr>\n",
       "    <tr>\n",
       "      <th>323722</th>\n",
       "      <td>40410.851272</td>\n",
       "      <td>35.99</td>\n",
       "      <td>1</td>\n",
       "    </tr>\n",
       "    <tr>\n",
       "      <th>323721</th>\n",
       "      <td>40105.749650</td>\n",
       "      <td>39.99</td>\n",
       "      <td>1</td>\n",
       "    </tr>\n",
       "    <tr>\n",
       "      <th>323720</th>\n",
       "      <td>36724.346972</td>\n",
       "      <td>54.99</td>\n",
       "      <td>1</td>\n",
       "    </tr>\n",
       "    <tr>\n",
       "      <th>323719</th>\n",
       "      <td>35358.327187</td>\n",
       "      <td>24.99</td>\n",
       "      <td>1</td>\n",
       "    </tr>\n",
       "  </tbody>\n",
       "</table>\n",
       "</div>"
      ],
      "text/plain": [
       "             Size_MB  Price  Count\n",
       "323728  73222.591724  39.99      1\n",
       "323727  55966.684362  29.99      1\n",
       "323726  46456.905587  39.99      1\n",
       "323725  45104.025642  44.99      1\n",
       "323724  43870.335733  49.99      1\n",
       "323723  42760.803113  19.99      1\n",
       "323722  40410.851272  35.99      1\n",
       "323721  40105.749650  39.99      1\n",
       "323720  36724.346972  54.99      1\n",
       "323719  35358.327187  24.99      1"
      ]
     },
     "execution_count": 188,
     "metadata": {},
     "output_type": "execute_result"
    }
   ],
   "source": [
    "top_apps_size_price = df.groupby(['Size_MB', 'Price']).size().reset_index(name='Count')\n",
    "\n",
    "top10_apps_size_price = top_apps_size_price.sort_values(by='Size_MB', ascending=False).head(10)\n",
    "top10_apps_size_price"
   ]
  },
  {
   "cell_type": "code",
   "execution_count": 189,
   "metadata": {},
   "outputs": [
    {
     "data": {
      "text/plain": [
       "<Axes: xlabel='Size_MB', ylabel='Price'>"
      ]
     },
     "execution_count": 189,
     "metadata": {},
     "output_type": "execute_result"
    },
    {
     "data": {
      "image/png": "[encoded data removed]",
      "text/plain": [
       "<Figure size 2000x600 with 1 Axes>"
      ]
     },
     "metadata": {},
     "output_type": "display_data"
    }
   ],
   "source": [
    "sns.barplot(top10_apps_size_price, x='Size_MB', y='Price' , color='grey')"
   ]
  },
  {
   "cell_type": "markdown",
   "metadata": {},
   "source": [
    "> Figure 5 A : Plot showing the size of the app in MB and its price"
   ]
  },
  {
   "cell_type": "code",
   "execution_count": 190,
   "metadata": {},
   "outputs": [
    {
     "data": {
      "text/plain": [
       "<seaborn.axisgrid.PairGrid at 0x1fd9ec6c170>"
      ]
     },
     "execution_count": 190,
     "metadata": {},
     "output_type": "execute_result"
    },
    {
     "data": {
      "image/png": "[encoded data removed]",
      "text/plain": [
       "<Figure size 579.5x500 with 6 Axes>"
      ]
     },
     "metadata": {},
     "output_type": "display_data"
    }
   ],
   "source": [
    "sns.pairplot(df, hue='Type', vars=['Size_MB', 'Price'])"
   ]
  },
  {
   "cell_type": "markdown",
   "metadata": {},
   "source": [
    "> Figure 5 B: The Pair-plot above further highlights the relation of Free and Paid app with the Price"
   ]
  },
  {
   "cell_type": "markdown",
   "metadata": {},
   "source": [
    "Answer 8: We tried to find a direct/indirect correlation between the size of the app and its price.\n",
    "- This implies that the size of the app is irrelevent to the price of the app(except for few exceptions).\n",
    "\n",
    "---"
   ]
  },
  {
   "cell_type": "markdown",
   "metadata": {},
   "source": [
    "Question 9: Top 10 app producing developer"
   ]
  },
  {
   "cell_type": "code",
   "execution_count": 191,
   "metadata": {},
   "outputs": [
    {
     "data": {
      "text/html": [
       "<div>\n",
       "<style scoped>\n",
       "    .dataframe tbody tr th:only-of-type {\n",
       "        vertical-align: middle;\n",
       "    }\n",
       "\n",
       "    .dataframe tbody tr th {\n",
       "        vertical-align: top;\n",
       "    }\n",
       "\n",
       "    .dataframe thead th {\n",
       "        text-align: right;\n",
       "    }\n",
       "</style>\n",
       "<table border=\"1\" class=\"dataframe\">\n",
       "  <thead>\n",
       "    <tr style=\"text-align: right;\">\n",
       "      <th></th>\n",
       "      <th>Developer</th>\n",
       "      <th>Count</th>\n",
       "    </tr>\n",
       "  </thead>\n",
       "  <tbody>\n",
       "    <tr>\n",
       "      <th>84625</th>\n",
       "      <td>ChowNow</td>\n",
       "      <td>3966</td>\n",
       "    </tr>\n",
       "    <tr>\n",
       "      <th>433323</th>\n",
       "      <td>Touch2Success</td>\n",
       "      <td>1649</td>\n",
       "    </tr>\n",
       "    <tr>\n",
       "      <th>21479</th>\n",
       "      <td>Alexander Velimirovic</td>\n",
       "      <td>1506</td>\n",
       "    </tr>\n",
       "    <tr>\n",
       "      <th>259603</th>\n",
       "      <td>MINDBODY, Incorporated</td>\n",
       "      <td>1247</td>\n",
       "    </tr>\n",
       "    <tr>\n",
       "      <th>332352</th>\n",
       "      <td>Phorest</td>\n",
       "      <td>1131</td>\n",
       "    </tr>\n",
       "    <tr>\n",
       "      <th>309722</th>\n",
       "      <td>OFFLINE MAP TRIP GUIDE LTD</td>\n",
       "      <td>1022</td>\n",
       "    </tr>\n",
       "    <tr>\n",
       "      <th>263311</th>\n",
       "      <td>Magzter Inc.</td>\n",
       "      <td>928</td>\n",
       "    </tr>\n",
       "    <tr>\n",
       "      <th>8474</th>\n",
       "      <td>ASK Video</td>\n",
       "      <td>781</td>\n",
       "    </tr>\n",
       "    <tr>\n",
       "      <th>346047</th>\n",
       "      <td>RAPID ACCELERATION INDIA PRIVATE LIMITED</td>\n",
       "      <td>733</td>\n",
       "    </tr>\n",
       "    <tr>\n",
       "      <th>306510</th>\n",
       "      <td>Nonlinear Educating Inc.</td>\n",
       "      <td>555</td>\n",
       "    </tr>\n",
       "  </tbody>\n",
       "</table>\n",
       "</div>"
      ],
      "text/plain": [
       "                                       Developer  Count\n",
       "84625                                    ChowNow   3966\n",
       "433323                             Touch2Success   1649\n",
       "21479                      Alexander Velimirovic   1506\n",
       "259603                    MINDBODY, Incorporated   1247\n",
       "332352                                   Phorest   1131\n",
       "309722                OFFLINE MAP TRIP GUIDE LTD   1022\n",
       "263311                              Magzter Inc.    928\n",
       "8474                                   ASK Video    781\n",
       "346047  RAPID ACCELERATION INDIA PRIVATE LIMITED    733\n",
       "306510                  Nonlinear Educating Inc.    555"
      ]
     },
     "execution_count": 191,
     "metadata": {},
     "output_type": "execute_result"
    }
   ],
   "source": [
    "top10_cnt_dev = df.groupby(['Developer']).size().reset_index(name='Count').sort_values(by='Count', ascending=False).head(10)\n",
    "top10_cnt_dev"
   ]
  },
  {
   "cell_type": "code",
   "execution_count": 192,
   "metadata": {},
   "outputs": [
    {
     "data": {
      "text/plain": [
       "Text(0.5, 1.0, 'Top 10 app Producing Developer')"
      ]
     },
     "execution_count": 192,
     "metadata": {},
     "output_type": "execute_result"
    },
    {
     "data": {
      "image/png": "[encoded data removed]",
      "text/plain": [
       "<Figure size 800x600 with 1 Axes>"
      ]
     },
     "metadata": {},
     "output_type": "display_data"
    }
   ],
   "source": [
    "plt.figure(figsize=(8,6))\n",
    "data = top10_cnt_dev.groupby('Developer')['Count'].max().sort_values(ascending=True)\n",
    "data = data.head(10)\n",
    "labels = data.keys()\n",
    "plt.pie(data, labels=labels, autopct='%.0f%%')\n",
    "plt.title('Top 10 app Producing Developer', fontsize=14)"
   ]
  },
  {
   "cell_type": "markdown",
   "metadata": {},
   "source": [
    "> **Figure 6:** A pie chart showing which Developer or company has highest app development contribution to the app store"
   ]
  },
  {
   "cell_type": "markdown",
   "metadata": {},
   "source": [
    "- Answer 9: \n",
    "    1. ChowNow\n",
    "    2. Touch2Success\n",
    "    3. Alexander Velimirovic\n",
    "    4. MINDBODY, Incorporated\n",
    "    5. Phorest\n",
    "    6. OFFLINE MAP TRIP GUIDE LTD\n",
    "    7. Magzter Inc.\n",
    "    8. ASK Video\n",
    "    9. RAPID ACCELERATION INDIA PRIVATE LIMITED\n",
    "    10. Nonlinear Educating Inc.\n",
    "\n",
    "\n",
    "---"
   ]
  },
  {
   "cell_type": "markdown",
   "metadata": {},
   "source": [
    "### Question 10: What type of Genre attracted what kind of clintele in terms of revenues"
   ]
  },
  {
   "cell_type": "code",
   "execution_count": 193,
   "metadata": {},
   "outputs": [
    {
     "data": {
      "text/plain": [
       "<Axes: xlabel='Primary_Genre'>"
      ]
     },
     "execution_count": 193,
     "metadata": {},
     "output_type": "execute_result"
    },
    {
     "data": {
      "image/png": "[encoded data removed]",
      "text/plain": [
       "<Figure size 1500x600 with 1 Axes>"
      ]
     },
     "metadata": {},
     "output_type": "display_data"
    }
   ],
   "source": [
    "df.groupby(['Primary_Genre','Content_Rating'])['Price'].sum().unstack().plot(kind='bar' , stacked=True, figsize=(15,6))"
   ]
  },
  {
   "cell_type": "markdown",
   "metadata": {},
   "source": [
    "> **Figure 7:** Shows which genre attracted what kind of clintele in terms of revenues"
   ]
  },
  {
   "cell_type": "markdown",
   "metadata": {},
   "source": [
    "- Answer 10: \n",
    "> Few interesting points that needs further analysis and attention. What kind of apps that falls under the category of Business & Utilities and are bought by or for Children\n",
    "\n",
    "### Facts:\n",
    "- ⚠️ Caution: The content rating attribute may not always provide reliable information.\n",
    "- 🚸 Be aware: An app rated 9+ could contain inappropriate content, such as an e-book with mature themes."
   ]
  },
  {
   "cell_type": "code",
   "execution_count": 194,
   "metadata": {},
   "outputs": [
    {
     "data": {
      "text/html": [
       "<div>\n",
       "<style scoped>\n",
       "    .dataframe tbody tr th:only-of-type {\n",
       "        vertical-align: middle;\n",
       "    }\n",
       "\n",
       "    .dataframe tbody tr th {\n",
       "        vertical-align: top;\n",
       "    }\n",
       "\n",
       "    .dataframe thead th {\n",
       "        text-align: right;\n",
       "    }\n",
       "</style>\n",
       "<table border=\"1\" class=\"dataframe\">\n",
       "  <thead>\n",
       "    <tr style=\"text-align: right;\">\n",
       "      <th></th>\n",
       "      <th>App_Id</th>\n",
       "      <th>App_Name</th>\n",
       "      <th>AppStore_Url</th>\n",
       "      <th>Primary_Genre</th>\n",
       "      <th>Content_Rating</th>\n",
       "      <th>Size_Bytes</th>\n",
       "      <th>Required_IOS_Version</th>\n",
       "      <th>Released</th>\n",
       "      <th>Updated</th>\n",
       "      <th>Version</th>\n",
       "      <th>Price</th>\n",
       "      <th>Currency</th>\n",
       "      <th>DeveloperId</th>\n",
       "      <th>Developer</th>\n",
       "      <th>Developer_Url</th>\n",
       "      <th>Average_User_Rating</th>\n",
       "      <th>Reviews</th>\n",
       "      <th>Current_Version_Score</th>\n",
       "      <th>Current_Version_Reviews</th>\n",
       "      <th>Size_MB</th>\n",
       "      <th>Type</th>\n",
       "      <th>ReviewCategory</th>\n",
       "      <th>Year_Release</th>\n",
       "    </tr>\n",
       "  </thead>\n",
       "  <tbody>\n",
       "    <tr>\n",
       "      <th>528</th>\n",
       "      <td>com.lettechnologies.Hadith-Collection-Pro</td>\n",
       "      <td>Hadith Collection English</td>\n",
       "      <td>https://apps.apple.com/us/app/hadith-collectio...</td>\n",
       "      <td>Business</td>\n",
       "      <td>Children</td>\n",
       "      <td>443802624.0</td>\n",
       "      <td>11.0</td>\n",
       "      <td>2021-01-15 08:00:00+00:00</td>\n",
       "      <td>2021-01-15T22:53:46Z</td>\n",
       "      <td>1.0</td>\n",
       "      <td>0.99</td>\n",
       "      <td>USD</td>\n",
       "      <td>1097519044</td>\n",
       "      <td>Akhzar Nazir</td>\n",
       "      <td>https://apps.apple.com/us/developer/akhzar-naz...</td>\n",
       "      <td>0</td>\n",
       "      <td>0</td>\n",
       "      <td>0.0</td>\n",
       "      <td>0</td>\n",
       "      <td>423.243164</td>\n",
       "      <td>Paid</td>\n",
       "      <td>NoReviewsProvided</td>\n",
       "      <td>2021</td>\n",
       "    </tr>\n",
       "    <tr>\n",
       "      <th>565</th>\n",
       "      <td>com.thos.thoshukuk</td>\n",
       "      <td>T-HOS</td>\n",
       "      <td>https://apps.apple.com/us/app/t-hos/id13329939...</td>\n",
       "      <td>Business</td>\n",
       "      <td>Children</td>\n",
       "      <td>20775936.0</td>\n",
       "      <td>10.1</td>\n",
       "      <td>2018-02-12 18:36:26+00:00</td>\n",
       "      <td>2021-09-17T10:05:06Z</td>\n",
       "      <td>1.9</td>\n",
       "      <td>0.00</td>\n",
       "      <td>USD</td>\n",
       "      <td>1332993964</td>\n",
       "      <td>THOS HUKUK OTOMASYON SISTEMLERI YAZILIM ANONIM...</td>\n",
       "      <td>https://apps.apple.com/us/developer/thos-hukuk...</td>\n",
       "      <td>0</td>\n",
       "      <td>0</td>\n",
       "      <td>0.0</td>\n",
       "      <td>0</td>\n",
       "      <td>19.813477</td>\n",
       "      <td>Free</td>\n",
       "      <td>NoReviewsProvided</td>\n",
       "      <td>2018</td>\n",
       "    </tr>\n",
       "    <tr>\n",
       "      <th>569</th>\n",
       "      <td>tr.gov.tccb.mevzuatbilgisistemi</td>\n",
       "      <td>T.C. Mevzuat Bilgi Sistemi</td>\n",
       "      <td>https://apps.apple.com/us/app/t-c-mevzuat-bilg...</td>\n",
       "      <td>Business</td>\n",
       "      <td>Children</td>\n",
       "      <td>12931072.0</td>\n",
       "      <td>10.0</td>\n",
       "      <td>2019-11-22 08:00:00+00:00</td>\n",
       "      <td>2021-06-17T10:02:27Z</td>\n",
       "      <td>1.4.1</td>\n",
       "      <td>0.00</td>\n",
       "      <td>USD</td>\n",
       "      <td>458584330</td>\n",
       "      <td>Türkiye Cumhuriyeti Cumhurbaşkanlığı</td>\n",
       "      <td>https://apps.apple.com/us/developer/t%C3%BCrki...</td>\n",
       "      <td>5</td>\n",
       "      <td>1</td>\n",
       "      <td>5.0</td>\n",
       "      <td>1</td>\n",
       "      <td>12.332031</td>\n",
       "      <td>Free</td>\n",
       "      <td>Less than 10k</td>\n",
       "      <td>2019</td>\n",
       "    </tr>\n",
       "    <tr>\n",
       "      <th>850</th>\n",
       "      <td>tr.gov.tccb.resmigazete</td>\n",
       "      <td>T.C. Resmi Gazete</td>\n",
       "      <td>https://apps.apple.com/us/app/t-c-resmi-gazete...</td>\n",
       "      <td>Business</td>\n",
       "      <td>Children</td>\n",
       "      <td>15455232.0</td>\n",
       "      <td>10.0</td>\n",
       "      <td>2019-07-14 08:39:38+00:00</td>\n",
       "      <td>2021-07-01T18:40:48Z</td>\n",
       "      <td>2.2.3</td>\n",
       "      <td>0.00</td>\n",
       "      <td>USD</td>\n",
       "      <td>458584330</td>\n",
       "      <td>Türkiye Cumhuriyeti Cumhurbaşkanlığı</td>\n",
       "      <td>https://apps.apple.com/us/developer/t%C3%BCrki...</td>\n",
       "      <td>3</td>\n",
       "      <td>2</td>\n",
       "      <td>3.0</td>\n",
       "      <td>2</td>\n",
       "      <td>14.739258</td>\n",
       "      <td>Free</td>\n",
       "      <td>Less than 10k</td>\n",
       "      <td>2019</td>\n",
       "    </tr>\n",
       "    <tr>\n",
       "      <th>885</th>\n",
       "      <td>app.kickpro.ubonbookfair</td>\n",
       "      <td>Ubon Book Fair ครั้งที่ 11</td>\n",
       "      <td>https://apps.apple.com/us/app/ubon-book-fair-%...</td>\n",
       "      <td>Business</td>\n",
       "      <td>Children</td>\n",
       "      <td>55010304.0</td>\n",
       "      <td>10.0</td>\n",
       "      <td>2019-08-05 07:00:00+00:00</td>\n",
       "      <td>2019-08-05T07:00:00Z</td>\n",
       "      <td>1.0</td>\n",
       "      <td>0.00</td>\n",
       "      <td>USD</td>\n",
       "      <td>501928215</td>\n",
       "      <td>Digital Insider Company Limited</td>\n",
       "      <td>https://apps.apple.com/us/developer/digital-in...</td>\n",
       "      <td>0</td>\n",
       "      <td>0</td>\n",
       "      <td>0.0</td>\n",
       "      <td>0</td>\n",
       "      <td>52.461914</td>\n",
       "      <td>Free</td>\n",
       "      <td>NoReviewsProvided</td>\n",
       "      <td>2019</td>\n",
       "    </tr>\n",
       "  </tbody>\n",
       "</table>\n",
       "</div>"
      ],
      "text/plain": [
       "                                        App_Id                    App_Name  \\\n",
       "528  com.lettechnologies.Hadith-Collection-Pro   Hadith Collection English   \n",
       "565                         com.thos.thoshukuk                       T-HOS   \n",
       "569            tr.gov.tccb.mevzuatbilgisistemi  T.C. Mevzuat Bilgi Sistemi   \n",
       "850                    tr.gov.tccb.resmigazete           T.C. Resmi Gazete   \n",
       "885                   app.kickpro.ubonbookfair  Ubon Book Fair ครั้งที่ 11   \n",
       "\n",
       "                                          AppStore_Url Primary_Genre  \\\n",
       "528  https://apps.apple.com/us/app/hadith-collectio...      Business   \n",
       "565  https://apps.apple.com/us/app/t-hos/id13329939...      Business   \n",
       "569  https://apps.apple.com/us/app/t-c-mevzuat-bilg...      Business   \n",
       "850  https://apps.apple.com/us/app/t-c-resmi-gazete...      Business   \n",
       "885  https://apps.apple.com/us/app/ubon-book-fair-%...      Business   \n",
       "\n",
       "    Content_Rating   Size_Bytes Required_IOS_Version  \\\n",
       "528       Children  443802624.0                 11.0   \n",
       "565       Children   20775936.0                 10.1   \n",
       "569       Children   12931072.0                 10.0   \n",
       "850       Children   15455232.0                 10.0   \n",
       "885       Children   55010304.0                 10.0   \n",
       "\n",
       "                     Released               Updated Version  Price Currency  \\\n",
       "528 2021-01-15 08:00:00+00:00  2021-01-15T22:53:46Z     1.0   0.99      USD   \n",
       "565 2018-02-12 18:36:26+00:00  2021-09-17T10:05:06Z     1.9   0.00      USD   \n",
       "569 2019-11-22 08:00:00+00:00  2021-06-17T10:02:27Z   1.4.1   0.00      USD   \n",
       "850 2019-07-14 08:39:38+00:00  2021-07-01T18:40:48Z   2.2.3   0.00      USD   \n",
       "885 2019-08-05 07:00:00+00:00  2019-08-05T07:00:00Z     1.0   0.00      USD   \n",
       "\n",
       "     DeveloperId                                          Developer  \\\n",
       "528   1097519044                                       Akhzar Nazir   \n",
       "565   1332993964  THOS HUKUK OTOMASYON SISTEMLERI YAZILIM ANONIM...   \n",
       "569    458584330               Türkiye Cumhuriyeti Cumhurbaşkanlığı   \n",
       "850    458584330               Türkiye Cumhuriyeti Cumhurbaşkanlığı   \n",
       "885    501928215                    Digital Insider Company Limited   \n",
       "\n",
       "                                         Developer_Url  Average_User_Rating  \\\n",
       "528  https://apps.apple.com/us/developer/akhzar-naz...                    0   \n",
       "565  https://apps.apple.com/us/developer/thos-hukuk...                    0   \n",
       "569  https://apps.apple.com/us/developer/t%C3%BCrki...                    5   \n",
       "850  https://apps.apple.com/us/developer/t%C3%BCrki...                    3   \n",
       "885  https://apps.apple.com/us/developer/digital-in...                    0   \n",
       "\n",
       "     Reviews  Current_Version_Score  Current_Version_Reviews     Size_MB  \\\n",
       "528        0                    0.0                        0  423.243164   \n",
       "565        0                    0.0                        0   19.813477   \n",
       "569        1                    5.0                        1   12.332031   \n",
       "850        2                    3.0                        2   14.739258   \n",
       "885        0                    0.0                        0   52.461914   \n",
       "\n",
       "     Type     ReviewCategory Year_Release  \n",
       "528  Paid  NoReviewsProvided         2021  \n",
       "565  Free  NoReviewsProvided         2018  \n",
       "569  Free      Less than 10k         2019  \n",
       "850  Free      Less than 10k         2019  \n",
       "885  Free  NoReviewsProvided         2019  "
      ]
     },
     "execution_count": 194,
     "metadata": {},
     "output_type": "execute_result"
    }
   ],
   "source": [
    "toddler_business_df = df[(df['Content_Rating'] == 'Children') & (df['Primary_Genre'] == 'Business')]\n",
    "toddler_business_df.head(5)"
   ]
  },
  {
   "cell_type": "code",
   "execution_count": 195,
   "metadata": {},
   "outputs": [
    {
     "data": {
      "text/html": [
       "<div>\n",
       "<style scoped>\n",
       "    .dataframe tbody tr th:only-of-type {\n",
       "        vertical-align: middle;\n",
       "    }\n",
       "\n",
       "    .dataframe tbody tr th {\n",
       "        vertical-align: top;\n",
       "    }\n",
       "\n",
       "    .dataframe thead th {\n",
       "        text-align: right;\n",
       "    }\n",
       "</style>\n",
       "<table border=\"1\" class=\"dataframe\">\n",
       "  <thead>\n",
       "    <tr style=\"text-align: right;\">\n",
       "      <th></th>\n",
       "      <th>App_Id</th>\n",
       "      <th>App_Name</th>\n",
       "      <th>AppStore_Url</th>\n",
       "      <th>Primary_Genre</th>\n",
       "      <th>Content_Rating</th>\n",
       "      <th>Size_Bytes</th>\n",
       "      <th>Required_IOS_Version</th>\n",
       "      <th>Released</th>\n",
       "      <th>Updated</th>\n",
       "      <th>Version</th>\n",
       "      <th>Price</th>\n",
       "      <th>Currency</th>\n",
       "      <th>DeveloperId</th>\n",
       "      <th>Developer</th>\n",
       "      <th>Developer_Url</th>\n",
       "      <th>Average_User_Rating</th>\n",
       "      <th>Reviews</th>\n",
       "      <th>Current_Version_Score</th>\n",
       "      <th>Current_Version_Reviews</th>\n",
       "      <th>Size_MB</th>\n",
       "      <th>Type</th>\n",
       "      <th>ReviewCategory</th>\n",
       "      <th>Year_Release</th>\n",
       "    </tr>\n",
       "  </thead>\n",
       "  <tbody>\n",
       "    <tr>\n",
       "      <th>84</th>\n",
       "      <td>com.lifeng.Dreader</td>\n",
       "      <td>D-Reader</td>\n",
       "      <td>https://apps.apple.com/us/app/d-reader/id10671...</td>\n",
       "      <td>Utilities</td>\n",
       "      <td>Children</td>\n",
       "      <td>24834048.0</td>\n",
       "      <td>7.0</td>\n",
       "      <td>2016-01-05 21:47:32+00:00</td>\n",
       "      <td>2016-03-26T14:17:30Z</td>\n",
       "      <td>1.0.3</td>\n",
       "      <td>0.00</td>\n",
       "      <td>USD</td>\n",
       "      <td>592667658</td>\n",
       "      <td>Beijing Zhongxian Zhihui IP Consulting Co.,Ltd.</td>\n",
       "      <td>https://apps.apple.com/us/developer/beijing-zh...</td>\n",
       "      <td>4</td>\n",
       "      <td>1</td>\n",
       "      <td>4.0</td>\n",
       "      <td>1</td>\n",
       "      <td>23.683594</td>\n",
       "      <td>Free</td>\n",
       "      <td>Less than 10k</td>\n",
       "      <td>2016</td>\n",
       "    </tr>\n",
       "    <tr>\n",
       "      <th>389</th>\n",
       "      <td>com.vrk.Universal.GanapatiStotra</td>\n",
       "      <td>Ganapati Stotra</td>\n",
       "      <td>https://apps.apple.com/us/app/ganapati-stotra/...</td>\n",
       "      <td>Utilities</td>\n",
       "      <td>Children</td>\n",
       "      <td>16099328.0</td>\n",
       "      <td>8.0</td>\n",
       "      <td>2013-06-21 01:22:45+00:00</td>\n",
       "      <td>2019-03-18T22:22:05Z</td>\n",
       "      <td>3.0</td>\n",
       "      <td>0.00</td>\n",
       "      <td>USD</td>\n",
       "      <td>571853659</td>\n",
       "      <td>Vaibhav Kavathekar</td>\n",
       "      <td>https://apps.apple.com/us/developer/vaibhav-ka...</td>\n",
       "      <td>0</td>\n",
       "      <td>0</td>\n",
       "      <td>0.0</td>\n",
       "      <td>0</td>\n",
       "      <td>15.353516</td>\n",
       "      <td>Free</td>\n",
       "      <td>NoReviewsProvided</td>\n",
       "      <td>2013</td>\n",
       "    </tr>\n",
       "    <tr>\n",
       "      <th>680</th>\n",
       "      <td>com.redstonz.noteslocker</td>\n",
       "      <td>Easy Notes Locker,Private Note</td>\n",
       "      <td>https://apps.apple.com/us/app/easy-notes-locke...</td>\n",
       "      <td>Utilities</td>\n",
       "      <td>Children</td>\n",
       "      <td>5597184.0</td>\n",
       "      <td>13.0</td>\n",
       "      <td>2015-06-24 21:05:36+00:00</td>\n",
       "      <td>2021-06-10T07:31:14Z</td>\n",
       "      <td>1.5</td>\n",
       "      <td>0.00</td>\n",
       "      <td>USD</td>\n",
       "      <td>901183899</td>\n",
       "      <td>Waheed Khan</td>\n",
       "      <td>https://apps.apple.com/us/developer/waheed-kha...</td>\n",
       "      <td>5</td>\n",
       "      <td>1</td>\n",
       "      <td>5.0</td>\n",
       "      <td>1</td>\n",
       "      <td>5.337891</td>\n",
       "      <td>Free</td>\n",
       "      <td>Less than 10k</td>\n",
       "      <td>2015</td>\n",
       "    </tr>\n",
       "    <tr>\n",
       "      <th>781</th>\n",
       "      <td>tw.idv.sixlawna</td>\n",
       "      <td>S-link台灣法律法規</td>\n",
       "      <td>https://apps.apple.com/us/app/s-link%E5%8F%B0%...</td>\n",
       "      <td>Utilities</td>\n",
       "      <td>Children</td>\n",
       "      <td>335846400.0</td>\n",
       "      <td>12.0</td>\n",
       "      <td>2018-02-03 05:24:44+00:00</td>\n",
       "      <td>2021-07-24T17:57:14Z</td>\n",
       "      <td>1.0.24</td>\n",
       "      <td>14.99</td>\n",
       "      <td>USD</td>\n",
       "      <td>1311329204</td>\n",
       "      <td>ShuChi Huang</td>\n",
       "      <td>https://apps.apple.com/us/developer/shuchi-hua...</td>\n",
       "      <td>0</td>\n",
       "      <td>0</td>\n",
       "      <td>0.0</td>\n",
       "      <td>0</td>\n",
       "      <td>320.288086</td>\n",
       "      <td>Paid</td>\n",
       "      <td>NoReviewsProvided</td>\n",
       "      <td>2018</td>\n",
       "    </tr>\n",
       "    <tr>\n",
       "      <th>782</th>\n",
       "      <td>tw.idv.sixlaw</td>\n",
       "      <td>S-link台灣法律法規(精簡版)</td>\n",
       "      <td>https://apps.apple.com/us/app/s-link%E5%8F%B0%...</td>\n",
       "      <td>Utilities</td>\n",
       "      <td>Children</td>\n",
       "      <td>129798144.0</td>\n",
       "      <td>12.0</td>\n",
       "      <td>2017-11-14 16:33:40+00:00</td>\n",
       "      <td>2021-07-24T20:32:25Z</td>\n",
       "      <td>1.27</td>\n",
       "      <td>0.00</td>\n",
       "      <td>USD</td>\n",
       "      <td>1311329204</td>\n",
       "      <td>ShuChi Huang</td>\n",
       "      <td>https://apps.apple.com/us/developer/shuchi-hua...</td>\n",
       "      <td>0</td>\n",
       "      <td>0</td>\n",
       "      <td>0.0</td>\n",
       "      <td>0</td>\n",
       "      <td>123.785156</td>\n",
       "      <td>Free</td>\n",
       "      <td>NoReviewsProvided</td>\n",
       "      <td>2017</td>\n",
       "    </tr>\n",
       "  </tbody>\n",
       "</table>\n",
       "</div>"
      ],
      "text/plain": [
       "                               App_Id                        App_Name  \\\n",
       "84                 com.lifeng.Dreader                        D-Reader   \n",
       "389  com.vrk.Universal.GanapatiStotra                 Ganapati Stotra   \n",
       "680          com.redstonz.noteslocker  Easy Notes Locker,Private Note   \n",
       "781                   tw.idv.sixlawna                    S-link台灣法律法規   \n",
       "782                     tw.idv.sixlaw               S-link台灣法律法規(精簡版)   \n",
       "\n",
       "                                          AppStore_Url Primary_Genre  \\\n",
       "84   https://apps.apple.com/us/app/d-reader/id10671...     Utilities   \n",
       "389  https://apps.apple.com/us/app/ganapati-stotra/...     Utilities   \n",
       "680  https://apps.apple.com/us/app/easy-notes-locke...     Utilities   \n",
       "781  https://apps.apple.com/us/app/s-link%E5%8F%B0%...     Utilities   \n",
       "782  https://apps.apple.com/us/app/s-link%E5%8F%B0%...     Utilities   \n",
       "\n",
       "    Content_Rating   Size_Bytes Required_IOS_Version  \\\n",
       "84        Children   24834048.0                  7.0   \n",
       "389       Children   16099328.0                  8.0   \n",
       "680       Children    5597184.0                 13.0   \n",
       "781       Children  335846400.0                 12.0   \n",
       "782       Children  129798144.0                 12.0   \n",
       "\n",
       "                     Released               Updated Version  Price Currency  \\\n",
       "84  2016-01-05 21:47:32+00:00  2016-03-26T14:17:30Z   1.0.3   0.00      USD   \n",
       "389 2013-06-21 01:22:45+00:00  2019-03-18T22:22:05Z     3.0   0.00      USD   \n",
       "680 2015-06-24 21:05:36+00:00  2021-06-10T07:31:14Z     1.5   0.00      USD   \n",
       "781 2018-02-03 05:24:44+00:00  2021-07-24T17:57:14Z  1.0.24  14.99      USD   \n",
       "782 2017-11-14 16:33:40+00:00  2021-07-24T20:32:25Z    1.27   0.00      USD   \n",
       "\n",
       "     DeveloperId                                        Developer  \\\n",
       "84     592667658  Beijing Zhongxian Zhihui IP Consulting Co.,Ltd.   \n",
       "389    571853659                               Vaibhav Kavathekar   \n",
       "680    901183899                                      Waheed Khan   \n",
       "781   1311329204                                     ShuChi Huang   \n",
       "782   1311329204                                     ShuChi Huang   \n",
       "\n",
       "                                         Developer_Url  Average_User_Rating  \\\n",
       "84   https://apps.apple.com/us/developer/beijing-zh...                    4   \n",
       "389  https://apps.apple.com/us/developer/vaibhav-ka...                    0   \n",
       "680  https://apps.apple.com/us/developer/waheed-kha...                    5   \n",
       "781  https://apps.apple.com/us/developer/shuchi-hua...                    0   \n",
       "782  https://apps.apple.com/us/developer/shuchi-hua...                    0   \n",
       "\n",
       "     Reviews  Current_Version_Score  Current_Version_Reviews     Size_MB  \\\n",
       "84         1                    4.0                        1   23.683594   \n",
       "389        0                    0.0                        0   15.353516   \n",
       "680        1                    5.0                        1    5.337891   \n",
       "781        0                    0.0                        0  320.288086   \n",
       "782        0                    0.0                        0  123.785156   \n",
       "\n",
       "     Type     ReviewCategory Year_Release  \n",
       "84   Free      Less than 10k         2016  \n",
       "389  Free  NoReviewsProvided         2013  \n",
       "680  Free      Less than 10k         2015  \n",
       "781  Paid  NoReviewsProvided         2018  \n",
       "782  Free  NoReviewsProvided         2017  "
      ]
     },
     "execution_count": 195,
     "metadata": {},
     "output_type": "execute_result"
    }
   ],
   "source": [
    "toddler_utility_df = df[(df['Content_Rating'] == 'Children') & (df['Primary_Genre'] == 'Utilities')]\n",
    "toddler_utility_df.head(5)"
   ]
  },
  {
   "cell_type": "markdown",
   "metadata": {},
   "source": [
    "----"
   ]
  },
  {
   "cell_type": "markdown",
   "metadata": {},
   "source": [
    "### Question 11: YoY comparison of apps per content_rating"
   ]
  },
  {
   "cell_type": "code",
   "execution_count": 196,
   "metadata": {},
   "outputs": [
    {
     "data": {
      "text/plain": [
       "<Axes: xlabel='Year_Release'>"
      ]
     },
     "execution_count": 196,
     "metadata": {},
     "output_type": "execute_result"
    },
    {
     "data": {
      "image/png": "[encoded data removed]",
      "text/plain": [
       "<Figure size 1500x600 with 1 Axes>"
      ]
     },
     "metadata": {},
     "output_type": "display_data"
    }
   ],
   "source": [
    "cnt_yoy = df.groupby(['Year_Release', 'Content_Rating', 'Primary_Genre']).size().reset_index(name='Count')\n",
    "cnt_yoy.groupby(['Year_Release', 'Content_Rating'])['Count'].sum().unstack().plot(kind='bar', stacked=True, figsize=(15,6))"
   ]
  },
  {
   "cell_type": "markdown",
   "metadata": {},
   "source": [
    "> **Figure 8:** Year on Year engagement of various age groups as categorised by App Store\n",
    "\n",
    "- Answer 11: Clearly the children category is taking the lead. However as pointed out earlier the content rating of non kids app are also rated under children categories.\n",
    "\n",
    "---"
   ]
  },
  {
   "cell_type": "markdown",
   "metadata": {},
   "source": [
    "### Question 12: User Rating vs Price"
   ]
  },
  {
   "cell_type": "code",
   "execution_count": 197,
   "metadata": {},
   "outputs": [
    {
     "data": {
      "text/plain": [
       "<Axes: xlabel='Year_Release'>"
      ]
     },
     "execution_count": 197,
     "metadata": {},
     "output_type": "execute_result"
    },
    {
     "data": {
      "image/png": "[encoded data removed]",
      "text/plain": [
       "<Figure size 1500x600 with 1 Axes>"
      ]
     },
     "metadata": {},
     "output_type": "display_data"
    }
   ],
   "source": [
    "usr_rat_price = df.groupby(['Average_User_Rating', 'Year_Release'])[['Price']].sum()\n",
    "usr_rat_price.groupby(['Year_Release', 'Average_User_Rating'])['Price'].sum().unstack().plot(kind='bar', stacked=True, figsize=(15,6))"
   ]
  },
  {
   "cell_type": "markdown",
   "metadata": {},
   "source": [
    "> **Figure 9:** User rating vs Price. the higher the rating more is the price of the app\n",
    "\n",
    "\n",
    "- Answer 12: User rating vs Price. the higher the rating more is the price of the app\n",
    "\n",
    "---"
   ]
  },
  {
   "cell_type": "markdown",
   "metadata": {},
   "source": [
    "### Question 13: UserRating vs MBytes"
   ]
  },
  {
   "cell_type": "code",
   "execution_count": 198,
   "metadata": {},
   "outputs": [
    {
     "data": {
      "text/plain": [
       "<Axes: xlabel='Year_Release'>"
      ]
     },
     "execution_count": 198,
     "metadata": {},
     "output_type": "execute_result"
    },
    {
     "data": {
      "image/png": "[encoded data removed]",
      "text/plain": [
       "<Figure size 1500x600 with 1 Axes>"
      ]
     },
     "metadata": {},
     "output_type": "display_data"
    }
   ],
   "source": [
    "usr_rat_mb = df.groupby(['Average_User_Rating', 'Year_Release'])[['Size_MB']].sum()\n",
    "usr_rat_mb.groupby(['Year_Release', 'Average_User_Rating'])['Size_MB'].sum().unstack().plot(kind='bar', stacked=True, figsize=(15,6))"
   ]
  },
  {
   "cell_type": "markdown",
   "metadata": {},
   "source": [
    "> **Figure 10:** User rating vs App size in mbs. the higher the rating more is the size of mb of the app"
   ]
  },
  {
   "cell_type": "markdown",
   "metadata": {},
   "source": [
    "- Answer 13: the higher the rating more is the size in MB of the app\n",
    "  \n",
    "---"
   ]
  },
  {
   "cell_type": "markdown",
   "metadata": {},
   "source": [
    "### Question 14: Year on Year break down of top 5 genre based on app price"
   ]
  },
  {
   "cell_type": "code",
   "execution_count": 199,
   "metadata": {},
   "outputs": [
    {
     "data": {
      "image/png": "[encoded data removed]",
      "text/plain": [
       "<Figure size 1500x600 with 1 Axes>"
      ]
     },
     "metadata": {},
     "output_type": "display_data"
    }
   ],
   "source": [
    "rev_per_genre = df.groupby(['Year_Release', 'Primary_Genre'])[['Price']].sum()\n",
    "\n",
    "top5_genres = (rev_per_genre.sort_values(['Year_Release', 'Price'], ascending=[True, False]).groupby('Year_Release').head(5))\n",
    "\n",
    "cmap = plt.get_cmap('tab20')\n",
    "\n",
    "top5_genres.groupby(['Year_Release', 'Primary_Genre'])['Price'].sum().unstack().plot(kind='bar', stacked=True, figsize=(15,6), colormap=cmap, title='Year on Year breakdown of top 5 genre based on app price')\n",
    "\n",
    "plt.xlabel('Year')\n",
    "plt.ylabel('Total Price')\n",
    "plt.legend(title='Primary Genre', bbox_to_anchor=(1.05,1), loc='upper left')\n",
    "plt.show()"
   ]
  },
  {
   "cell_type": "markdown",
   "metadata": {},
   "source": [
    "> **Figure 11:** YoY breakdown per Genre based on app price\n",
    "\n",
    "- Answer 14: Clearly Educational apps contributes more revenue in terms of app sales.\n",
    "  \n",
    "---"
   ]
  },
  {
   "cell_type": "markdown",
   "metadata": {},
   "source": [
    "### Question 15: IOS Versions vs Count of app"
   ]
  },
  {
   "cell_type": "code",
   "execution_count": 200,
   "metadata": {},
   "outputs": [
    {
     "data": {
      "text/plain": [
       "<Axes: xlabel='Required_IOS_Version', ylabel='Count'>"
      ]
     },
     "execution_count": 200,
     "metadata": {},
     "output_type": "execute_result"
    },
    {
     "data": {
      "image/png": "[encoded data removed]",
      "text/plain": [
       "<Figure size 2000x600 with 1 Axes>"
      ]
     },
     "metadata": {},
     "output_type": "display_data"
    }
   ],
   "source": [
    "ver_counts = df.groupby(['Required_IOS_Version']).size().reset_index(name='Count')\n",
    "\n",
    "top_10_ver_counts = ver_counts.sort_values(by='Count', ascending=False).head(10)\n",
    "\n",
    "sns.barplot(top_10_ver_counts, x='Required_IOS_Version', y='Count', color='grey')"
   ]
  },
  {
   "cell_type": "markdown",
   "metadata": {},
   "source": [
    "> **Figure 12:** Top 10 IOS Version vs Count of app\n",
    "\n",
    "- Answer 15: Top 10 IOS Versions vs Count of app\n",
    "\n",
    "---"
   ]
  },
  {
   "cell_type": "markdown",
   "metadata": {},
   "source": [
    "### Question 16: Interdependency of numeric attributes on each other"
   ]
  },
  {
   "cell_type": "code",
   "execution_count": 201,
   "metadata": {},
   "outputs": [
    {
     "ename": "ValueError",
     "evalue": "could not convert string to float: 'com.hkbu.arc.apaper'",
     "output_type": "error",
     "traceback": [
      "\u001b[1;31m---------------------------------------------------------------------------\u001b[0m",
      "\u001b[1;31mValueError\u001b[0m                                Traceback (most recent call last)",
      "\u001b[1;32md:\\New folder (2)\\EDA_AppleAppData.ipynb Cell 159\u001b[0m line \u001b[0;36m1\n\u001b[1;32m----> <a href='vscode-notebook-cell:/d%3A/New%20folder%20%282%29/EDA_AppleAppData.ipynb#Y314sZmlsZQ%3D%3D?line=0'>1</a>\u001b[0m df\u001b[39m.\u001b[39;49mcorr()\n",
      "File \u001b[1;32mc:\\Users\\asad\\miniconda3\\envs\\python_edv\\Lib\\site-packages\\pandas\\core\\frame.py:10707\u001b[0m, in \u001b[0;36mDataFrame.corr\u001b[1;34m(self, method, min_periods, numeric_only)\u001b[0m\n\u001b[0;32m  10705\u001b[0m cols \u001b[39m=\u001b[39m data\u001b[39m.\u001b[39mcolumns\n\u001b[0;32m  10706\u001b[0m idx \u001b[39m=\u001b[39m cols\u001b[39m.\u001b[39mcopy()\n\u001b[1;32m> 10707\u001b[0m mat \u001b[39m=\u001b[39m data\u001b[39m.\u001b[39;49mto_numpy(dtype\u001b[39m=\u001b[39;49m\u001b[39mfloat\u001b[39;49m, na_value\u001b[39m=\u001b[39;49mnp\u001b[39m.\u001b[39;49mnan, copy\u001b[39m=\u001b[39;49m\u001b[39mFalse\u001b[39;49;00m)\n\u001b[0;32m  10709\u001b[0m \u001b[39mif\u001b[39;00m method \u001b[39m==\u001b[39m \u001b[39m\"\u001b[39m\u001b[39mpearson\u001b[39m\u001b[39m\"\u001b[39m:\n\u001b[0;32m  10710\u001b[0m     correl \u001b[39m=\u001b[39m libalgos\u001b[39m.\u001b[39mnancorr(mat, minp\u001b[39m=\u001b[39mmin_periods)\n",
      "File \u001b[1;32mc:\\Users\\asad\\miniconda3\\envs\\python_edv\\Lib\\site-packages\\pandas\\core\\frame.py:1892\u001b[0m, in \u001b[0;36mDataFrame.to_numpy\u001b[1;34m(self, dtype, copy, na_value)\u001b[0m\n\u001b[0;32m   1890\u001b[0m \u001b[39mif\u001b[39;00m dtype \u001b[39mis\u001b[39;00m \u001b[39mnot\u001b[39;00m \u001b[39mNone\u001b[39;00m:\n\u001b[0;32m   1891\u001b[0m     dtype \u001b[39m=\u001b[39m np\u001b[39m.\u001b[39mdtype(dtype)\n\u001b[1;32m-> 1892\u001b[0m result \u001b[39m=\u001b[39m \u001b[39mself\u001b[39;49m\u001b[39m.\u001b[39;49m_mgr\u001b[39m.\u001b[39;49mas_array(dtype\u001b[39m=\u001b[39;49mdtype, copy\u001b[39m=\u001b[39;49mcopy, na_value\u001b[39m=\u001b[39;49mna_value)\n\u001b[0;32m   1893\u001b[0m \u001b[39mif\u001b[39;00m result\u001b[39m.\u001b[39mdtype \u001b[39mis\u001b[39;00m \u001b[39mnot\u001b[39;00m dtype:\n\u001b[0;32m   1894\u001b[0m     result \u001b[39m=\u001b[39m np\u001b[39m.\u001b[39marray(result, dtype\u001b[39m=\u001b[39mdtype, copy\u001b[39m=\u001b[39m\u001b[39mFalse\u001b[39;00m)\n",
      "File \u001b[1;32mc:\\Users\\asad\\miniconda3\\envs\\python_edv\\Lib\\site-packages\\pandas\\core\\internals\\managers.py:1656\u001b[0m, in \u001b[0;36mBlockManager.as_array\u001b[1;34m(self, dtype, copy, na_value)\u001b[0m\n\u001b[0;32m   1654\u001b[0m         arr\u001b[39m.\u001b[39mflags\u001b[39m.\u001b[39mwriteable \u001b[39m=\u001b[39m \u001b[39mFalse\u001b[39;00m\n\u001b[0;32m   1655\u001b[0m \u001b[39melse\u001b[39;00m:\n\u001b[1;32m-> 1656\u001b[0m     arr \u001b[39m=\u001b[39m \u001b[39mself\u001b[39;49m\u001b[39m.\u001b[39;49m_interleave(dtype\u001b[39m=\u001b[39;49mdtype, na_value\u001b[39m=\u001b[39;49mna_value)\n\u001b[0;32m   1657\u001b[0m     \u001b[39m# The underlying data was copied within _interleave, so no need\u001b[39;00m\n\u001b[0;32m   1658\u001b[0m     \u001b[39m# to further copy if copy=True or setting na_value\u001b[39;00m\n\u001b[0;32m   1660\u001b[0m \u001b[39mif\u001b[39;00m na_value \u001b[39mis\u001b[39;00m lib\u001b[39m.\u001b[39mno_default:\n",
      "File \u001b[1;32mc:\\Users\\asad\\miniconda3\\envs\\python_edv\\Lib\\site-packages\\pandas\\core\\internals\\managers.py:1715\u001b[0m, in \u001b[0;36mBlockManager._interleave\u001b[1;34m(self, dtype, na_value)\u001b[0m\n\u001b[0;32m   1713\u001b[0m     \u001b[39melse\u001b[39;00m:\n\u001b[0;32m   1714\u001b[0m         arr \u001b[39m=\u001b[39m blk\u001b[39m.\u001b[39mget_values(dtype)\n\u001b[1;32m-> 1715\u001b[0m     result[rl\u001b[39m.\u001b[39;49mindexer] \u001b[39m=\u001b[39m arr\n\u001b[0;32m   1716\u001b[0m     itemmask[rl\u001b[39m.\u001b[39mindexer] \u001b[39m=\u001b[39m \u001b[39m1\u001b[39m\n\u001b[0;32m   1718\u001b[0m \u001b[39mif\u001b[39;00m \u001b[39mnot\u001b[39;00m itemmask\u001b[39m.\u001b[39mall():\n",
      "\u001b[1;31mValueError\u001b[0m: could not convert string to float: 'com.hkbu.arc.apaper'"
     ]
    }
   ],
   "source": [
    "# df.corr()"
   ]
  },
  {
   "cell_type": "code",
   "execution_count": 202,
   "metadata": {},
   "outputs": [
    {
     "ename": "ValueError",
     "evalue": "could not convert string to float: 'com.hkbu.arc.apaper'",
     "output_type": "error",
     "traceback": [
      "\u001b[1;31m---------------------------------------------------------------------------\u001b[0m",
      "\u001b[1;31mValueError\u001b[0m                                Traceback (most recent call last)",
      "\u001b[1;32md:\\New folder (2)\\EDA_AppleAppData.ipynb Cell 160\u001b[0m line \u001b[0;36m2\n\u001b[0;32m      <a href='vscode-notebook-cell:/d%3A/New%20folder%20%282%29/EDA_AppleAppData.ipynb#Y315sZmlsZQ%3D%3D?line=0'>1</a>\u001b[0m plt\u001b[39m.\u001b[39mfigure(figsize\u001b[39m=\u001b[39m(\u001b[39m8\u001b[39m,\u001b[39m6\u001b[39m))\n\u001b[1;32m----> <a href='vscode-notebook-cell:/d%3A/New%20folder%20%282%29/EDA_AppleAppData.ipynb#Y315sZmlsZQ%3D%3D?line=1'>2</a>\u001b[0m sns\u001b[39m.\u001b[39mheatmap(df\u001b[39m.\u001b[39;49mcorr(), cbar\u001b[39m=\u001b[39m\u001b[39mTrue\u001b[39;00m, cmap\u001b[39m=\u001b[39m\u001b[39m'\u001b[39m\u001b[39mcoolwarm\u001b[39m\u001b[39m'\u001b[39m)\n",
      "File \u001b[1;32mc:\\Users\\asad\\miniconda3\\envs\\python_edv\\Lib\\site-packages\\pandas\\core\\frame.py:10707\u001b[0m, in \u001b[0;36mDataFrame.corr\u001b[1;34m(self, method, min_periods, numeric_only)\u001b[0m\n\u001b[0;32m  10705\u001b[0m cols \u001b[39m=\u001b[39m data\u001b[39m.\u001b[39mcolumns\n\u001b[0;32m  10706\u001b[0m idx \u001b[39m=\u001b[39m cols\u001b[39m.\u001b[39mcopy()\n\u001b[1;32m> 10707\u001b[0m mat \u001b[39m=\u001b[39m data\u001b[39m.\u001b[39;49mto_numpy(dtype\u001b[39m=\u001b[39;49m\u001b[39mfloat\u001b[39;49m, na_value\u001b[39m=\u001b[39;49mnp\u001b[39m.\u001b[39;49mnan, copy\u001b[39m=\u001b[39;49m\u001b[39mFalse\u001b[39;49;00m)\n\u001b[0;32m  10709\u001b[0m \u001b[39mif\u001b[39;00m method \u001b[39m==\u001b[39m \u001b[39m\"\u001b[39m\u001b[39mpearson\u001b[39m\u001b[39m\"\u001b[39m:\n\u001b[0;32m  10710\u001b[0m     correl \u001b[39m=\u001b[39m libalgos\u001b[39m.\u001b[39mnancorr(mat, minp\u001b[39m=\u001b[39mmin_periods)\n",
      "File \u001b[1;32mc:\\Users\\asad\\miniconda3\\envs\\python_edv\\Lib\\site-packages\\pandas\\core\\frame.py:1892\u001b[0m, in \u001b[0;36mDataFrame.to_numpy\u001b[1;34m(self, dtype, copy, na_value)\u001b[0m\n\u001b[0;32m   1890\u001b[0m \u001b[39mif\u001b[39;00m dtype \u001b[39mis\u001b[39;00m \u001b[39mnot\u001b[39;00m \u001b[39mNone\u001b[39;00m:\n\u001b[0;32m   1891\u001b[0m     dtype \u001b[39m=\u001b[39m np\u001b[39m.\u001b[39mdtype(dtype)\n\u001b[1;32m-> 1892\u001b[0m result \u001b[39m=\u001b[39m \u001b[39mself\u001b[39;49m\u001b[39m.\u001b[39;49m_mgr\u001b[39m.\u001b[39;49mas_array(dtype\u001b[39m=\u001b[39;49mdtype, copy\u001b[39m=\u001b[39;49mcopy, na_value\u001b[39m=\u001b[39;49mna_value)\n\u001b[0;32m   1893\u001b[0m \u001b[39mif\u001b[39;00m result\u001b[39m.\u001b[39mdtype \u001b[39mis\u001b[39;00m \u001b[39mnot\u001b[39;00m dtype:\n\u001b[0;32m   1894\u001b[0m     result \u001b[39m=\u001b[39m np\u001b[39m.\u001b[39marray(result, dtype\u001b[39m=\u001b[39mdtype, copy\u001b[39m=\u001b[39m\u001b[39mFalse\u001b[39;00m)\n",
      "File \u001b[1;32mc:\\Users\\asad\\miniconda3\\envs\\python_edv\\Lib\\site-packages\\pandas\\core\\internals\\managers.py:1656\u001b[0m, in \u001b[0;36mBlockManager.as_array\u001b[1;34m(self, dtype, copy, na_value)\u001b[0m\n\u001b[0;32m   1654\u001b[0m         arr\u001b[39m.\u001b[39mflags\u001b[39m.\u001b[39mwriteable \u001b[39m=\u001b[39m \u001b[39mFalse\u001b[39;00m\n\u001b[0;32m   1655\u001b[0m \u001b[39melse\u001b[39;00m:\n\u001b[1;32m-> 1656\u001b[0m     arr \u001b[39m=\u001b[39m \u001b[39mself\u001b[39;49m\u001b[39m.\u001b[39;49m_interleave(dtype\u001b[39m=\u001b[39;49mdtype, na_value\u001b[39m=\u001b[39;49mna_value)\n\u001b[0;32m   1657\u001b[0m     \u001b[39m# The underlying data was copied within _interleave, so no need\u001b[39;00m\n\u001b[0;32m   1658\u001b[0m     \u001b[39m# to further copy if copy=True or setting na_value\u001b[39;00m\n\u001b[0;32m   1660\u001b[0m \u001b[39mif\u001b[39;00m na_value \u001b[39mis\u001b[39;00m lib\u001b[39m.\u001b[39mno_default:\n",
      "File \u001b[1;32mc:\\Users\\asad\\miniconda3\\envs\\python_edv\\Lib\\site-packages\\pandas\\core\\internals\\managers.py:1715\u001b[0m, in \u001b[0;36mBlockManager._interleave\u001b[1;34m(self, dtype, na_value)\u001b[0m\n\u001b[0;32m   1713\u001b[0m     \u001b[39melse\u001b[39;00m:\n\u001b[0;32m   1714\u001b[0m         arr \u001b[39m=\u001b[39m blk\u001b[39m.\u001b[39mget_values(dtype)\n\u001b[1;32m-> 1715\u001b[0m     result[rl\u001b[39m.\u001b[39;49mindexer] \u001b[39m=\u001b[39m arr\n\u001b[0;32m   1716\u001b[0m     itemmask[rl\u001b[39m.\u001b[39mindexer] \u001b[39m=\u001b[39m \u001b[39m1\u001b[39m\n\u001b[0;32m   1718\u001b[0m \u001b[39mif\u001b[39;00m \u001b[39mnot\u001b[39;00m itemmask\u001b[39m.\u001b[39mall():\n",
      "\u001b[1;31mValueError\u001b[0m: could not convert string to float: 'com.hkbu.arc.apaper'"
     ]
    },
    {
     "data": {
      "text/plain": [
       "<Figure size 800x600 with 0 Axes>"
      ]
     },
     "metadata": {},
     "output_type": "display_data"
    }
   ],
   "source": [
    "# plt.figure(figsize=(8,6))\n",
    "# sns.heatmap(df.corr(), cbar=True, cmap='coolwarm')"
   ]
  },
  {
   "cell_type": "markdown",
   "metadata": {},
   "source": [
    "**Figure 13:** Displaying the correlation between the numeric attributes of the dataset\n",
    "\n",
    "- Answer 16: Very few attributes have strong dependence on each other except for 'Average_User_Rating' and 'Current_Version_Score'\n",
    "  \n",
    "---"
   ]
  },
  {
   "cell_type": "markdown",
   "metadata": {},
   "source": [
    "# 7.0 Summary\n",
    "\n",
    "The EDA exercise conducted on the Apple App Store dataset has yielded numerous interesting insights. The dataset was found to be relatively clean and consistent throughout the analysis. We posed several questions to the dataset and provided detailed answers and findings as follows:\n",
    "\n",
    "\n",
    "Q1. What are the top 10 categories with the most downloads from the Apple Store?\\\n",
    "A1: Gaming apps are the most downloaded apps from the store.\n",
    "\n",
    "Q2. What are the top 10 primary genres with the highest average user rating?\\\n",
    "A2: The highest rated primary genres based on average user rating are Weather, Games, Photo & Videos, Music, Books, and References, among others.\n",
    "\n",
    "Q3. Which primary genre has the highest count of paid and free apps?\\\n",
    "A3: The list of free apps includes Games, Business, Education, Utilities, and Lifestyle, while the list of paid apps includes Education, Games, Utilities, Stickers, and Productivity.\n",
    "\n",
    "Q4. What are the top 5 paid apps with the highest ratings?\\\n",
    "A4: The top 5 paid apps with the highest ratings are Super Nano Trucks, FarRock Dodgeball, Money Easy - Expense Tracker, Money Flow - Expense Tracker, and Sketch Ideas.\n",
    "\n",
    "Q5. What are the top 5 free apps with the highest ratings?\\\n",
    "A5: The top 5 free apps with the highest ratings are Rise of Zombie - City Defense, Dog Wheelchairs, Dog App - Breed Scanner, Dojo Login 2, and Dojo Hero.\n",
    "\n",
    "Q6. What are the apps with the highest content rating?\\\n",
    "A6: The apps with the highest content rating are for children, adults, teens, and everyone, with a breakdown based on the count of apps under each category.\n",
    "\n",
    "Q7. In which years were the most apps released?\\\n",
    "A7: The year 2020 saw the highest number of app releases, likely due to the COVID-19 pandemic and more people staying at home.\n",
    "\n",
    "Q8. How does the size of an app in MBs compare to its price?\\\n",
    "A8: We tried to find a correlation between app size and price but found that, except for a few exceptions, the size of the app is irrelevant to the price.\n",
    "\n",
    "Q9. Who are the top 10 app-producing developers?\\\n",
    "A9: The top 10 app-producing developers are ChowNow, Touch2Success, Alexander Velimirovic, MINDBODY, Incorporated, Phorest, OFFLINE MAP TRIP GUIDE LTD, Magzter Inc., ASK Video, RAPID ACCELERATION INDIA PRIVATE LIMITED, and Nonlinear Educating Inc.\n",
    "\n",
    "Q10. What types of genres attract which types of clients in terms of revenue?\\\n",
    "A10: Some interesting points need further analysis and attention, such as what kind of Business & Utilities apps are bought by or for children. It was found that the information stored in the content rating attribute is not very reliable and that there is a possibility that an app is rated for 9+ but is actually an e-book with unsuitable topics.\n",
    "\n",
    "Q11. How do app releases per content rating compare year on year?\\\n",
    "A11: Clearly, the children's category is taking the lead, but as pointed out earlier, the content rating of non-kids apps is also rated under the children's category.\n",
    "\n",
    "Q12. How does user rating compare to price?\\\n",
    "A12: The higher the user rating, the higher the price of the app.\n",
    "\n",
    "Q13. How does user rating compare to MB size?\\\n",
    "A13: The higher the user rating, the larger the size in MB of the app.\n",
    "\n",
    "Q14. How do YoY breakdowns per genre based on app price compare?\\\n",
    "A14: Educational apps contribute more revenue in terms of app sales.\n",
    "\n",
    "Q16. Interdependency of numeric attributes on each other\\\n",
    "Answer 16: Few attributes show strong dependence on each other, except for Average_User_Rating and Current_Version_Score."
   ]
  },
  {
   "cell_type": "markdown",
   "metadata": {},
   "source": [
    "---\n",
    "---"
   ]
  },
  {
   "cell_type": "markdown",
   "metadata": {},
   "source": [
    "### Conclusion & Findings\n",
    "\n",
    "#### The primary goal of this project is to analyze the Apple App Store dataset and identify insights based on the data. By doing so, we aim to project customer dynamics and demands to developers and relevant stakeholders, helping them generate more business for their upcoming applications.\n",
    "\n",
    "\n",
    "> During this EDA exercise, we have achieved several milestones:\n",
    "\n",
    "- We have cleaned the dataset from null values.\n",
    "- No duplications have been found. Although the app names have duplications, they are unique records with different versions, AppIds, and release dates.\n",
    "\n",
    "> Our findings include:\n",
    "\n",
    "- Gaming apps are the most downloaded apps from the store.\n",
    "- The top 10 highest rated primary genres based on average user ratings are Weather, Games, Photo & Videos, Music, and Books.\n",
    "  \n",
    "It is important to note that the information stored in the content rating attribute may not always be reliable. There is a possibility that an app rated for 9+ may contain unsuitable topics, such as e-books."
   ]
  }
 ],
 "metadata": {
  "kernelspec": {
   "display_name": "python_edv",
   "language": "python",
   "name": "python3"
  },
  "language_info": {
   "codemirror_mode": {
    "name": "ipython",
    "version": 3
   },
   "file_extension": ".py",
   "mimetype": "text/x-python",
   "name": "python",
   "nbconvert_exporter": "python",
   "pygments_lexer": "ipython3",
   "version": "3.10.0"
  }
 },
 "nbformat": 4,
 "nbformat_minor": 2
}
