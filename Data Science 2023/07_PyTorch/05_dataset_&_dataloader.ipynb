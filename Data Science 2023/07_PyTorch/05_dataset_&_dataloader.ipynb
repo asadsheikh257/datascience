{
  "nbformat": 4,
  "nbformat_minor": 0,
  "metadata": {
    "colab": {
      "provenance": []
    },
    "kernelspec": {
      "name": "python3",
      "display_name": "Python 3"
    },
    "language_info": {
      "name": "python"
    }
  },
  "cells": [
    {
      "cell_type": "code",
      "execution_count": 1,
      "metadata": {
        "id": "DsinAoYjrI8E"
      },
      "outputs": [],
      "source": [
        "from sklearn.datasets import make_classification\n",
        "import torch"
      ]
    },
    {
      "cell_type": "code",
      "source": [
        "X, y = make_classification(\n",
        "    n_samples=10,\n",
        "    n_features = 2,\n",
        "    n_informative=2,\n",
        "    n_redundant=0,\n",
        "    n_classes=2,\n",
        "    random_state=42\n",
        ")\n",
        "print(X)\n",
        "print('-'*80)\n",
        "print(y)"
      ],
      "metadata": {
        "colab": {
          "base_uri": "https://localhost:8080/"
        },
        "id": "EbF4ADGUsWPk",
        "outputId": "685aa2cb-50d6-4842-e15c-b2b5e325f88a"
      },
      "execution_count": 17,
      "outputs": [
        {
          "output_type": "stream",
          "name": "stdout",
          "text": [
            "[[ 1.06833894 -0.97007347]\n",
            " [-1.14021544 -0.83879234]\n",
            " [-2.8953973   1.97686236]\n",
            " [-0.72063436 -0.96059253]\n",
            " [-1.96287438 -0.99225135]\n",
            " [-0.9382051  -0.54304815]\n",
            " [ 1.72725924 -1.18582677]\n",
            " [ 1.77736657  1.51157598]\n",
            " [ 1.89969252  0.83444483]\n",
            " [-0.58723065 -1.97171753]]\n",
            "--------------------------------------------------------------------------------\n",
            "[1 0 0 0 0 1 1 1 1 0]\n"
          ]
        }
      ]
    },
    {
      "cell_type": "code",
      "source": [
        "X = torch.tensor(X, dtype=torch.float32)\n",
        "y = torch.tensor(y, dtype=torch.long)"
      ],
      "metadata": {
        "colab": {
          "base_uri": "https://localhost:8080/"
        },
        "id": "FLaroQqOskz5",
        "outputId": "fd034af0-1d89-4a07-c0ba-3e69f55e6b94"
      },
      "execution_count": 24,
      "outputs": [
        {
          "output_type": "stream",
          "name": "stderr",
          "text": [
            "<ipython-input-24-b05a7ba812dd>:1: UserWarning: To copy construct from a tensor, it is recommended to use sourceTensor.clone().detach() or sourceTensor.clone().detach().requires_grad_(True), rather than torch.tensor(sourceTensor).\n",
            "  X = torch.tensor(X, dtype=torch.float32)\n",
            "<ipython-input-24-b05a7ba812dd>:2: UserWarning: To copy construct from a tensor, it is recommended to use sourceTensor.clone().detach() or sourceTensor.clone().detach().requires_grad_(True), rather than torch.tensor(sourceTensor).\n",
            "  y = torch.tensor(y, dtype=torch.long)\n"
          ]
        }
      ]
    },
    {
      "cell_type": "code",
      "source": [
        "from torch.utils.data import DataLoader, Dataset"
      ],
      "metadata": {
        "id": "Lv35kSMgtwZ9"
      },
      "execution_count": 25,
      "outputs": []
    },
    {
      "cell_type": "code",
      "source": [
        "class customdataset(Dataset):\n",
        "\n",
        "  def __init__(self, feature, label):\n",
        "    self.features = feature\n",
        "    self.labels = label\n",
        "\n",
        "  def __len__(self):\n",
        "    return len(self.features)\n",
        "\n",
        "  def __getitem__(self, index):\n",
        "    return self.features[index], self.labels[index]\n"
      ],
      "metadata": {
        "id": "TjhIlfC-xzPv"
      },
      "execution_count": 26,
      "outputs": []
    },
    {
      "cell_type": "code",
      "source": [
        "dataset = customdataset(X, y)"
      ],
      "metadata": {
        "id": "JZZwKkwKyQyP"
      },
      "execution_count": 27,
      "outputs": []
    },
    {
      "cell_type": "code",
      "source": [
        "len(dataset)"
      ],
      "metadata": {
        "colab": {
          "base_uri": "https://localhost:8080/"
        },
        "id": "H8KSXKvEyVVp",
        "outputId": "ef2e752f-a6f6-4bfb-91ad-947443917751"
      },
      "execution_count": 28,
      "outputs": [
        {
          "output_type": "execute_result",
          "data": {
            "text/plain": [
              "10"
            ]
          },
          "metadata": {},
          "execution_count": 28
        }
      ]
    },
    {
      "cell_type": "code",
      "source": [
        "dataset[2]"
      ],
      "metadata": {
        "colab": {
          "base_uri": "https://localhost:8080/"
        },
        "id": "TVlexkRCyW93",
        "outputId": "b4094611-0838-43ce-fe90-4e437f6cb77d"
      },
      "execution_count": 29,
      "outputs": [
        {
          "output_type": "execute_result",
          "data": {
            "text/plain": [
              "(tensor([-2.8954,  1.9769]), tensor(0))"
            ]
          },
          "metadata": {},
          "execution_count": 29
        }
      ]
    },
    {
      "cell_type": "code",
      "source": [
        "dataloader = DataLoader(dataset, batch_size=2, shuffle=True)"
      ],
      "metadata": {
        "id": "CyQFQu91yZIP"
      },
      "execution_count": 30,
      "outputs": []
    },
    {
      "cell_type": "code",
      "source": [
        "for batch_feature, batch_label in dataloader:\n",
        "  print(batch_feature)\n",
        "  print(batch_label)\n",
        "  print('-'*50)"
      ],
      "metadata": {
        "colab": {
          "base_uri": "https://localhost:8080/"
        },
        "id": "QADR_H5NymZC",
        "outputId": "3e1415c4-7e0b-4da9-f97e-c51e0a9c9671"
      },
      "execution_count": 31,
      "outputs": [
        {
          "output_type": "stream",
          "name": "stdout",
          "text": [
            "tensor([[ 1.0683, -0.9701],\n",
            "        [-2.8954,  1.9769]])\n",
            "tensor([1, 0])\n",
            "--------------------------------------------------\n",
            "tensor([[-1.1402, -0.8388],\n",
            "        [ 1.7774,  1.5116]])\n",
            "tensor([0, 1])\n",
            "--------------------------------------------------\n",
            "tensor([[-0.5872, -1.9717],\n",
            "        [-0.9382, -0.5430]])\n",
            "tensor([0, 1])\n",
            "--------------------------------------------------\n",
            "tensor([[ 1.7273, -1.1858],\n",
            "        [-0.7206, -0.9606]])\n",
            "tensor([1, 0])\n",
            "--------------------------------------------------\n",
            "tensor([[ 1.8997,  0.8344],\n",
            "        [-1.9629, -0.9923]])\n",
            "tensor([1, 0])\n",
            "--------------------------------------------------\n"
          ]
        }
      ]
    }
  ]
}