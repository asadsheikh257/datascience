{
  "nbformat": 4,
  "nbformat_minor": 0,
  "metadata": {
    "colab": {
      "provenance": []
    },
    "kernelspec": {
      "name": "python3",
      "display_name": "Python 3"
    },
    "language_info": {
      "name": "python"
    }
  },
  "cells": [
    {
      "cell_type": "code",
      "execution_count": 1,
      "metadata": {
        "id": "A9-oMG5PPvmA"
      },
      "outputs": [],
      "source": [
        "import numpy as np\n",
        "import pandas as pd"
      ]
    },
    {
      "cell_type": "code",
      "source": [
        "df = pd.read_csv('/content/100_Unique_QA_Dataset.csv')\n",
        "df.head()"
      ],
      "metadata": {
        "colab": {
          "base_uri": "https://localhost:8080/",
          "height": 206
        },
        "id": "DuRGB8q2QHFV",
        "outputId": "0f387553-575c-4ed9-b492-77e7eda361ac"
      },
      "execution_count": 3,
      "outputs": [
        {
          "output_type": "execute_result",
          "data": {
            "text/plain": [
              "                                          question      answer\n",
              "0                   What is the capital of France?       Paris\n",
              "1                  What is the capital of Germany?      Berlin\n",
              "2               Who wrote 'To Kill a Mockingbird'?  Harper-Lee\n",
              "3  What is the largest planet in our solar system?     Jupiter\n",
              "4   What is the boiling point of water in Celsius?         100"
            ],
            "text/html": [
              "\n",
              "  <div id=\"df-480bcb3d-f17d-4ac2-8439-5946992dc6c5\" class=\"colab-df-container\">\n",
              "    <div>\n",
              "<style scoped>\n",
              "    .dataframe tbody tr th:only-of-type {\n",
              "        vertical-align: middle;\n",
              "    }\n",
              "\n",
              "    .dataframe tbody tr th {\n",
              "        vertical-align: top;\n",
              "    }\n",
              "\n",
              "    .dataframe thead th {\n",
              "        text-align: right;\n",
              "    }\n",
              "</style>\n",
              "<table border=\"1\" class=\"dataframe\">\n",
              "  <thead>\n",
              "    <tr style=\"text-align: right;\">\n",
              "      <th></th>\n",
              "      <th>question</th>\n",
              "      <th>answer</th>\n",
              "    </tr>\n",
              "  </thead>\n",
              "  <tbody>\n",
              "    <tr>\n",
              "      <th>0</th>\n",
              "      <td>What is the capital of France?</td>\n",
              "      <td>Paris</td>\n",
              "    </tr>\n",
              "    <tr>\n",
              "      <th>1</th>\n",
              "      <td>What is the capital of Germany?</td>\n",
              "      <td>Berlin</td>\n",
              "    </tr>\n",
              "    <tr>\n",
              "      <th>2</th>\n",
              "      <td>Who wrote 'To Kill a Mockingbird'?</td>\n",
              "      <td>Harper-Lee</td>\n",
              "    </tr>\n",
              "    <tr>\n",
              "      <th>3</th>\n",
              "      <td>What is the largest planet in our solar system?</td>\n",
              "      <td>Jupiter</td>\n",
              "    </tr>\n",
              "    <tr>\n",
              "      <th>4</th>\n",
              "      <td>What is the boiling point of water in Celsius?</td>\n",
              "      <td>100</td>\n",
              "    </tr>\n",
              "  </tbody>\n",
              "</table>\n",
              "</div>\n",
              "    <div class=\"colab-df-buttons\">\n",
              "\n",
              "  <div class=\"colab-df-container\">\n",
              "    <button class=\"colab-df-convert\" onclick=\"convertToInteractive('df-480bcb3d-f17d-4ac2-8439-5946992dc6c5')\"\n",
              "            title=\"Convert this dataframe to an interactive table.\"\n",
              "            style=\"display:none;\">\n",
              "\n",
              "  <svg xmlns=\"http://www.w3.org/2000/svg\" height=\"24px\" viewBox=\"0 -960 960 960\">\n",
              "    <path d=\"M120-120v-720h720v720H120Zm60-500h600v-160H180v160Zm220 220h160v-160H400v160Zm0 220h160v-160H400v160ZM180-400h160v-160H180v160Zm440 0h160v-160H620v160ZM180-180h160v-160H180v160Zm440 0h160v-160H620v160Z\"/>\n",
              "  </svg>\n",
              "    </button>\n",
              "\n",
              "  <style>\n",
              "    .colab-df-container {\n",
              "      display:flex;\n",
              "      gap: 12px;\n",
              "    }\n",
              "\n",
              "    .colab-df-convert {\n",
              "      background-color: #E8F0FE;\n",
              "      border: none;\n",
              "      border-radius: 50%;\n",
              "      cursor: pointer;\n",
              "      display: none;\n",
              "      fill: #1967D2;\n",
              "      height: 32px;\n",
              "      padding: 0 0 0 0;\n",
              "      width: 32px;\n",
              "    }\n",
              "\n",
              "    .colab-df-convert:hover {\n",
              "      background-color: #E2EBFA;\n",
              "      box-shadow: 0px 1px 2px rgba(60, 64, 67, 0.3), 0px 1px 3px 1px rgba(60, 64, 67, 0.15);\n",
              "      fill: #174EA6;\n",
              "    }\n",
              "\n",
              "    .colab-df-buttons div {\n",
              "      margin-bottom: 4px;\n",
              "    }\n",
              "\n",
              "    [theme=dark] .colab-df-convert {\n",
              "      background-color: #3B4455;\n",
              "      fill: #D2E3FC;\n",
              "    }\n",
              "\n",
              "    [theme=dark] .colab-df-convert:hover {\n",
              "      background-color: #434B5C;\n",
              "      box-shadow: 0px 1px 3px 1px rgba(0, 0, 0, 0.15);\n",
              "      filter: drop-shadow(0px 1px 2px rgba(0, 0, 0, 0.3));\n",
              "      fill: #FFFFFF;\n",
              "    }\n",
              "  </style>\n",
              "\n",
              "    <script>\n",
              "      const buttonEl =\n",
              "        document.querySelector('#df-480bcb3d-f17d-4ac2-8439-5946992dc6c5 button.colab-df-convert');\n",
              "      buttonEl.style.display =\n",
              "        google.colab.kernel.accessAllowed ? 'block' : 'none';\n",
              "\n",
              "      async function convertToInteractive(key) {\n",
              "        const element = document.querySelector('#df-480bcb3d-f17d-4ac2-8439-5946992dc6c5');\n",
              "        const dataTable =\n",
              "          await google.colab.kernel.invokeFunction('convertToInteractive',\n",
              "                                                    [key], {});\n",
              "        if (!dataTable) return;\n",
              "\n",
              "        const docLinkHtml = 'Like what you see? Visit the ' +\n",
              "          '<a target=\"_blank\" href=https://colab.research.google.com/notebooks/data_table.ipynb>data table notebook</a>'\n",
              "          + ' to learn more about interactive tables.';\n",
              "        element.innerHTML = '';\n",
              "        dataTable['output_type'] = 'display_data';\n",
              "        await google.colab.output.renderOutput(dataTable, element);\n",
              "        const docLink = document.createElement('div');\n",
              "        docLink.innerHTML = docLinkHtml;\n",
              "        element.appendChild(docLink);\n",
              "      }\n",
              "    </script>\n",
              "  </div>\n",
              "\n",
              "\n",
              "<div id=\"df-d79bd5d1-d058-4a2f-935f-5365d2a3a050\">\n",
              "  <button class=\"colab-df-quickchart\" onclick=\"quickchart('df-d79bd5d1-d058-4a2f-935f-5365d2a3a050')\"\n",
              "            title=\"Suggest charts\"\n",
              "            style=\"display:none;\">\n",
              "\n",
              "<svg xmlns=\"http://www.w3.org/2000/svg\" height=\"24px\"viewBox=\"0 0 24 24\"\n",
              "     width=\"24px\">\n",
              "    <g>\n",
              "        <path d=\"M19 3H5c-1.1 0-2 .9-2 2v14c0 1.1.9 2 2 2h14c1.1 0 2-.9 2-2V5c0-1.1-.9-2-2-2zM9 17H7v-7h2v7zm4 0h-2V7h2v10zm4 0h-2v-4h2v4z\"/>\n",
              "    </g>\n",
              "</svg>\n",
              "  </button>\n",
              "\n",
              "<style>\n",
              "  .colab-df-quickchart {\n",
              "      --bg-color: #E8F0FE;\n",
              "      --fill-color: #1967D2;\n",
              "      --hover-bg-color: #E2EBFA;\n",
              "      --hover-fill-color: #174EA6;\n",
              "      --disabled-fill-color: #AAA;\n",
              "      --disabled-bg-color: #DDD;\n",
              "  }\n",
              "\n",
              "  [theme=dark] .colab-df-quickchart {\n",
              "      --bg-color: #3B4455;\n",
              "      --fill-color: #D2E3FC;\n",
              "      --hover-bg-color: #434B5C;\n",
              "      --hover-fill-color: #FFFFFF;\n",
              "      --disabled-bg-color: #3B4455;\n",
              "      --disabled-fill-color: #666;\n",
              "  }\n",
              "\n",
              "  .colab-df-quickchart {\n",
              "    background-color: var(--bg-color);\n",
              "    border: none;\n",
              "    border-radius: 50%;\n",
              "    cursor: pointer;\n",
              "    display: none;\n",
              "    fill: var(--fill-color);\n",
              "    height: 32px;\n",
              "    padding: 0;\n",
              "    width: 32px;\n",
              "  }\n",
              "\n",
              "  .colab-df-quickchart:hover {\n",
              "    background-color: var(--hover-bg-color);\n",
              "    box-shadow: 0 1px 2px rgba(60, 64, 67, 0.3), 0 1px 3px 1px rgba(60, 64, 67, 0.15);\n",
              "    fill: var(--button-hover-fill-color);\n",
              "  }\n",
              "\n",
              "  .colab-df-quickchart-complete:disabled,\n",
              "  .colab-df-quickchart-complete:disabled:hover {\n",
              "    background-color: var(--disabled-bg-color);\n",
              "    fill: var(--disabled-fill-color);\n",
              "    box-shadow: none;\n",
              "  }\n",
              "\n",
              "  .colab-df-spinner {\n",
              "    border: 2px solid var(--fill-color);\n",
              "    border-color: transparent;\n",
              "    border-bottom-color: var(--fill-color);\n",
              "    animation:\n",
              "      spin 1s steps(1) infinite;\n",
              "  }\n",
              "\n",
              "  @keyframes spin {\n",
              "    0% {\n",
              "      border-color: transparent;\n",
              "      border-bottom-color: var(--fill-color);\n",
              "      border-left-color: var(--fill-color);\n",
              "    }\n",
              "    20% {\n",
              "      border-color: transparent;\n",
              "      border-left-color: var(--fill-color);\n",
              "      border-top-color: var(--fill-color);\n",
              "    }\n",
              "    30% {\n",
              "      border-color: transparent;\n",
              "      border-left-color: var(--fill-color);\n",
              "      border-top-color: var(--fill-color);\n",
              "      border-right-color: var(--fill-color);\n",
              "    }\n",
              "    40% {\n",
              "      border-color: transparent;\n",
              "      border-right-color: var(--fill-color);\n",
              "      border-top-color: var(--fill-color);\n",
              "    }\n",
              "    60% {\n",
              "      border-color: transparent;\n",
              "      border-right-color: var(--fill-color);\n",
              "    }\n",
              "    80% {\n",
              "      border-color: transparent;\n",
              "      border-right-color: var(--fill-color);\n",
              "      border-bottom-color: var(--fill-color);\n",
              "    }\n",
              "    90% {\n",
              "      border-color: transparent;\n",
              "      border-bottom-color: var(--fill-color);\n",
              "    }\n",
              "  }\n",
              "</style>\n",
              "\n",
              "  <script>\n",
              "    async function quickchart(key) {\n",
              "      const quickchartButtonEl =\n",
              "        document.querySelector('#' + key + ' button');\n",
              "      quickchartButtonEl.disabled = true;  // To prevent multiple clicks.\n",
              "      quickchartButtonEl.classList.add('colab-df-spinner');\n",
              "      try {\n",
              "        const charts = await google.colab.kernel.invokeFunction(\n",
              "            'suggestCharts', [key], {});\n",
              "      } catch (error) {\n",
              "        console.error('Error during call to suggestCharts:', error);\n",
              "      }\n",
              "      quickchartButtonEl.classList.remove('colab-df-spinner');\n",
              "      quickchartButtonEl.classList.add('colab-df-quickchart-complete');\n",
              "    }\n",
              "    (() => {\n",
              "      let quickchartButtonEl =\n",
              "        document.querySelector('#df-d79bd5d1-d058-4a2f-935f-5365d2a3a050 button');\n",
              "      quickchartButtonEl.style.display =\n",
              "        google.colab.kernel.accessAllowed ? 'block' : 'none';\n",
              "    })();\n",
              "  </script>\n",
              "</div>\n",
              "\n",
              "    </div>\n",
              "  </div>\n"
            ],
            "application/vnd.google.colaboratory.intrinsic+json": {
              "type": "dataframe",
              "variable_name": "df",
              "summary": "{\n  \"name\": \"df\",\n  \"rows\": 90,\n  \"fields\": [\n    {\n      \"column\": \"question\",\n      \"properties\": {\n        \"dtype\": \"string\",\n        \"num_unique_values\": 90,\n        \"samples\": [\n          \"What is the currency of China?\",\n          \"What is the capital of Australia?\",\n          \"Who discovered electricity?\"\n        ],\n        \"semantic_type\": \"\",\n        \"description\": \"\"\n      }\n    },\n    {\n      \"column\": \"answer\",\n      \"properties\": {\n        \"dtype\": \"string\",\n        \"num_unique_values\": 85,\n        \"samples\": [\n          \"ChristopherColumbus\",\n          \"Paris\",\n          \"Christmas\"\n        ],\n        \"semantic_type\": \"\",\n        \"description\": \"\"\n      }\n    }\n  ]\n}"
            }
          },
          "metadata": {},
          "execution_count": 3
        }
      ]
    },
    {
      "cell_type": "code",
      "source": [
        "def tokenizer(text):\n",
        "  text = text.lower()\n",
        "  text = text.replace(\"?\",'')\n",
        "  text = text.replace('\"','')\n",
        "  text = text.replace(\"'\",'')\n",
        "  return text.split()"
      ],
      "metadata": {
        "id": "L6aADWhdQObd"
      },
      "execution_count": 9,
      "outputs": []
    },
    {
      "cell_type": "code",
      "source": [
        "tokenizer('What is the capital of France?')"
      ],
      "metadata": {
        "colab": {
          "base_uri": "https://localhost:8080/"
        },
        "id": "MbZJENFyRGoY",
        "outputId": "49192428-4f03-4d4a-c9ef-43cc2e2512a3"
      },
      "execution_count": 11,
      "outputs": [
        {
          "output_type": "execute_result",
          "data": {
            "text/plain": [
              "['what', 'is', 'the', 'capital', 'of', 'france']"
            ]
          },
          "metadata": {},
          "execution_count": 11
        }
      ]
    },
    {
      "cell_type": "code",
      "source": [
        "vocab = {'<UNK>':0}"
      ],
      "metadata": {
        "id": "Z1MO6vHTVPlZ"
      },
      "execution_count": 12,
      "outputs": []
    },
    {
      "cell_type": "code",
      "source": [
        "def build_vocab(row):\n",
        "  tokenized_question = tokenizer(row['question'])\n",
        "  tokenized_answer = tokenizer(row['answer'])\n",
        "\n",
        "  merged_tokens = tokenized_question + tokenized_answer\n",
        "\n",
        "  for token in merged_tokens:\n",
        "    if token not in vocab:\n",
        "      vocab[token] = len(vocab)"
      ],
      "metadata": {
        "id": "GNJI41rWVXut"
      },
      "execution_count": 21,
      "outputs": []
    },
    {
      "cell_type": "code",
      "source": [
        "df.apply(build_vocab, axis=1)"
      ],
      "metadata": {
        "colab": {
          "base_uri": "https://localhost:8080/",
          "height": 458
        },
        "id": "VSgcccrfVzUP",
        "outputId": "21fe98a4-527c-493e-aeeb-d0d63adb1904"
      },
      "execution_count": 22,
      "outputs": [
        {
          "output_type": "execute_result",
          "data": {
            "text/plain": [
              "0     None\n",
              "1     None\n",
              "2     None\n",
              "3     None\n",
              "4     None\n",
              "      ... \n",
              "85    None\n",
              "86    None\n",
              "87    None\n",
              "88    None\n",
              "89    None\n",
              "Length: 90, dtype: object"
            ],
            "text/html": [
              "<div>\n",
              "<style scoped>\n",
              "    .dataframe tbody tr th:only-of-type {\n",
              "        vertical-align: middle;\n",
              "    }\n",
              "\n",
              "    .dataframe tbody tr th {\n",
              "        vertical-align: top;\n",
              "    }\n",
              "\n",
              "    .dataframe thead th {\n",
              "        text-align: right;\n",
              "    }\n",
              "</style>\n",
              "<table border=\"1\" class=\"dataframe\">\n",
              "  <thead>\n",
              "    <tr style=\"text-align: right;\">\n",
              "      <th></th>\n",
              "      <th>0</th>\n",
              "    </tr>\n",
              "  </thead>\n",
              "  <tbody>\n",
              "    <tr>\n",
              "      <th>0</th>\n",
              "      <td>None</td>\n",
              "    </tr>\n",
              "    <tr>\n",
              "      <th>1</th>\n",
              "      <td>None</td>\n",
              "    </tr>\n",
              "    <tr>\n",
              "      <th>2</th>\n",
              "      <td>None</td>\n",
              "    </tr>\n",
              "    <tr>\n",
              "      <th>3</th>\n",
              "      <td>None</td>\n",
              "    </tr>\n",
              "    <tr>\n",
              "      <th>4</th>\n",
              "      <td>None</td>\n",
              "    </tr>\n",
              "    <tr>\n",
              "      <th>...</th>\n",
              "      <td>...</td>\n",
              "    </tr>\n",
              "    <tr>\n",
              "      <th>85</th>\n",
              "      <td>None</td>\n",
              "    </tr>\n",
              "    <tr>\n",
              "      <th>86</th>\n",
              "      <td>None</td>\n",
              "    </tr>\n",
              "    <tr>\n",
              "      <th>87</th>\n",
              "      <td>None</td>\n",
              "    </tr>\n",
              "    <tr>\n",
              "      <th>88</th>\n",
              "      <td>None</td>\n",
              "    </tr>\n",
              "    <tr>\n",
              "      <th>89</th>\n",
              "      <td>None</td>\n",
              "    </tr>\n",
              "  </tbody>\n",
              "</table>\n",
              "<p>90 rows × 1 columns</p>\n",
              "</div><br><label><b>dtype:</b> object</label>"
            ]
          },
          "metadata": {},
          "execution_count": 22
        }
      ]
    },
    {
      "cell_type": "code",
      "source": [
        "len(vocab)"
      ],
      "metadata": {
        "colab": {
          "base_uri": "https://localhost:8080/"
        },
        "id": "gMDmMKpCV3WL",
        "outputId": "63603751-7dfd-4842-bb84-d293e397ee83"
      },
      "execution_count": 23,
      "outputs": [
        {
          "output_type": "execute_result",
          "data": {
            "text/plain": [
              "326"
            ]
          },
          "metadata": {},
          "execution_count": 23
        }
      ]
    },
    {
      "cell_type": "code",
      "source": [
        "def text_to_indices(text, vocab):\n",
        "\n",
        "  index_text = []\n",
        "\n",
        "  for token in tokenizer(text):\n",
        "    if token in vocab:\n",
        "      index_text.append(vocab[token])\n",
        "    else:\n",
        "      index_text.append(vocab['<UNK>'])\n",
        "\n",
        "  return index_text"
      ],
      "metadata": {
        "id": "UmMCCKktXXgl"
      },
      "execution_count": 34,
      "outputs": []
    },
    {
      "cell_type": "code",
      "source": [
        "text_to_indices(\"What is campusx\", vocab)"
      ],
      "metadata": {
        "colab": {
          "base_uri": "https://localhost:8080/"
        },
        "id": "PvIT7x57X8l4",
        "outputId": "51cbe704-65e3-4a3d-816f-c4159b8349e5"
      },
      "execution_count": 37,
      "outputs": [
        {
          "output_type": "execute_result",
          "data": {
            "text/plain": [
              "[3, 4, 0]"
            ]
          },
          "metadata": {},
          "execution_count": 37
        }
      ]
    },
    {
      "cell_type": "code",
      "source": [
        "import torch\n",
        "from torch.utils.data import Dataset, DataLoader"
      ],
      "metadata": {
        "id": "B8X2biwIYvVp"
      },
      "execution_count": 38,
      "outputs": []
    },
    {
      "cell_type": "code",
      "source": [
        "class QADataset(Dataset):\n",
        "\n",
        "  def __init__(self, df, vocab):\n",
        "    self.df = df\n",
        "    self.vocab = vocab\n",
        "\n",
        "  def __len__(self):\n",
        "    return self.df.shape[0]\n",
        "\n",
        "  def __getitem__(self, index):\n",
        "    numerical_question = text_to_indices(self.df.iloc[index]['question'], self.vocab)\n",
        "    numerical_answer = text_to_indices(self.df.iloc[index]['answer'], self.vocab)\n",
        "\n",
        "    return torch.tensor(numerical_question), torch.tensor(numerical_answer)"
      ],
      "metadata": {
        "id": "d4GsRQnrY1A-"
      },
      "execution_count": 39,
      "outputs": []
    },
    {
      "cell_type": "code",
      "source": [
        "dataset = QADataset(df, vocab)"
      ],
      "metadata": {
        "id": "NNuZXsO-Zxlr"
      },
      "execution_count": 40,
      "outputs": []
    },
    {
      "cell_type": "code",
      "source": [
        "dataloader = DataLoader(dataset, batch_size=1, shuffle=True)"
      ],
      "metadata": {
        "id": "L4I2i4_aZ5IG"
      },
      "execution_count": 41,
      "outputs": []
    },
    {
      "cell_type": "code",
      "source": [
        "for question, answer in dataloader:\n",
        "  print(question, answer[0])"
      ],
      "metadata": {
        "colab": {
          "base_uri": "https://localhost:8080/"
        },
        "id": "fsMHsc8jZ_xU",
        "outputId": "25a4b7f7-a979-4f49-8ac8-f912e9da9590"
      },
      "execution_count": 44,
      "outputs": [
        {
          "output_type": "stream",
          "name": "stdout",
          "text": [
            "tensor([[  3,   4,   5,  94, 139,  21,   5,  47]]) tensor([187])\n",
            "tensor([[  3,   4,   5,   6,   7, 208]]) tensor([209])\n",
            "tensor([[ 3,  4,  5, 26, 27,  7, 28, 21, 29]]) tensor([30])\n",
            "tensor([[ 3,  4,  5, 94, 95, 96]]) tensor([97])\n",
            "tensor([[  3,   4,   5, 105,   7, 106,  21, 107]]) tensor([108])\n",
            "tensor([[12, 98,  5, 99]]) tensor([100])\n",
            "tensor([[ 12,   4,  64,  65,   5, 285,   7, 286]]) tensor([287])\n",
            "tensor([[ 12,  77, 113]]) tensor([114])\n",
            "tensor([[ 80,  81, 263, 153,  16, 264, 155]]) tensor([38])\n",
            "tensor([[  3,   4,   5,  35,  36,   7, 247]]) tensor([248])\n",
            "tensor([[ 3,  4,  5,  6,  7, 55]]) tensor([56])\n",
            "tensor([[  3,   4,   5, 236,   7, 237]]) tensor([133])\n",
            "tensor([[  3,   4,   5, 182, 183, 184, 185]]) tensor([186])\n",
            "tensor([[ 12,  13, 191, 160, 192]]) tensor([193])\n",
            "tensor([[ 80,  81, 197,  83,  21,   5, 198, 199, 200]]) tensor([201])\n",
            "tensor([[12, 13, 14, 15, 16, 17]]) tensor([18])\n",
            "tensor([[ 12,  77, 210]]) tensor([211])\n",
            "tensor([[ 80,  81, 131,  83,  21,   5,  23,  24]]) tensor([38])\n",
            "tensor([[ 12, 142,   5, 143, 173,   7,   5,  72, 174]]) tensor([175])\n",
            "tensor([[ 44,  88,  89, 243, 244,  21,  41, 245]]) tensor([246])\n",
            "tensor([[12, 77, 78]]) tensor([79])\n",
            "tensor([[  3,   4,   5, 148, 149,  21, 150]]) tensor([151])\n",
            "tensor([[  3,   4,   5,   6,   7, 111]]) tensor([319])\n",
            "tensor([[  3,   4,   5, 223,   7, 224, 225, 226]]) tensor([227])\n",
            "tensor([[ 12, 142,   5, 143, 144,  14, 145,  85,   5, 146]]) tensor([147])\n",
            "tensor([[  3,  89, 231, 232, 233, 234]]) tensor([235])\n",
            "tensor([[ 44, 139,   4, 140,  41, 141]]) tensor([55])\n",
            "tensor([[ 44, 139, 120,   5, 249,   7, 250]]) tensor([251])\n",
            "tensor([[ 44, 202,   4,  16, 203, 204, 205, 206]]) tensor([207])\n",
            "tensor([[44, 45, 46, 47, 48, 49, 50]]) tensor([51])\n",
            "tensor([[ 3,  4,  5, 61, 27,  7, 28, 21, 62]]) tensor([63])\n",
            "tensor([[ 12,  98,   5, 106, 241]]) tensor([242])\n",
            "tensor([[ 44, 301, 302, 120,  16, 303, 304, 160, 305, 306, 307, 308]]) tensor([309])\n",
            "tensor([[  3,   4,   5, 124, 125,  21,   5,  47]]) tensor([126])\n",
            "tensor([[  3,   4,   5,   6,   7, 101]]) tensor([102])\n",
            "tensor([[80, 81, 82, 83, 84, 85, 86]]) tensor([87])\n",
            "tensor([[ 44, 314,   4, 315,  64,  65,   5, 316, 317]]) tensor([318])\n",
            "tensor([[ 44, 139,   4, 140,  41, 177, 271]]) tensor([101])\n",
            "tensor([[ 44,   4,   5, 276, 213, 277]]) tensor([278])\n",
            "tensor([[44, 20,  4, 64, 65,  5, 66, 20]]) tensor([67])\n",
            "tensor([[ 3,  4,  5, 71,  7, 55]]) tensor([262])\n",
            "tensor([[ 44, 176,   4,  64,  41, 177, 178,  14, 179, 180]]) tensor([181])\n",
            "tensor([[ 44, 109,   4, 110,  21, 111]]) tensor([112])\n",
            "tensor([[ 44, 218, 120, 219, 220,  21,  16, 221,  45]]) tensor([222])\n",
            "tensor([[ 80,  81, 290,  83,  21,  16, 291]]) tensor([87])\n",
            "tensor([[12,  4,  5, 68,  7, 69]]) tensor([70])\n",
            "tensor([[  3,   4,   5, 165, 166, 167,  85,  86]]) tensor([168])\n",
            "tensor([[12, 57,  5, 58,  7, 59]]) tensor([60])\n",
            "tensor([[ 44,   4,   5, 212, 139, 170, 213, 171]]) tensor([115])\n",
            "tensor([[  3,   4,   5,  39, 135,   7,  28]]) tensor([136])\n",
            "tensor([[ 44, 320,   4,  64,  65,   5, 321,   7, 322]]) tensor([323])\n",
            "tensor([[ 44, 127,   4,  64,  65,   5, 128, 129]]) tensor([130])\n",
            "tensor([[ 44,  20, 120,   5, 188, 189]]) tensor([190])\n",
            "tensor([[  3,   4,   5,   6,   7, 238, 239]]) tensor([240])\n",
            "tensor([[ 44, 139,   4, 228,  14,   5, 229, 230]]) tensor([157])\n",
            "tensor([[  3,   4,   5,  39,  40,  41, 163]]) tensor([164])\n",
            "tensor([[ 44,  20,   4,   5, 283,  14,   5, 284]]) tensor([207])\n",
            "tensor([[3, 4, 5, 6, 7, 8]]) tensor([9])\n",
            "tensor([[ 12,  31, 132, 133]]) tensor([134])\n",
            "tensor([[ 3,  4,  5,  6,  7, 10]]) tensor([11])\n",
            "tensor([[ 3,  4,  5,  6,  7, 75]]) tensor([76])\n",
            "tensor([[ 44, 252, 253, 120, 254, 255]]) tensor([256])\n",
            "tensor([[ 44, 119, 120,   5, 121,  96, 122]]) tensor([123])\n",
            "tensor([[  3,   4,   5,   6,   7, 281]]) tensor([282])\n",
            "tensor([[  3,   4,   5, 148,  88,  21, 194, 195]]) tensor([196])\n",
            "tensor([[44, 88, 89, 90, 91, 41, 92]]) tensor([93])\n",
            "tensor([[ 3,  4,  5, 39, 40, 41, 42]]) tensor([43])\n",
            "tensor([[12, 31,  5, 32, 33]]) tensor([34])\n",
            "tensor([[ 44, 257,   4, 258,  85, 259, 260]]) tensor([261])\n",
            "tensor([[ 12,  13, 159, 160, 161]]) tensor([162])\n",
            "tensor([[ 3,  4,  5, 71,  7,  5, 72, 73]]) tensor([74])\n",
            "tensor([[  3,   4,   5, 143, 119,  85,   5, 279, 280]]) tensor([123])\n",
            "tensor([[ 44, 103,   4,   5,  19]]) tensor([104])\n",
            "tensor([[  3,   4,   5,   6,   7, 137]]) tensor([138])\n",
            "tensor([[ 44, 265, 266,  16, 267, 268, 160, 269]]) tensor([270])\n",
            "tensor([[  3,   4,   5,   6,   7, 288]]) tensor([289])\n",
            "tensor([[  3,   4,   5, 214,   7,  16, 215, 216]]) tensor([217])\n",
            "tensor([[  3,   4,   5,  71,   7, 157]]) tensor([158])\n",
            "tensor([[ 80,  81, 152, 153,  16, 154, 155]]) tensor([156])\n",
            "tensor([[ 12,  77,   5, 298,  21, 299]]) tensor([300])\n",
            "tensor([[ 44, 169,   4,   5,  19, 170, 171]]) tensor([172])\n",
            "tensor([[ 12, 310,   5, 311, 312]]) tensor([313])\n",
            "tensor([[  3,   4,   5,  19, 117,  85,  86]]) tensor([118])\n",
            "tensor([[ 3,  4,  5, 19, 20, 21, 22, 23, 24]]) tensor([25])\n",
            "tensor([[  3,   4,   5,   6,   7, 115]]) tensor([116])\n",
            "tensor([[ 44, 139,   4,  64,  41,   5, 324, 325]]) tensor([8])\n",
            "tensor([[ 44, 292, 293, 120, 294, 160, 295, 296]]) tensor([297])\n",
            "tensor([[ 12, 142,   5, 143, 272,  95, 273,   7,   5, 274]]) tensor([275])\n",
            "tensor([[ 3,  4,  5, 52, 53, 21,  5, 47]]) tensor([54])\n",
            "tensor([[ 3,  4,  5, 35, 36,  7, 37]]) tensor([38])\n"
          ]
        }
      ]
    },
    {
      "cell_type": "code",
      "source": [
        "import torch.nn as nn"
      ],
      "metadata": {
        "id": "Cja0MUOPaGT8"
      },
      "execution_count": 45,
      "outputs": []
    },
    {
      "cell_type": "code",
      "source": [
        "class SimpleRNN(nn.Module):\n",
        "\n",
        "  def __init__(self, vocab_size):\n",
        "    super().__init__()\n",
        "    self.embedding = nn.Embedding(vocab_size, embedding_dim=50)\n",
        "    self.rnn = nn.RNN(50, 64, batch_first=True)\n",
        "    self.fc = nn.Linear(64, vocab_size)\n",
        "\n",
        "  def forward(self, question):\n",
        "    embedded_question = self.embedding(question)\n",
        "    hidden, final = self.rnn(embedded_question)\n",
        "    output = self.fc(final.squeeze(0))\n",
        "\n",
        "    return output"
      ],
      "metadata": {
        "id": "FUfyp93DaSb7"
      },
      "execution_count": 51,
      "outputs": []
    },
    {
      "cell_type": "code",
      "source": [
        "learning_rate = 0.001\n",
        "epochs = 20\n",
        "\n",
        "model = SimpleRNN(len(vocab))\n",
        "\n",
        "criterion = nn.CrossEntropyLoss()\n",
        "optimizer = torch.optim.Adam(model.parameters(), lr=learning_rate)"
      ],
      "metadata": {
        "id": "2b7t8-I6bD9d"
      },
      "execution_count": 52,
      "outputs": []
    },
    {
      "cell_type": "code",
      "source": [
        "# training loop\n",
        "\n",
        "for epoch in range(epochs):\n",
        "\n",
        "  total_loss = 0\n",
        "\n",
        "  for question, answer in dataloader:\n",
        "\n",
        "    optimizer.zero_grad()\n",
        "\n",
        "    # forward pass\n",
        "    output = model(question)\n",
        "\n",
        "    # loss -> output shape (1,324) - (1)\n",
        "    loss = criterion(output, answer[0])\n",
        "\n",
        "    # gradients\n",
        "    loss.backward()\n",
        "\n",
        "    # update\n",
        "    optimizer.step()\n",
        "\n",
        "    total_loss = total_loss + loss.item()\n",
        "\n",
        "  print(f\"Epoch: {epoch+1}, Loss: {total_loss:4f}\")"
      ],
      "metadata": {
        "colab": {
          "base_uri": "https://localhost:8080/"
        },
        "id": "DSc0ViVJbdcM",
        "outputId": "3ec761cc-ee20-4701-cd94-eb7e6b796212"
      },
      "execution_count": 53,
      "outputs": [
        {
          "output_type": "stream",
          "name": "stdout",
          "text": [
            "Epoch: 1, Loss: 527.053850\n",
            "Epoch: 2, Loss: 453.849874\n",
            "Epoch: 3, Loss: 373.945892\n",
            "Epoch: 4, Loss: 315.174096\n",
            "Epoch: 5, Loss: 264.251416\n",
            "Epoch: 6, Loss: 214.712472\n",
            "Epoch: 7, Loss: 171.086889\n",
            "Epoch: 8, Loss: 133.552125\n",
            "Epoch: 9, Loss: 102.143108\n",
            "Epoch: 10, Loss: 78.896223\n",
            "Epoch: 11, Loss: 61.202485\n",
            "Epoch: 12, Loss: 48.418018\n",
            "Epoch: 13, Loss: 39.113270\n",
            "Epoch: 14, Loss: 31.619970\n",
            "Epoch: 15, Loss: 25.974737\n",
            "Epoch: 16, Loss: 21.986091\n",
            "Epoch: 17, Loss: 18.712555\n",
            "Epoch: 18, Loss: 15.923685\n",
            "Epoch: 19, Loss: 13.714796\n",
            "Epoch: 20, Loss: 11.778522\n"
          ]
        }
      ]
    },
    {
      "cell_type": "code",
      "source": [
        "def predict(model, question, threshold=0.5):\n",
        "\n",
        "  numerical_question = text_to_indices(question, vocab)\n",
        "\n",
        "  question_tensor = torch.tensor(numerical_question).unsqueeze(0)\n",
        "\n",
        "  output = model(question_tensor)\n",
        "\n",
        "  probs = torch.nn.functional.softmax(output, dim=1)\n",
        "\n",
        "  value, index = torch.max(probs, dim=1)\n",
        "\n",
        "  if value<threshold:\n",
        "    print('I dont know')\n",
        "\n",
        "  print(list(vocab.keys())[index])"
      ],
      "metadata": {
        "id": "8W183Hq1cJB4"
      },
      "execution_count": 54,
      "outputs": []
    },
    {
      "cell_type": "code",
      "source": [
        "predict(model, \"What is the largest planet in our solar system?\")"
      ],
      "metadata": {
        "colab": {
          "base_uri": "https://localhost:8080/"
        },
        "id": "82rrnMuJc4cv",
        "outputId": "1c12b0f4-82f7-43eb-f9d6-b2e621889d2a"
      },
      "execution_count": 55,
      "outputs": [
        {
          "output_type": "stream",
          "name": "stdout",
          "text": [
            "jupiter\n"
          ]
        }
      ]
    }
  ]
}