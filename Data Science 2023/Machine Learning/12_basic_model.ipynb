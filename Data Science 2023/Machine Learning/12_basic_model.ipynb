{
 "cells": [
  {
   "cell_type": "markdown",
   "metadata": {},
   "source": [
    "## **Basic Model using Sklearn**"
   ]
  },
  {
   "cell_type": "code",
   "execution_count": 44,
   "metadata": {},
   "outputs": [],
   "source": [
    "# import libaraires\n",
    "import pandas as pd \n",
    "import numpy as np \n",
    "import matplotlib.pyplot as plt \n",
    "import seaborn as sns \n",
    "from sklearn.model_selection import train_test_split\n",
    "from sklearn.preprocessing import StandardScaler, LabelEncoder, MinMaxScaler\n",
    "from sklearn.linear_model import LinearRegression"
   ]
  },
  {
   "cell_type": "code",
   "execution_count": 45,
   "metadata": {},
   "outputs": [
    {
     "data": {
      "text/html": [
       "<div>\n",
       "<style scoped>\n",
       "    .dataframe tbody tr th:only-of-type {\n",
       "        vertical-align: middle;\n",
       "    }\n",
       "\n",
       "    .dataframe tbody tr th {\n",
       "        vertical-align: top;\n",
       "    }\n",
       "\n",
       "    .dataframe thead th {\n",
       "        text-align: right;\n",
       "    }\n",
       "</style>\n",
       "<table border=\"1\" class=\"dataframe\">\n",
       "  <thead>\n",
       "    <tr style=\"text-align: right;\">\n",
       "      <th></th>\n",
       "      <th>total_bill</th>\n",
       "      <th>tip</th>\n",
       "      <th>sex</th>\n",
       "      <th>smoker</th>\n",
       "      <th>day</th>\n",
       "      <th>time</th>\n",
       "      <th>size</th>\n",
       "    </tr>\n",
       "  </thead>\n",
       "  <tbody>\n",
       "    <tr>\n",
       "      <th>0</th>\n",
       "      <td>16.99</td>\n",
       "      <td>1.01</td>\n",
       "      <td>Female</td>\n",
       "      <td>No</td>\n",
       "      <td>Sun</td>\n",
       "      <td>Dinner</td>\n",
       "      <td>2</td>\n",
       "    </tr>\n",
       "    <tr>\n",
       "      <th>1</th>\n",
       "      <td>10.34</td>\n",
       "      <td>1.66</td>\n",
       "      <td>Male</td>\n",
       "      <td>No</td>\n",
       "      <td>Sun</td>\n",
       "      <td>Dinner</td>\n",
       "      <td>3</td>\n",
       "    </tr>\n",
       "    <tr>\n",
       "      <th>2</th>\n",
       "      <td>21.01</td>\n",
       "      <td>3.50</td>\n",
       "      <td>Male</td>\n",
       "      <td>No</td>\n",
       "      <td>Sun</td>\n",
       "      <td>Dinner</td>\n",
       "      <td>3</td>\n",
       "    </tr>\n",
       "    <tr>\n",
       "      <th>3</th>\n",
       "      <td>23.68</td>\n",
       "      <td>3.31</td>\n",
       "      <td>Male</td>\n",
       "      <td>No</td>\n",
       "      <td>Sun</td>\n",
       "      <td>Dinner</td>\n",
       "      <td>2</td>\n",
       "    </tr>\n",
       "    <tr>\n",
       "      <th>4</th>\n",
       "      <td>24.59</td>\n",
       "      <td>3.61</td>\n",
       "      <td>Female</td>\n",
       "      <td>No</td>\n",
       "      <td>Sun</td>\n",
       "      <td>Dinner</td>\n",
       "      <td>4</td>\n",
       "    </tr>\n",
       "  </tbody>\n",
       "</table>\n",
       "</div>"
      ],
      "text/plain": [
       "   total_bill   tip     sex smoker  day    time  size\n",
       "0       16.99  1.01  Female     No  Sun  Dinner     2\n",
       "1       10.34  1.66    Male     No  Sun  Dinner     3\n",
       "2       21.01  3.50    Male     No  Sun  Dinner     3\n",
       "3       23.68  3.31    Male     No  Sun  Dinner     2\n",
       "4       24.59  3.61  Female     No  Sun  Dinner     4"
      ]
     },
     "execution_count": 45,
     "metadata": {},
     "output_type": "execute_result"
    }
   ],
   "source": [
    "# import dataset\n",
    "df = sns.load_dataset('tips')\n",
    "df.head()"
   ]
  },
  {
   "cell_type": "code",
   "execution_count": 46,
   "metadata": {},
   "outputs": [],
   "source": [
    "# preprocess the data\n",
    "# scaler = StandardScaler()\n",
    "# df[['total_bill', 'tip']] = scaler.fit_transform(df[['total_bill', 'tip']])"
   ]
  },
  {
   "cell_type": "code",
   "execution_count": 47,
   "metadata": {},
   "outputs": [],
   "source": [
    "# seperate the feature X and the target/labels y\n",
    "X = df[['total_bill']]\n",
    "y = df['tip']"
   ]
  },
  {
   "cell_type": "code",
   "execution_count": 48,
   "metadata": {},
   "outputs": [],
   "source": [
    "# train test split the data \n",
    "X_train, X_test, y_train, y_test = train_test_split(X, y, test_size=0.2)"
   ]
  },
  {
   "cell_type": "code",
   "execution_count": 49,
   "metadata": {},
   "outputs": [
    {
     "data": {
      "text/plain": [
       "array([[14.15],\n",
       "       [ 9.78],\n",
       "       [13.  ],\n",
       "       [ 9.94],\n",
       "       [30.06],\n",
       "       [10.34],\n",
       "       [16.99],\n",
       "       [17.89],\n",
       "       [12.02],\n",
       "       [11.17],\n",
       "       [20.08],\n",
       "       [27.28],\n",
       "       [35.83],\n",
       "       [17.47],\n",
       "       [15.98],\n",
       "       [22.75],\n",
       "       [11.87],\n",
       "       [10.34],\n",
       "       [21.01],\n",
       "       [15.77],\n",
       "       [16.27],\n",
       "       [16.45],\n",
       "       [40.55],\n",
       "       [22.76],\n",
       "       [24.06],\n",
       "       [ 7.51],\n",
       "       [ 7.56],\n",
       "       [16.97],\n",
       "       [16.4 ],\n",
       "       [16.82],\n",
       "       [22.42],\n",
       "       [10.33],\n",
       "       [22.49],\n",
       "       [ 7.25],\n",
       "       [13.81],\n",
       "       [16.21],\n",
       "       [16.93],\n",
       "       [26.86],\n",
       "       [ 8.77],\n",
       "       [29.85],\n",
       "       [34.83],\n",
       "       [22.23],\n",
       "       [13.42],\n",
       "       [12.6 ],\n",
       "       [ 5.75],\n",
       "       [20.69],\n",
       "       [13.13],\n",
       "       [35.26],\n",
       "       [14.48],\n",
       "       [19.65],\n",
       "       [15.48],\n",
       "       [16.47],\n",
       "       [11.02],\n",
       "       [13.37],\n",
       "       [50.81],\n",
       "       [13.27],\n",
       "       [17.59],\n",
       "       [ 7.74],\n",
       "       [16.58],\n",
       "       [12.48],\n",
       "       [11.38],\n",
       "       [14.07],\n",
       "       [17.92],\n",
       "       [12.26],\n",
       "       [15.53],\n",
       "       [32.68],\n",
       "       [19.08],\n",
       "       [29.8 ],\n",
       "       [27.2 ],\n",
       "       [32.4 ],\n",
       "       [16.32],\n",
       "       [22.12],\n",
       "       [20.76],\n",
       "       [30.46],\n",
       "       [ 8.35],\n",
       "       [21.7 ],\n",
       "       [11.24],\n",
       "       [15.01],\n",
       "       [24.71],\n",
       "       [12.54],\n",
       "       [11.35],\n",
       "       [12.69],\n",
       "       [38.07],\n",
       "       [20.69],\n",
       "       [15.38],\n",
       "       [13.  ],\n",
       "       [19.77],\n",
       "       [31.27],\n",
       "       [19.81],\n",
       "       [28.44],\n",
       "       [13.94],\n",
       "       [12.43],\n",
       "       [34.65],\n",
       "       [14.26],\n",
       "       [12.76],\n",
       "       [17.92],\n",
       "       [19.44],\n",
       "       [11.69],\n",
       "       [11.61],\n",
       "       [13.16],\n",
       "       [14.31],\n",
       "       [ 8.52],\n",
       "       [18.24],\n",
       "       [15.36],\n",
       "       [14.78],\n",
       "       [38.01],\n",
       "       [20.29],\n",
       "       [16.31],\n",
       "       [10.63],\n",
       "       [12.9 ],\n",
       "       [ 9.55],\n",
       "       [18.15],\n",
       "       [32.83],\n",
       "       [12.74],\n",
       "       [32.9 ],\n",
       "       [16.49],\n",
       "       [13.03],\n",
       "       [20.23],\n",
       "       [21.01],\n",
       "       [18.28],\n",
       "       [21.5 ],\n",
       "       [25.28],\n",
       "       [10.09],\n",
       "       [25.56],\n",
       "       [12.46],\n",
       "       [45.35],\n",
       "       [23.1 ],\n",
       "       [10.33],\n",
       "       [24.01],\n",
       "       [16.29],\n",
       "       [15.04],\n",
       "       [24.52],\n",
       "       [16.43],\n",
       "       [18.26],\n",
       "       [12.66],\n",
       "       [15.95],\n",
       "       [20.45],\n",
       "       [24.27],\n",
       "       [25.71],\n",
       "       [18.35],\n",
       "       [29.03],\n",
       "       [23.68],\n",
       "       [28.17],\n",
       "       [17.26],\n",
       "       [38.73],\n",
       "       [25.89],\n",
       "       [30.4 ],\n",
       "       [17.46],\n",
       "       [31.85],\n",
       "       [15.42],\n",
       "       [34.81],\n",
       "       [18.43],\n",
       "       [15.69],\n",
       "       [20.29],\n",
       "       [39.42],\n",
       "       [15.81],\n",
       "       [10.59],\n",
       "       [ 8.51],\n",
       "       [17.82],\n",
       "       [23.33],\n",
       "       [26.88],\n",
       "       [23.17],\n",
       "       [10.29],\n",
       "       [10.65],\n",
       "       [28.55],\n",
       "       [20.92],\n",
       "       [18.69],\n",
       "       [24.59],\n",
       "       [13.81],\n",
       "       [18.64],\n",
       "       [10.07],\n",
       "       [13.39],\n",
       "       [19.82],\n",
       "       [14.83],\n",
       "       [41.19],\n",
       "       [25.  ],\n",
       "       [11.59],\n",
       "       [27.05],\n",
       "       [28.97],\n",
       "       [20.27],\n",
       "       [ 9.6 ],\n",
       "       [20.53],\n",
       "       [40.17],\n",
       "       [22.82],\n",
       "       [14.73],\n",
       "       [25.21],\n",
       "       [19.49],\n",
       "       [17.51],\n",
       "       [17.81],\n",
       "       [18.78],\n",
       "       [15.69],\n",
       "       [10.77],\n",
       "       [14.  ],\n",
       "       [10.07],\n",
       "       [18.04]])"
      ]
     },
     "execution_count": 49,
     "metadata": {},
     "output_type": "execute_result"
    }
   ],
   "source": [
    "from sklearn.impute import SimpleImputer\n",
    "imputer = SimpleImputer(strategy='mean')\n",
    "imputer.fit_transform(X_train)"
   ]
  },
  {
   "cell_type": "code",
   "execution_count": 50,
   "metadata": {},
   "outputs": [],
   "source": [
    "# call the model \n",
    "model = LinearRegression()"
   ]
  },
  {
   "cell_type": "code",
   "execution_count": 51,
   "metadata": {},
   "outputs": [
    {
     "data": {
      "text/html": [
       "<style>#sk-container-id-2 {color: black;}#sk-container-id-2 pre{padding: 0;}#sk-container-id-2 div.sk-toggleable {background-color: white;}#sk-container-id-2 label.sk-toggleable__label {cursor: pointer;display: block;width: 100%;margin-bottom: 0;padding: 0.3em;box-sizing: border-box;text-align: center;}#sk-container-id-2 label.sk-toggleable__label-arrow:before {content: \"▸\";float: left;margin-right: 0.25em;color: #696969;}#sk-container-id-2 label.sk-toggleable__label-arrow:hover:before {color: black;}#sk-container-id-2 div.sk-estimator:hover label.sk-toggleable__label-arrow:before {color: black;}#sk-container-id-2 div.sk-toggleable__content {max-height: 0;max-width: 0;overflow: hidden;text-align: left;background-color: #f0f8ff;}#sk-container-id-2 div.sk-toggleable__content pre {margin: 0.2em;color: black;border-radius: 0.25em;background-color: #f0f8ff;}#sk-container-id-2 input.sk-toggleable__control:checked~div.sk-toggleable__content {max-height: 200px;max-width: 100%;overflow: auto;}#sk-container-id-2 input.sk-toggleable__control:checked~label.sk-toggleable__label-arrow:before {content: \"▾\";}#sk-container-id-2 div.sk-estimator input.sk-toggleable__control:checked~label.sk-toggleable__label {background-color: #d4ebff;}#sk-container-id-2 div.sk-label input.sk-toggleable__control:checked~label.sk-toggleable__label {background-color: #d4ebff;}#sk-container-id-2 input.sk-hidden--visually {border: 0;clip: rect(1px 1px 1px 1px);clip: rect(1px, 1px, 1px, 1px);height: 1px;margin: -1px;overflow: hidden;padding: 0;position: absolute;width: 1px;}#sk-container-id-2 div.sk-estimator {font-family: monospace;background-color: #f0f8ff;border: 1px dotted black;border-radius: 0.25em;box-sizing: border-box;margin-bottom: 0.5em;}#sk-container-id-2 div.sk-estimator:hover {background-color: #d4ebff;}#sk-container-id-2 div.sk-parallel-item::after {content: \"\";width: 100%;border-bottom: 1px solid gray;flex-grow: 1;}#sk-container-id-2 div.sk-label:hover label.sk-toggleable__label {background-color: #d4ebff;}#sk-container-id-2 div.sk-serial::before {content: \"\";position: absolute;border-left: 1px solid gray;box-sizing: border-box;top: 0;bottom: 0;left: 50%;z-index: 0;}#sk-container-id-2 div.sk-serial {display: flex;flex-direction: column;align-items: center;background-color: white;padding-right: 0.2em;padding-left: 0.2em;position: relative;}#sk-container-id-2 div.sk-item {position: relative;z-index: 1;}#sk-container-id-2 div.sk-parallel {display: flex;align-items: stretch;justify-content: center;background-color: white;position: relative;}#sk-container-id-2 div.sk-item::before, #sk-container-id-2 div.sk-parallel-item::before {content: \"\";position: absolute;border-left: 1px solid gray;box-sizing: border-box;top: 0;bottom: 0;left: 50%;z-index: -1;}#sk-container-id-2 div.sk-parallel-item {display: flex;flex-direction: column;z-index: 1;position: relative;background-color: white;}#sk-container-id-2 div.sk-parallel-item:first-child::after {align-self: flex-end;width: 50%;}#sk-container-id-2 div.sk-parallel-item:last-child::after {align-self: flex-start;width: 50%;}#sk-container-id-2 div.sk-parallel-item:only-child::after {width: 0;}#sk-container-id-2 div.sk-dashed-wrapped {border: 1px dashed gray;margin: 0 0.4em 0.5em 0.4em;box-sizing: border-box;padding-bottom: 0.4em;background-color: white;}#sk-container-id-2 div.sk-label label {font-family: monospace;font-weight: bold;display: inline-block;line-height: 1.2em;}#sk-container-id-2 div.sk-label-container {text-align: center;}#sk-container-id-2 div.sk-container {/* jupyter's `normalize.less` sets `[hidden] { display: none; }` but bootstrap.min.css set `[hidden] { display: none !important; }` so we also need the `!important` here to be able to override the default hidden behavior on the sphinx rendered scikit-learn.org. See: https://github.com/scikit-learn/scikit-learn/issues/21755 */display: inline-block !important;position: relative;}#sk-container-id-2 div.sk-text-repr-fallback {display: none;}</style><div id=\"sk-container-id-2\" class=\"sk-top-container\"><div class=\"sk-text-repr-fallback\"><pre>LinearRegression()</pre><b>In a Jupyter environment, please rerun this cell to show the HTML representation or trust the notebook. <br />On GitHub, the HTML representation is unable to render, please try loading this page with nbviewer.org.</b></div><div class=\"sk-container\" hidden><div class=\"sk-item\"><div class=\"sk-estimator sk-toggleable\"><input class=\"sk-toggleable__control sk-hidden--visually\" id=\"sk-estimator-id-2\" type=\"checkbox\" checked><label for=\"sk-estimator-id-2\" class=\"sk-toggleable__label sk-toggleable__label-arrow\">LinearRegression</label><div class=\"sk-toggleable__content\"><pre>LinearRegression()</pre></div></div></div></div></div>"
      ],
      "text/plain": [
       "LinearRegression()"
      ]
     },
     "execution_count": 51,
     "metadata": {},
     "output_type": "execute_result"
    }
   ],
   "source": [
    "# train the model \n",
    "model.fit(X_train, y_train)"
   ]
  },
  {
   "cell_type": "code",
   "execution_count": 52,
   "metadata": {},
   "outputs": [
    {
     "name": "stderr",
     "output_type": "stream",
     "text": [
      "c:\\Users\\asada\\miniconda3\\envs\\python\\Lib\\site-packages\\sklearn\\base.py:465: UserWarning: X does not have valid feature names, but LinearRegression was fitted with feature names\n",
      "  warnings.warn(\n"
     ]
    },
    {
     "data": {
      "text/plain": [
       "array([2.48856281])"
      ]
     },
     "execution_count": 52,
     "metadata": {},
     "output_type": "execute_result"
    }
   ],
   "source": [
    "model.predict([[15]])"
   ]
  },
  {
   "cell_type": "code",
   "execution_count": 53,
   "metadata": {},
   "outputs": [],
   "source": [
    "# prediction\n",
    "y_pred = model.predict(X_test)"
   ]
  },
  {
   "cell_type": "code",
   "execution_count": 54,
   "metadata": {},
   "outputs": [
    {
     "name": "stdout",
     "output_type": "stream",
     "text": [
      "MSE:  1.3247202763859776\n",
      "R2:  0.4486766201343517\n"
     ]
    }
   ],
   "source": [
    "# evaluation the model\n",
    "from sklearn.metrics import mean_squared_error, r2_score\n",
    "print('MSE: ', mean_squared_error(y_test, y_pred))\n",
    "print('R2: ', r2_score(y_test, y_pred))"
   ]
  },
  {
   "cell_type": "markdown",
   "metadata": {},
   "source": [
    "## Save and load a model"
   ]
  },
  {
   "cell_type": "code",
   "execution_count": 55,
   "metadata": {},
   "outputs": [],
   "source": [
    "# save the model \n",
    "import pickle \n",
    "pickle.dump(model, open('./saved_models/01_model.pkl', 'wb'))"
   ]
  },
  {
   "cell_type": "code",
   "execution_count": 56,
   "metadata": {},
   "outputs": [],
   "source": [
    "# load the model\n",
    "import pickle\n",
    "model_load = pickle.load(open('./saved_models/01_model.pkl', 'rb'))"
   ]
  },
  {
   "cell_type": "code",
   "execution_count": 57,
   "metadata": {},
   "outputs": [
    {
     "name": "stderr",
     "output_type": "stream",
     "text": [
      "c:\\Users\\asada\\miniconda3\\envs\\python\\Lib\\site-packages\\sklearn\\base.py:465: UserWarning: X does not have valid feature names, but LinearRegression was fitted with feature names\n",
      "  warnings.warn(\n"
     ]
    },
    {
     "data": {
      "text/plain": [
       "array([2.48856281])"
      ]
     },
     "execution_count": 57,
     "metadata": {},
     "output_type": "execute_result"
    }
   ],
   "source": [
    "model_load.predict([[15]])"
   ]
  }
 ],
 "metadata": {
  "kernelspec": {
   "display_name": "python",
   "language": "python",
   "name": "python3"
  },
  "language_info": {
   "codemirror_mode": {
    "name": "ipython",
    "version": 3
   },
   "file_extension": ".py",
   "mimetype": "text/x-python",
   "name": "python",
   "nbconvert_exporter": "python",
   "pygments_lexer": "ipython3",
   "version": "3.12.2"
  }
 },
 "nbformat": 4,
 "nbformat_minor": 2
}
