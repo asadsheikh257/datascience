{
  "nbformat": 4,
  "nbformat_minor": 0,
  "metadata": {
    "colab": {
      "provenance": []
    },
    "kernelspec": {
      "name": "python3",
      "display_name": "Python 3"
    },
    "language_info": {
      "name": "python"
    }
  },
  "cells": [
    {
      "cell_type": "code",
      "execution_count": 1,
      "metadata": {
        "colab": {
          "base_uri": "https://localhost:8080/"
        },
        "id": "tN7xdW2ZB5OM",
        "outputId": "05a46128-4a8a-46d6-a3cf-611f1b0a3ceb"
      },
      "outputs": [
        {
          "output_type": "stream",
          "name": "stdout",
          "text": [
            "Requirement already satisfied: nltk in /usr/local/lib/python3.11/dist-packages (3.9.1)\n",
            "Requirement already satisfied: click in /usr/local/lib/python3.11/dist-packages (from nltk) (8.1.8)\n",
            "Requirement already satisfied: joblib in /usr/local/lib/python3.11/dist-packages (from nltk) (1.4.2)\n",
            "Requirement already satisfied: regex>=2021.8.3 in /usr/local/lib/python3.11/dist-packages (from nltk) (2024.11.6)\n",
            "Requirement already satisfied: tqdm in /usr/local/lib/python3.11/dist-packages (from nltk) (4.67.1)\n"
          ]
        }
      ],
      "source": [
        "!pip install nltk"
      ]
    },
    {
      "cell_type": "code",
      "source": [
        "paragraph = '''\n",
        "  Imran Ahmed Khan Niazi[a] (born 5 October 1952) is a Pakistani politician and former cricketer who served as the 19th prime minister of Pakistan from August 2018 until April 2022. He is the founder and former chairman of the political party Pakistan Tehreek-e-Insaf (PTI) from 1996 to 2023. He was the captain of the Pakistan national cricket team throughout the 1980s and early 1990s.\n",
        "\n",
        "Born in Lahore, Khan graduated from Keble College, Oxford. He began his international cricket career in a 1971 Test series against England. Khan played until 1992, served as the team's captain intermittently between 1982 and 1992, and won the 1992 Cricket World Cup, Pakistan's only victory in the competition. Considered one of cricket's greatest all-rounders, Khan was later inducted into the ICC Cricket Hall of Fame.\n",
        "\n",
        "Founding the Pakistan Tehreek-e-Insaf (PTI) in 1996, Khan won a seat in the National Assembly from his hometown of Mianwali, in the 2002 general election. PTI became the second-largest party by popular vote in the 2013 election, and five years later, running on a populist platform, PTI formed a coalition government with independents with Khan as prime minister. Khan's government inherited a balance of payments crisis and sought bailouts from the IMF; he presided over GDP growth after initial contraction, implemented austerity policies and increased tax collection. His government committed to a renewable energy transition, launched the Ehsaas Programme, and the Plant for Pakistan initiative, and expanded the protected areas of Pakistan and Sehat Sahulat Program. He presided over the COVID-19 pandemic, which caused economic turmoil and rising inflation in the country. In April 2022, during a constitutional crisis following the Lettergate affair, Khan became the first Pakistani prime minister to be removed from office through a no-confidence motion.\n",
        "\n",
        "In October that year, on account of the Toshakhana reference case, Khan was disqualified by the Election Commission of Pakistan from taking office for one term of the National Assembly of Pakistan. In November, he survived an assassination attempt during a political rally in Wazirabad. In May 2023, Khan was arrested on corruption charges at the Islamabad High Court by paramilitary troops. Protests broke out throughout Pakistan, some of which escalated into violent riots. Khan was sentenced to a three-year jail term in August 2023 after being found guilty of misusing his premiership to buy and sell gifts in state possession. He was subsequently sentenced to ten years in prison in early 2024 for leaking state secrets and violating the Official Secrets Act in the Lettergate affair, and an additional seven years for breaching Islamic marriage laws with his wife; both of these sentences were overturned in mid-2024. Khan has since been charged on matters related to the 2023 riots, clashes between his supporters and police in September 2024 and in the Al-Qadir Trust case in January 2025, receiving a 14-year sentence.\n",
        "'''"
      ],
      "metadata": {
        "id": "-jsmm6qwCAr4"
      },
      "execution_count": 2,
      "outputs": []
    },
    {
      "cell_type": "code",
      "source": [
        "paragraph"
      ],
      "metadata": {
        "colab": {
          "base_uri": "https://localhost:8080/",
          "height": 140
        },
        "id": "0SeeolReC4Xr",
        "outputId": "19180217-3044-45e4-a4a6-ab457dfd8642"
      },
      "execution_count": 3,
      "outputs": [
        {
          "output_type": "execute_result",
          "data": {
            "text/plain": [
              "\" \\n  Imran Ahmed Khan Niazi[a] (born 5 October 1952) is a Pakistani politician and former cricketer who served as the 19th prime minister of Pakistan from August 2018 until April 2022. He is the founder and former chairman of the political party Pakistan Tehreek-e-Insaf (PTI) from 1996 to 2023. He was the captain of the Pakistan national cricket team throughout the 1980s and early 1990s.\\n\\nBorn in Lahore, Khan graduated from Keble College, Oxford. He began his international cricket career in a 1971 Test series against England. Khan played until 1992, served as the team's captain intermittently between 1982 and 1992, and won the 1992 Cricket World Cup, Pakistan's only victory in the competition. Considered one of cricket's greatest all-rounders, Khan was later inducted into the ICC Cricket Hall of Fame.\\n\\nFounding the Pakistan Tehreek-e-Insaf (PTI) in 1996, Khan won a seat in the National Assembly from his hometown of Mianwali, in the 2002 general election. PTI became the second-largest party by popular vote in the 2013 election, and five years later, running on a populist platform, PTI formed a coalition government with independents with Khan as prime minister. Khan's government inherited a balance of payments crisis and sought bailouts from the IMF; he presided over GDP growth after initial contraction, implemented austerity policies and increased tax collection. His government committed to a renewable energy transition, launched the Ehsaas Programme, and the Plant for Pakistan initiative, and expanded the protected areas of Pakistan and Sehat Sahulat Program. He presided over the COVID-19 pandemic, which caused economic turmoil and rising inflation in the country. In April 2022, during a constitutional crisis following the Lettergate affair, Khan became the first Pakistani prime minister to be removed from office through a no-confidence motion.\\n\\nIn October that year, on account of the Toshakhana reference case, Khan was disqualified by the Election Commission of Pakistan from taking office for one term of the National Assembly of Pakistan. In November, he survived an assassination attempt during a political rally in Wazirabad. In May 2023, Khan was arrested on corruption charges at the Islamabad High Court by paramilitary troops. Protests broke out throughout Pakistan, some of which escalated into violent riots. Khan was sentenced to a three-year jail term in August 2023 after being found guilty of misusing his premiership to buy and sell gifts in state possession. He was subsequently sentenced to ten years in prison in early 2024 for leaking state secrets and violating the Official Secrets Act in the Lettergate affair, and an additional seven years for breaching Islamic marriage laws with his wife; both of these sentences were overturned in mid-2024. Khan has since been charged on matters related to the 2023 riots, clashes between his supporters and police in September 2024 and in the Al-Qadir Trust case in January 2025, receiving a 14-year sentence.\\n\""
            ],
            "application/vnd.google.colaboratory.intrinsic+json": {
              "type": "string"
            }
          },
          "metadata": {},
          "execution_count": 3
        }
      ]
    },
    {
      "cell_type": "code",
      "source": [
        "import nltk\n",
        "from nltk.stem import PorterStemmer\n",
        "from nltk.corpus import stopwords"
      ],
      "metadata": {
        "id": "BmXNkpuJC47T"
      },
      "execution_count": 4,
      "outputs": []
    },
    {
      "cell_type": "code",
      "source": [
        "nltk.download('punkt_tab')"
      ],
      "metadata": {
        "colab": {
          "base_uri": "https://localhost:8080/"
        },
        "id": "AUNaJ9mDGy-f",
        "outputId": "b2d64651-b487-472c-dc63-91146d226d72"
      },
      "execution_count": 7,
      "outputs": [
        {
          "output_type": "stream",
          "name": "stderr",
          "text": [
            "[nltk_data] Downloading package punkt_tab to /root/nltk_data...\n",
            "[nltk_data]   Unzipping tokenizers/punkt_tab.zip.\n"
          ]
        },
        {
          "output_type": "execute_result",
          "data": {
            "text/plain": [
              "True"
            ]
          },
          "metadata": {},
          "execution_count": 7
        }
      ]
    },
    {
      "cell_type": "code",
      "source": [
        "# tokanization-- converting  paragraph-- sentences-- words\n",
        "nltk.download('punkt')\n",
        "sentences = nltk.sent_tokenize(paragraph)"
      ],
      "metadata": {
        "colab": {
          "base_uri": "https://localhost:8080/"
        },
        "id": "1DTpXZKxF8MP",
        "outputId": "6e4e3c63-1dbb-4906-912d-c64ac70be6be"
      },
      "execution_count": 8,
      "outputs": [
        {
          "output_type": "stream",
          "name": "stderr",
          "text": [
            "[nltk_data] Downloading package punkt to /root/nltk_data...\n",
            "[nltk_data]   Package punkt is already up-to-date!\n"
          ]
        }
      ]
    },
    {
      "cell_type": "code",
      "source": [
        "sentences"
      ],
      "metadata": {
        "colab": {
          "base_uri": "https://localhost:8080/"
        },
        "id": "szMCkaUKGRqm",
        "outputId": "9b6dad32-1698-4e31-9e85-2c699259fb63"
      },
      "execution_count": 9,
      "outputs": [
        {
          "output_type": "execute_result",
          "data": {
            "text/plain": [
              "[' \\n  Imran Ahmed Khan Niazi[a] (born 5 October 1952) is a Pakistani politician and former cricketer who served as the 19th prime minister of Pakistan from August 2018 until April 2022.',\n",
              " 'He is the founder and former chairman of the political party Pakistan Tehreek-e-Insaf (PTI) from 1996 to 2023.',\n",
              " 'He was the captain of the Pakistan national cricket team throughout the 1980s and early 1990s.',\n",
              " 'Born in Lahore, Khan graduated from Keble College, Oxford.',\n",
              " 'He began his international cricket career in a 1971 Test series against England.',\n",
              " \"Khan played until 1992, served as the team's captain intermittently between 1982 and 1992, and won the 1992 Cricket World Cup, Pakistan's only victory in the competition.\",\n",
              " \"Considered one of cricket's greatest all-rounders, Khan was later inducted into the ICC Cricket Hall of Fame.\",\n",
              " 'Founding the Pakistan Tehreek-e-Insaf (PTI) in 1996, Khan won a seat in the National Assembly from his hometown of Mianwali, in the 2002 general election.',\n",
              " 'PTI became the second-largest party by popular vote in the 2013 election, and five years later, running on a populist platform, PTI formed a coalition government with independents with Khan as prime minister.',\n",
              " \"Khan's government inherited a balance of payments crisis and sought bailouts from the IMF; he presided over GDP growth after initial contraction, implemented austerity policies and increased tax collection.\",\n",
              " 'His government committed to a renewable energy transition, launched the Ehsaas Programme, and the Plant for Pakistan initiative, and expanded the protected areas of Pakistan and Sehat Sahulat Program.',\n",
              " 'He presided over the COVID-19 pandemic, which caused economic turmoil and rising inflation in the country.',\n",
              " 'In April 2022, during a constitutional crisis following the Lettergate affair, Khan became the first Pakistani prime minister to be removed from office through a no-confidence motion.',\n",
              " 'In October that year, on account of the Toshakhana reference case, Khan was disqualified by the Election Commission of Pakistan from taking office for one term of the National Assembly of Pakistan.',\n",
              " 'In November, he survived an assassination attempt during a political rally in Wazirabad.',\n",
              " 'In May 2023, Khan was arrested on corruption charges at the Islamabad High Court by paramilitary troops.',\n",
              " 'Protests broke out throughout Pakistan, some of which escalated into violent riots.',\n",
              " 'Khan was sentenced to a three-year jail term in August 2023 after being found guilty of misusing his premiership to buy and sell gifts in state possession.',\n",
              " 'He was subsequently sentenced to ten years in prison in early 2024 for leaking state secrets and violating the Official Secrets Act in the Lettergate affair, and an additional seven years for breaching Islamic marriage laws with his wife; both of these sentences were overturned in mid-2024.',\n",
              " 'Khan has since been charged on matters related to the 2023 riots, clashes between his supporters and police in September 2024 and in the Al-Qadir Trust case in January 2025, receiving a 14-year sentence.']"
            ]
          },
          "metadata": {},
          "execution_count": 9
        }
      ]
    },
    {
      "cell_type": "code",
      "source": [
        "stemmer = PorterStemmer()"
      ],
      "metadata": {
        "id": "wqkIXhIiG4TO"
      },
      "execution_count": 10,
      "outputs": []
    },
    {
      "cell_type": "code",
      "source": [
        "stemmer.stem('history')"
      ],
      "metadata": {
        "colab": {
          "base_uri": "https://localhost:8080/",
          "height": 35
        },
        "id": "WheM9s8tHEFA",
        "outputId": "0e3f5335-b9d4-4896-be5c-d81851d7a3ea"
      },
      "execution_count": 12,
      "outputs": [
        {
          "output_type": "execute_result",
          "data": {
            "text/plain": [
              "'histori'"
            ],
            "application/vnd.google.colaboratory.intrinsic+json": {
              "type": "string"
            }
          },
          "metadata": {},
          "execution_count": 12
        }
      ]
    },
    {
      "cell_type": "code",
      "source": [
        "from nltk.stem import WordNetLemmatizer"
      ],
      "metadata": {
        "id": "ug1hedofHGfV"
      },
      "execution_count": 16,
      "outputs": []
    },
    {
      "cell_type": "code",
      "source": [
        "nltk.download('wordnet')"
      ],
      "metadata": {
        "colab": {
          "base_uri": "https://localhost:8080/"
        },
        "id": "TWqMBccaHrtL",
        "outputId": "b2b5af91-b581-4dda-863e-cba531bf0597"
      },
      "execution_count": 19,
      "outputs": [
        {
          "output_type": "stream",
          "name": "stderr",
          "text": [
            "[nltk_data] Downloading package wordnet to /root/nltk_data...\n"
          ]
        },
        {
          "output_type": "execute_result",
          "data": {
            "text/plain": [
              "True"
            ]
          },
          "metadata": {},
          "execution_count": 19
        }
      ]
    },
    {
      "cell_type": "code",
      "source": [
        "lemmatizer = WordNetLemmatizer()"
      ],
      "metadata": {
        "id": "G_KQaZorHRH3"
      },
      "execution_count": 20,
      "outputs": []
    },
    {
      "cell_type": "code",
      "source": [
        "lemmatizer.lemmatize('history')"
      ],
      "metadata": {
        "colab": {
          "base_uri": "https://localhost:8080/",
          "height": 35
        },
        "id": "8VNXCqPTHWh8",
        "outputId": "5dc5c91a-49b0-47c4-b8c1-633e9ad5cf1b"
      },
      "execution_count": 21,
      "outputs": [
        {
          "output_type": "execute_result",
          "data": {
            "text/plain": [
              "'history'"
            ],
            "application/vnd.google.colaboratory.intrinsic+json": {
              "type": "string"
            }
          },
          "metadata": {},
          "execution_count": 21
        }
      ]
    },
    {
      "cell_type": "code",
      "source": [
        "len(sentences)"
      ],
      "metadata": {
        "colab": {
          "base_uri": "https://localhost:8080/"
        },
        "id": "chGbqoIBHaoj",
        "outputId": "7397c9e2-efbb-46ce-9069-f99bfd3e7b69"
      },
      "execution_count": 22,
      "outputs": [
        {
          "output_type": "execute_result",
          "data": {
            "text/plain": [
              "20"
            ]
          },
          "metadata": {},
          "execution_count": 22
        }
      ]
    },
    {
      "cell_type": "code",
      "source": [
        "import re\n",
        "corpus = []\n",
        "for i in range(len(sentences)):\n",
        "  review = re.sub('[^a-zA-Z]', ' ', sentences[i])\n",
        "  review = review.lower()\n",
        "  corpus.append(review)"
      ],
      "metadata": {
        "id": "ku9dANIGH23s"
      },
      "execution_count": 23,
      "outputs": []
    },
    {
      "cell_type": "code",
      "source": [
        "corpus"
      ],
      "metadata": {
        "colab": {
          "base_uri": "https://localhost:8080/"
        },
        "id": "FU-YVEg1IQbS",
        "outputId": "f745d119-a73d-4607-a614-66b9b3f0b2ac"
      },
      "execution_count": 24,
      "outputs": [
        {
          "output_type": "execute_result",
          "data": {
            "text/plain": [
              "['    imran ahmed khan niazi a   born   october       is a pakistani politician and former cricketer who served as the   th prime minister of pakistan from august      until april      ',\n",
              " 'he is the founder and former chairman of the political party pakistan tehreek e insaf  pti  from      to      ',\n",
              " 'he was the captain of the pakistan national cricket team throughout the     s and early     s ',\n",
              " 'born in lahore  khan graduated from keble college  oxford ',\n",
              " 'he began his international cricket career in a      test series against england ',\n",
              " 'khan played until       served as the team s captain intermittently between      and       and won the      cricket world cup  pakistan s only victory in the competition ',\n",
              " 'considered one of cricket s greatest all rounders  khan was later inducted into the icc cricket hall of fame ',\n",
              " 'founding the pakistan tehreek e insaf  pti  in       khan won a seat in the national assembly from his hometown of mianwali  in the      general election ',\n",
              " 'pti became the second largest party by popular vote in the      election  and five years later  running on a populist platform  pti formed a coalition government with independents with khan as prime minister ',\n",
              " 'khan s government inherited a balance of payments crisis and sought bailouts from the imf  he presided over gdp growth after initial contraction  implemented austerity policies and increased tax collection ',\n",
              " 'his government committed to a renewable energy transition  launched the ehsaas programme  and the plant for pakistan initiative  and expanded the protected areas of pakistan and sehat sahulat program ',\n",
              " 'he presided over the covid    pandemic  which caused economic turmoil and rising inflation in the country ',\n",
              " 'in april       during a constitutional crisis following the lettergate affair  khan became the first pakistani prime minister to be removed from office through a no confidence motion ',\n",
              " 'in october that year  on account of the toshakhana reference case  khan was disqualified by the election commission of pakistan from taking office for one term of the national assembly of pakistan ',\n",
              " 'in november  he survived an assassination attempt during a political rally in wazirabad ',\n",
              " 'in may       khan was arrested on corruption charges at the islamabad high court by paramilitary troops ',\n",
              " 'protests broke out throughout pakistan  some of which escalated into violent riots ',\n",
              " 'khan was sentenced to a three year jail term in august      after being found guilty of misusing his premiership to buy and sell gifts in state possession ',\n",
              " 'he was subsequently sentenced to ten years in prison in early      for leaking state secrets and violating the official secrets act in the lettergate affair  and an additional seven years for breaching islamic marriage laws with his wife  both of these sentences were overturned in mid      ',\n",
              " 'khan has since been charged on matters related to the      riots  clashes between his supporters and police in september      and in the al qadir trust case in january       receiving a    year sentence ']"
            ]
          },
          "metadata": {},
          "execution_count": 24
        }
      ]
    },
    {
      "cell_type": "code",
      "source": [
        "nltk.download('stopwords')"
      ],
      "metadata": {
        "colab": {
          "base_uri": "https://localhost:8080/"
        },
        "id": "n-Qizwr5JBVf",
        "outputId": "67d82107-50e8-4c39-9373-b42ea547dcee"
      },
      "execution_count": 26,
      "outputs": [
        {
          "output_type": "stream",
          "name": "stderr",
          "text": [
            "[nltk_data] Downloading package stopwords to /root/nltk_data...\n",
            "[nltk_data]   Unzipping corpora/stopwords.zip.\n"
          ]
        },
        {
          "output_type": "execute_result",
          "data": {
            "text/plain": [
              "True"
            ]
          },
          "metadata": {},
          "execution_count": 26
        }
      ]
    },
    {
      "cell_type": "code",
      "source": [
        "for i in sentences:\n",
        "  words = nltk.word_tokenize(i)\n",
        "  for word in words:\n",
        "    if word not in set(stopwords.words('english')):\n",
        "      print(stemmer.stem(word))"
      ],
      "metadata": {
        "colab": {
          "base_uri": "https://localhost:8080/"
        },
        "id": "gwRBwIC3IRca",
        "outputId": "522b7f70-3a9a-4ff3-bbd2-131f5659af79"
      },
      "execution_count": 27,
      "outputs": [
        {
          "output_type": "stream",
          "name": "stdout",
          "text": [
            "imran\n",
            "ahm\n",
            "khan\n",
            "niazi\n",
            "[\n",
            "]\n",
            "(\n",
            "born\n",
            "5\n",
            "octob\n",
            "1952\n",
            ")\n",
            "pakistani\n",
            "politician\n",
            "former\n",
            "cricket\n",
            "serv\n",
            "19th\n",
            "prime\n",
            "minist\n",
            "pakistan\n",
            "august\n",
            "2018\n",
            "april\n",
            "2022\n",
            ".\n",
            "he\n",
            "founder\n",
            "former\n",
            "chairman\n",
            "polit\n",
            "parti\n",
            "pakistan\n",
            "tehreek-e-insaf\n",
            "(\n",
            "pti\n",
            ")\n",
            "1996\n",
            "2023\n",
            ".\n",
            "he\n",
            "captain\n",
            "pakistan\n",
            "nation\n",
            "cricket\n",
            "team\n",
            "throughout\n",
            "1980\n",
            "earli\n",
            "1990\n",
            ".\n",
            "born\n",
            "lahor\n",
            ",\n",
            "khan\n",
            "graduat\n",
            "kebl\n",
            "colleg\n",
            ",\n",
            "oxford\n",
            ".\n",
            "he\n",
            "began\n",
            "intern\n",
            "cricket\n",
            "career\n",
            "1971\n",
            "test\n",
            "seri\n",
            "england\n",
            ".\n",
            "khan\n",
            "play\n",
            "1992\n",
            ",\n",
            "serv\n",
            "team\n",
            "'s\n",
            "captain\n",
            "intermitt\n",
            "1982\n",
            "1992\n",
            ",\n",
            "1992\n",
            "cricket\n",
            "world\n",
            "cup\n",
            ",\n",
            "pakistan\n",
            "'s\n",
            "victori\n",
            "competit\n",
            ".\n",
            "consid\n",
            "one\n",
            "cricket\n",
            "'s\n",
            "greatest\n",
            "all-round\n",
            ",\n",
            "khan\n",
            "later\n",
            "induct\n",
            "icc\n",
            "cricket\n",
            "hall\n",
            "fame\n",
            ".\n",
            "found\n",
            "pakistan\n",
            "tehreek-e-insaf\n",
            "(\n",
            "pti\n",
            ")\n",
            "1996\n",
            ",\n",
            "khan\n",
            "seat\n",
            "nation\n",
            "assembl\n",
            "hometown\n",
            "mianwali\n",
            ",\n",
            "2002\n",
            "gener\n",
            "elect\n",
            ".\n",
            "pti\n",
            "becam\n",
            "second-largest\n",
            "parti\n",
            "popular\n",
            "vote\n",
            "2013\n",
            "elect\n",
            ",\n",
            "five\n",
            "year\n",
            "later\n",
            ",\n",
            "run\n",
            "populist\n",
            "platform\n",
            ",\n",
            "pti\n",
            "form\n",
            "coalit\n",
            "govern\n",
            "independ\n",
            "khan\n",
            "prime\n",
            "minist\n",
            ".\n",
            "khan\n",
            "'s\n",
            "govern\n",
            "inherit\n",
            "balanc\n",
            "payment\n",
            "crisi\n",
            "sought\n",
            "bailout\n",
            "imf\n",
            ";\n",
            "presid\n",
            "gdp\n",
            "growth\n",
            "initi\n",
            "contract\n",
            ",\n",
            "implement\n",
            "auster\n",
            "polici\n",
            "increas\n",
            "tax\n",
            "collect\n",
            ".\n",
            "hi\n",
            "govern\n",
            "commit\n",
            "renew\n",
            "energi\n",
            "transit\n",
            ",\n",
            "launch\n",
            "ehsaa\n",
            "programm\n",
            ",\n",
            "plant\n",
            "pakistan\n",
            "initi\n",
            ",\n",
            "expand\n",
            "protect\n",
            "area\n",
            "pakistan\n",
            "sehat\n",
            "sahulat\n",
            "program\n",
            ".\n",
            "he\n",
            "presid\n",
            "covid-19\n",
            "pandem\n",
            ",\n",
            "caus\n",
            "econom\n",
            "turmoil\n",
            "rise\n",
            "inflat\n",
            "countri\n",
            ".\n",
            "in\n",
            "april\n",
            "2022\n",
            ",\n",
            "constitut\n",
            "crisi\n",
            "follow\n",
            "letterg\n",
            "affair\n",
            ",\n",
            "khan\n",
            "becam\n",
            "first\n",
            "pakistani\n",
            "prime\n",
            "minist\n",
            "remov\n",
            "offic\n",
            "no-confid\n",
            "motion\n",
            ".\n",
            "in\n",
            "octob\n",
            "year\n",
            ",\n",
            "account\n",
            "toshakhana\n",
            "refer\n",
            "case\n",
            ",\n",
            "khan\n",
            "disqualifi\n",
            "elect\n",
            "commiss\n",
            "pakistan\n",
            "take\n",
            "offic\n",
            "one\n",
            "term\n",
            "nation\n",
            "assembl\n",
            "pakistan\n",
            ".\n",
            "in\n",
            "novemb\n",
            ",\n",
            "surviv\n",
            "assassin\n",
            "attempt\n",
            "polit\n",
            "ralli\n",
            "wazirabad\n",
            ".\n",
            "in\n",
            "may\n",
            "2023\n",
            ",\n",
            "khan\n",
            "arrest\n",
            "corrupt\n",
            "charg\n",
            "islamabad\n",
            "high\n",
            "court\n",
            "paramilitari\n",
            "troop\n",
            ".\n",
            "protest\n",
            "broke\n",
            "throughout\n",
            "pakistan\n",
            ",\n",
            "escal\n",
            "violent\n",
            "riot\n",
            ".\n",
            "khan\n",
            "sentenc\n",
            "three-year\n",
            "jail\n",
            "term\n",
            "august\n",
            "2023\n",
            "found\n",
            "guilti\n",
            "misus\n",
            "premiership\n",
            "buy\n",
            "sell\n",
            "gift\n",
            "state\n",
            "possess\n",
            ".\n",
            "he\n",
            "subsequ\n",
            "sentenc\n",
            "ten\n",
            "year\n",
            "prison\n",
            "earli\n",
            "2024\n",
            "leak\n",
            "state\n",
            "secret\n",
            "violat\n",
            "offici\n",
            "secret\n",
            "act\n",
            "letterg\n",
            "affair\n",
            ",\n",
            "addit\n",
            "seven\n",
            "year\n",
            "breach\n",
            "islam\n",
            "marriag\n",
            "law\n",
            "wife\n",
            ";\n",
            "sentenc\n",
            "overturn\n",
            "mid-2024\n",
            ".\n",
            "khan\n",
            "sinc\n",
            "charg\n",
            "matter\n",
            "relat\n",
            "2023\n",
            "riot\n",
            ",\n",
            "clash\n",
            "support\n",
            "polic\n",
            "septemb\n",
            "2024\n",
            "al-qadir\n",
            "trust\n",
            "case\n",
            "januari\n",
            "2025\n",
            ",\n",
            "receiv\n",
            "14-year\n",
            "sentenc\n",
            ".\n"
          ]
        }
      ]
    },
    {
      "cell_type": "code",
      "source": [
        "# apply stopwords lemmatization\n",
        "import re\n",
        "corpus = []\n",
        "for i in range(len(sentences)):\n",
        "  review = re.sub('[^a-zA-Z]', ' ', sentences[i])\n",
        "  review = review.lower()\n",
        "  review = review.split()\n",
        "  review = [lemmatizer.lemmatize(word) for word in review if not word in set(stopwords.words('english'))]\n",
        "  review = ' '.join(review)\n",
        "  corpus.append(review)"
      ],
      "metadata": {
        "id": "yeoO62fLJ24X"
      },
      "execution_count": 36,
      "outputs": []
    },
    {
      "cell_type": "code",
      "source": [
        "from sklearn.feature_extraction.text import CountVectorizer"
      ],
      "metadata": {
        "id": "th7LhAOEI3dm"
      },
      "execution_count": 37,
      "outputs": []
    },
    {
      "cell_type": "code",
      "source": [
        "cv = CountVectorizer()"
      ],
      "metadata": {
        "id": "hRyzRwuyJS1u"
      },
      "execution_count": 38,
      "outputs": []
    },
    {
      "cell_type": "code",
      "source": [
        "x = cv.fit_transform(corpus)"
      ],
      "metadata": {
        "id": "JOzxbEQEJUm2"
      },
      "execution_count": 39,
      "outputs": []
    },
    {
      "cell_type": "code",
      "source": [
        "cv.vocabulary_"
      ],
      "metadata": {
        "colab": {
          "base_uri": "https://localhost:8080/"
        },
        "id": "e0C1FLxWJXpt",
        "outputId": "cb0da21b-9496-4f6e-c0c1-8ed7ced25ffe"
      },
      "execution_count": 40,
      "outputs": [
        {
          "output_type": "execute_result",
          "data": {
            "text/plain": [
              "{'imran': 80,\n",
              " 'ahmed': 4,\n",
              " 'khan': 96,\n",
              " 'niazi': 113,\n",
              " 'born': 18,\n",
              " 'october': 115,\n",
              " 'pakistani': 122,\n",
              " 'politician': 133,\n",
              " 'former': 62,\n",
              " 'cricketer': 45,\n",
              " 'served': 167,\n",
              " 'th': 182,\n",
              " 'prime': 139,\n",
              " 'minister': 109,\n",
              " 'pakistan': 121,\n",
              " 'august': 12,\n",
              " 'april': 6,\n",
              " 'founder': 64,\n",
              " 'chairman': 26,\n",
              " 'political': 132,\n",
              " 'party': 125,\n",
              " 'tehreek': 178,\n",
              " 'insaf': 88,\n",
              " 'pti': 145,\n",
              " 'captain': 22,\n",
              " 'national': 112,\n",
              " 'cricket': 44,\n",
              " 'team': 177,\n",
              " 'throughout': 184,\n",
              " 'early': 49,\n",
              " 'lahore': 97,\n",
              " 'graduated': 70,\n",
              " 'keble': 95,\n",
              " 'college': 32,\n",
              " 'oxford': 120,\n",
              " 'began': 17,\n",
              " 'international': 90,\n",
              " 'career': 23,\n",
              " 'test': 181,\n",
              " 'series': 166,\n",
              " 'england': 54,\n",
              " 'played': 129,\n",
              " 'intermittently': 89,\n",
              " 'world': 196,\n",
              " 'cup': 47,\n",
              " 'victory': 190,\n",
              " 'competition': 35,\n",
              " 'considered': 37,\n",
              " 'one': 118,\n",
              " 'greatest': 71,\n",
              " 'rounder': 155,\n",
              " 'later': 99,\n",
              " 'inducted': 83,\n",
              " 'icc': 77,\n",
              " 'hall': 74,\n",
              " 'fame': 57,\n",
              " 'founding': 65,\n",
              " 'seat': 158,\n",
              " 'assembly': 10,\n",
              " 'hometown': 76,\n",
              " 'mianwali': 107,\n",
              " 'general': 67,\n",
              " 'election': 52,\n",
              " 'became': 16,\n",
              " 'second': 159,\n",
              " 'largest': 98,\n",
              " 'popular': 134,\n",
              " 'vote': 193,\n",
              " 'five': 59,\n",
              " 'year': 197,\n",
              " 'running': 156,\n",
              " 'populist': 135,\n",
              " 'platform': 128,\n",
              " 'formed': 61,\n",
              " 'coalition': 30,\n",
              " 'government': 69,\n",
              " 'independent': 82,\n",
              " 'inherited': 85,\n",
              " 'balance': 15,\n",
              " 'payment': 126,\n",
              " 'crisis': 46,\n",
              " 'sought': 170,\n",
              " 'bailouts': 14,\n",
              " 'imf': 78,\n",
              " 'presided': 138,\n",
              " 'gdp': 66,\n",
              " 'growth': 72,\n",
              " 'initial': 86,\n",
              " 'contraction': 39,\n",
              " 'implemented': 79,\n",
              " 'austerity': 13,\n",
              " 'policy': 131,\n",
              " 'increased': 81,\n",
              " 'tax': 176,\n",
              " 'collection': 31,\n",
              " 'committed': 34,\n",
              " 'renewable': 152,\n",
              " 'energy': 53,\n",
              " 'transition': 186,\n",
              " 'launched': 100,\n",
              " 'ehsaas': 51,\n",
              " 'programme': 142,\n",
              " 'plant': 127,\n",
              " 'initiative': 87,\n",
              " 'expanded': 56,\n",
              " 'protected': 143,\n",
              " 'area': 7,\n",
              " 'sehat': 161,\n",
              " 'sahulat': 157,\n",
              " 'program': 141,\n",
              " 'covid': 43,\n",
              " 'pandemic': 123,\n",
              " 'caused': 25,\n",
              " 'economic': 50,\n",
              " 'turmoil': 189,\n",
              " 'rising': 154,\n",
              " 'inflation': 84,\n",
              " 'country': 41,\n",
              " 'constitutional': 38,\n",
              " 'following': 60,\n",
              " 'lettergate': 103,\n",
              " 'affair': 3,\n",
              " 'first': 58,\n",
              " 'removed': 151,\n",
              " 'office': 116,\n",
              " 'confidence': 36,\n",
              " 'motion': 111,\n",
              " 'account': 0,\n",
              " 'toshakhana': 185,\n",
              " 'reference': 149,\n",
              " 'case': 24,\n",
              " 'disqualified': 48,\n",
              " 'commission': 33,\n",
              " 'taking': 175,\n",
              " 'term': 180,\n",
              " 'november': 114,\n",
              " 'survived': 174,\n",
              " 'assassination': 9,\n",
              " 'attempt': 11,\n",
              " 'rally': 147,\n",
              " 'wazirabad': 194,\n",
              " 'may': 106,\n",
              " 'arrested': 8,\n",
              " 'corruption': 40,\n",
              " 'charge': 27,\n",
              " 'islamabad': 91,\n",
              " 'high': 75,\n",
              " 'court': 42,\n",
              " 'paramilitary': 124,\n",
              " 'troop': 187,\n",
              " 'protest': 144,\n",
              " 'broke': 20,\n",
              " 'escalated': 55,\n",
              " 'violent': 192,\n",
              " 'riot': 153,\n",
              " 'sentenced': 164,\n",
              " 'three': 183,\n",
              " 'jail': 93,\n",
              " 'found': 63,\n",
              " 'guilty': 73,\n",
              " 'misusing': 110,\n",
              " 'premiership': 137,\n",
              " 'buy': 21,\n",
              " 'sell': 162,\n",
              " 'gift': 68,\n",
              " 'state': 171,\n",
              " 'possession': 136,\n",
              " 'subsequently': 172,\n",
              " 'ten': 179,\n",
              " 'prison': 140,\n",
              " 'leaking': 102,\n",
              " 'secret': 160,\n",
              " 'violating': 191,\n",
              " 'official': 117,\n",
              " 'act': 1,\n",
              " 'additional': 2,\n",
              " 'seven': 168,\n",
              " 'breaching': 19,\n",
              " 'islamic': 92,\n",
              " 'marriage': 104,\n",
              " 'law': 101,\n",
              " 'wife': 195,\n",
              " 'sentence': 163,\n",
              " 'overturned': 119,\n",
              " 'mid': 108,\n",
              " 'since': 169,\n",
              " 'charged': 28,\n",
              " 'matter': 105,\n",
              " 'related': 150,\n",
              " 'clash': 29,\n",
              " 'supporter': 173,\n",
              " 'police': 130,\n",
              " 'september': 165,\n",
              " 'al': 5,\n",
              " 'qadir': 146,\n",
              " 'trust': 188,\n",
              " 'january': 94,\n",
              " 'receiving': 148}"
            ]
          },
          "metadata": {},
          "execution_count": 40
        }
      ]
    },
    {
      "cell_type": "code",
      "source": [
        "x[0].toarray()"
      ],
      "metadata": {
        "colab": {
          "base_uri": "https://localhost:8080/"
        },
        "id": "ASBpsp98JejN",
        "outputId": "d41fe3e2-8e97-4d80-c8be-9688d795bd86"
      },
      "execution_count": 41,
      "outputs": [
        {
          "output_type": "execute_result",
          "data": {
            "text/plain": [
              "array([[0, 0, 0, 0, 1, 0, 1, 0, 0, 0, 0, 0, 1, 0, 0, 0, 0, 0, 1, 0, 0, 0,\n",
              "        0, 0, 0, 0, 0, 0, 0, 0, 0, 0, 0, 0, 0, 0, 0, 0, 0, 0, 0, 0, 0, 0,\n",
              "        0, 1, 0, 0, 0, 0, 0, 0, 0, 0, 0, 0, 0, 0, 0, 0, 0, 0, 1, 0, 0, 0,\n",
              "        0, 0, 0, 0, 0, 0, 0, 0, 0, 0, 0, 0, 0, 0, 1, 0, 0, 0, 0, 0, 0, 0,\n",
              "        0, 0, 0, 0, 0, 0, 0, 0, 1, 0, 0, 0, 0, 0, 0, 0, 0, 0, 0, 0, 0, 1,\n",
              "        0, 0, 0, 1, 0, 1, 0, 0, 0, 0, 0, 1, 1, 0, 0, 0, 0, 0, 0, 0, 0, 0,\n",
              "        0, 1, 0, 0, 0, 0, 0, 1, 0, 0, 0, 0, 0, 0, 0, 0, 0, 0, 0, 0, 0, 0,\n",
              "        0, 0, 0, 0, 0, 0, 0, 0, 0, 0, 0, 0, 0, 1, 0, 0, 0, 0, 0, 0, 0, 0,\n",
              "        0, 0, 0, 0, 0, 0, 1, 0, 0, 0, 0, 0, 0, 0, 0, 0, 0, 0, 0, 0, 0, 0]])"
            ]
          },
          "metadata": {},
          "execution_count": 41
        }
      ]
    },
    {
      "cell_type": "code",
      "source": [],
      "metadata": {
        "id": "Nuvw8q1FJnAI"
      },
      "execution_count": null,
      "outputs": []
    }
  ]
}