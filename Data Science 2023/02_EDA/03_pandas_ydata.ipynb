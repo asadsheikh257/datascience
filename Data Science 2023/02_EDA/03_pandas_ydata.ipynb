{
 "cells": [
  {
   "cell_type": "markdown",
   "metadata": {},
   "source": [
    "# **Automatic EDA using ydata_profiling**"
   ]
  },
  {
   "cell_type": "code",
   "execution_count": 2,
   "metadata": {},
   "outputs": [],
   "source": [
    "# import the libraries\n",
    "\n",
    "import pandas as pd\n",
    "import numpy as np\n",
    "import seaborn as sns\n",
    "import ydata_profiling as yd\n",
    "import matplotlib.pyplot as plt"
   ]
  },
  {
   "cell_type": "code",
   "execution_count": 2,
   "metadata": {},
   "outputs": [],
   "source": [
    "# import the data\n",
    "\n",
    "df = sns.load_dataset('titanic')\n"
   ]
  },
  {
   "cell_type": "code",
   "execution_count": 5,
   "metadata": {},
   "outputs": [
    {
     "name": "stderr",
     "output_type": "stream",
     "text": [
      "Summarize dataset:   0%|          | 0/5 [00:00<?, ?it/s]"
     ]
    },
    {
     "name": "stderr",
     "output_type": "stream",
     "text": [
      "Summarize dataset: 100%|██████████| 41/41 [00:08<00:00,  4.56it/s, Completed]                    \n",
      "Generate report structure: 100%|██████████| 1/1 [00:10<00:00, 10.53s/it]\n",
      "Render HTML: 100%|██████████| 1/1 [00:02<00:00,  2.48s/it]\n",
      "Export report to file: 100%|██████████| 1/1 [00:00<00:00, 103.64it/s]\n"
     ]
    }
   ],
   "source": [
    "# ydata profile report\n",
    "\n",
    "profile = yd.ProfileReport(df)\n",
    "profile.to_file(output_file='./outputs/titanic_ydata_profiling.html')"
   ]
  },
  {
   "cell_type": "code",
   "execution_count": 6,
   "metadata": {},
   "outputs": [
    {
     "name": "stderr",
     "output_type": "stream",
     "text": [
      "Summarize dataset: 100%|██████████| 319/319 [01:42<00:00,  3.13it/s, Completed]                                                     \n",
      "Generate report structure: 100%|██████████| 1/1 [00:24<00:00, 24.16s/it]\n",
      "Render HTML: 100%|██████████| 1/1 [00:21<00:00, 21.73s/it]\n",
      "Export report to file: 100%|██████████| 1/1 [00:00<00:00,  3.53it/s]\n"
     ]
    }
   ],
   "source": [
    "pop = yd.ProfileReport(pd.read_csv('data.csv'))\n",
    "pop.to_file(output_file='./outputs/population.html')"
   ]
  }
 ],
 "metadata": {
  "kernelspec": {
   "display_name": "ydata_profiling",
   "language": "python",
   "name": "python3"
  },
  "language_info": {
   "codemirror_mode": {
    "name": "ipython",
    "version": 3
   },
   "file_extension": ".py",
   "mimetype": "text/x-python",
   "name": "python",
   "nbconvert_exporter": "python",
   "pygments_lexer": "ipython3",
   "version": "3.10.0"
  }
 },
 "nbformat": 4,
 "nbformat_minor": 2
}
