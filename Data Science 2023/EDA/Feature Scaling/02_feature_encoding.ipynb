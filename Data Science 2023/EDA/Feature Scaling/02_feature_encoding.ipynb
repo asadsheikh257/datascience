{
 "cells": [
  {
   "cell_type": "markdown",
   "metadata": {},
   "source": [
    "# Feature Encoding"
   ]
  },
  {
   "cell_type": "markdown",
   "metadata": {},
   "source": [
    "## **1. One Hot Encoding**"
   ]
  },
  {
   "cell_type": "code",
   "execution_count": 3,
   "metadata": {},
   "outputs": [
    {
     "name": "stdout",
     "output_type": "stream",
     "text": [
      "   color\n",
      "0    Red\n",
      "1  Green\n",
      "2   Blue\n",
      "3    Red\n",
      "   color_Blue  color_Green  color_Red\n",
      "0       False        False       True\n",
      "1       False         True      False\n",
      "2        True        False      False\n",
      "3       False        False       True\n"
     ]
    }
   ],
   "source": [
    "import pandas as pd\n",
    "\n",
    "data = {'color' : ['Red', 'Green', 'Blue', 'Red']}\n",
    "df = pd.DataFrame(data)\n",
    "print(df)\n",
    "\n",
    "encoded_data = pd.get_dummies(df, columns=['color'])\n",
    "print(encoded_data)"
   ]
  },
  {
   "cell_type": "markdown",
   "metadata": {},
   "source": [
    "## **2. Label Encoding**"
   ]
  },
  {
   "cell_type": "code",
   "execution_count": 4,
   "metadata": {},
   "outputs": [
    {
     "name": "stdout",
     "output_type": "stream",
     "text": [
      "  animal  animal_encoder\n",
      "0    Dog               1\n",
      "1    Cat               0\n",
      "2  Tiger               2\n",
      "3    Dog               1\n"
     ]
    }
   ],
   "source": [
    "from sklearn.preprocessing import LabelEncoder\n",
    "\n",
    "data = {'animal': ['Dog', 'Cat', 'Tiger', 'Dog']}\n",
    "df = pd.DataFrame(data)\n",
    "\n",
    "label_encoder = LabelEncoder()\n",
    "df['animal_encoder'] =label_encoder.fit_transform(df['animal'])\n",
    "\n",
    "print(df)"
   ]
  },
  {
   "cell_type": "markdown",
   "metadata": {},
   "source": [
    "## **3. Ordinal Encoder**"
   ]
  },
  {
   "cell_type": "code",
   "execution_count": 7,
   "metadata": {},
   "outputs": [
    {
     "name": "stdout",
     "output_type": "stream",
     "text": [
      "     size\n",
      "0   small\n",
      "1  medium\n",
      "2   large\n",
      "3  medium\n",
      "     size  size_encoder\n",
      "0   small           0.0\n",
      "1  medium           1.0\n",
      "2   large           2.0\n",
      "3  medium           1.0\n"
     ]
    }
   ],
   "source": [
    "from sklearn.preprocessing import OrdinalEncoder\n",
    "\n",
    "data = {'size': ['small', 'medium', 'large', 'medium']}\n",
    "df = pd.DataFrame(data)\n",
    "print(df)\n",
    "\n",
    "# ordinal encoding\n",
    "ordinal_encoder = OrdinalEncoder(categories=[['small', 'medium', 'large']])\n",
    "df['size_encoder'] = ordinal_encoder.fit_transform(df[['size']])\n",
    "\n",
    "print(df)"
   ]
  }
 ],
 "metadata": {
  "kernelspec": {
   "display_name": "python",
   "language": "python",
   "name": "python3"
  },
  "language_info": {
   "codemirror_mode": {
    "name": "ipython",
    "version": 3
   },
   "file_extension": ".py",
   "mimetype": "text/x-python",
   "name": "python",
   "nbconvert_exporter": "python",
   "pygments_lexer": "ipython3",
   "version": "3.12.0"
  }
 },
 "nbformat": 4,
 "nbformat_minor": 2
}
